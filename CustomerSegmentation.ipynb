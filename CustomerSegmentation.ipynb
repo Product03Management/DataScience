{
 "cells": [
  {
   "cell_type": "markdown",
   "metadata": {},
   "source": [
    "# Problem Statement:\n",
    "#Customer Segmentation\n",
    "#Help an Automobile company to enter the new market for their existing products. Using Data Science,\n",
    "#Help this company to segment the customer appropriately and then predict the potential customer."
   ]
  },
  {
   "cell_type": "code",
   "execution_count": 1,
   "metadata": {},
   "outputs": [
    {
     "data": {
      "text/plain": [
       "'F:\\\\2020\\\\Hackathon\\\\Code\\\\5.CustomerSegmentation'"
      ]
     },
     "execution_count": 1,
     "metadata": {},
     "output_type": "execute_result"
    }
   ],
   "source": [
    "#Check the current working Diectory:\n",
    "import os\n",
    "os.getcwd()"
   ]
  },
  {
   "cell_type": "code",
   "execution_count": 2,
   "metadata": {},
   "outputs": [],
   "source": [
    "#Load the required libraries:\n",
    "import pandas as pd\n",
    "import numpy as np\n",
    "import matplotlib.pyplot as plt\n",
    "import seaborn as sns\n",
    "%matplotlib inline"
   ]
  },
  {
   "cell_type": "code",
   "execution_count": 3,
   "metadata": {},
   "outputs": [],
   "source": [
    "#Load the train and test data:\n",
    "train_data = pd.read_csv(\"train.csv\")\n",
    "test_data = pd.read_csv(\"test.csv\")"
   ]
  },
  {
   "cell_type": "raw",
   "metadata": {},
   "source": [
    "#We would perform the Exploratory Data Analysis(EDA):"
   ]
  },
  {
   "cell_type": "raw",
   "metadata": {},
   "source": [
    "<a>. Check the Header and Footer\n",
    "<b>. Check the dimension\n",
    "<c>. Check the type of attributes and convert into approriate terms\n",
    "<d>. Check the summary of the dataset\n",
    "<e>. Separate the Categorical and Numerical data \n",
    "<f>. Check the Outliers and do treatment\n",
    "<g>. Check the Missing values and their treatment\n",
    "<h>. Numerical data go for feature scaling\n",
    "<i>. Categorical data go for the Dummifications\n",
    "<j>. find the target column\n",
    "<k>. find the target distribution\n",
    "<l>. Model Building"
   ]
  },
  {
   "cell_type": "code",
   "execution_count": 4,
   "metadata": {},
   "outputs": [
    {
     "data": {
      "text/html": [
       "<div>\n",
       "<style scoped>\n",
       "    .dataframe tbody tr th:only-of-type {\n",
       "        vertical-align: middle;\n",
       "    }\n",
       "\n",
       "    .dataframe tbody tr th {\n",
       "        vertical-align: top;\n",
       "    }\n",
       "\n",
       "    .dataframe thead th {\n",
       "        text-align: right;\n",
       "    }\n",
       "</style>\n",
       "<table border=\"1\" class=\"dataframe\">\n",
       "  <thead>\n",
       "    <tr style=\"text-align: right;\">\n",
       "      <th></th>\n",
       "      <th>ID</th>\n",
       "      <th>Gender</th>\n",
       "      <th>Ever_Married</th>\n",
       "      <th>Age</th>\n",
       "      <th>Graduated</th>\n",
       "      <th>Profession</th>\n",
       "      <th>Work_Experience</th>\n",
       "      <th>Spending_Score</th>\n",
       "      <th>Family_Size</th>\n",
       "      <th>Var_1</th>\n",
       "      <th>Segmentation</th>\n",
       "    </tr>\n",
       "  </thead>\n",
       "  <tbody>\n",
       "    <tr>\n",
       "      <th>0</th>\n",
       "      <td>462809</td>\n",
       "      <td>Male</td>\n",
       "      <td>No</td>\n",
       "      <td>22</td>\n",
       "      <td>No</td>\n",
       "      <td>Healthcare</td>\n",
       "      <td>1.0</td>\n",
       "      <td>Low</td>\n",
       "      <td>4.0</td>\n",
       "      <td>Cat_4</td>\n",
       "      <td>D</td>\n",
       "    </tr>\n",
       "    <tr>\n",
       "      <th>1</th>\n",
       "      <td>462643</td>\n",
       "      <td>Female</td>\n",
       "      <td>Yes</td>\n",
       "      <td>38</td>\n",
       "      <td>Yes</td>\n",
       "      <td>Engineer</td>\n",
       "      <td>NaN</td>\n",
       "      <td>Average</td>\n",
       "      <td>3.0</td>\n",
       "      <td>Cat_4</td>\n",
       "      <td>A</td>\n",
       "    </tr>\n",
       "    <tr>\n",
       "      <th>2</th>\n",
       "      <td>466315</td>\n",
       "      <td>Female</td>\n",
       "      <td>Yes</td>\n",
       "      <td>67</td>\n",
       "      <td>Yes</td>\n",
       "      <td>Engineer</td>\n",
       "      <td>1.0</td>\n",
       "      <td>Low</td>\n",
       "      <td>1.0</td>\n",
       "      <td>Cat_6</td>\n",
       "      <td>B</td>\n",
       "    </tr>\n",
       "    <tr>\n",
       "      <th>3</th>\n",
       "      <td>461735</td>\n",
       "      <td>Male</td>\n",
       "      <td>Yes</td>\n",
       "      <td>67</td>\n",
       "      <td>Yes</td>\n",
       "      <td>Lawyer</td>\n",
       "      <td>0.0</td>\n",
       "      <td>High</td>\n",
       "      <td>2.0</td>\n",
       "      <td>Cat_6</td>\n",
       "      <td>B</td>\n",
       "    </tr>\n",
       "    <tr>\n",
       "      <th>4</th>\n",
       "      <td>462669</td>\n",
       "      <td>Female</td>\n",
       "      <td>Yes</td>\n",
       "      <td>40</td>\n",
       "      <td>Yes</td>\n",
       "      <td>Entertainment</td>\n",
       "      <td>NaN</td>\n",
       "      <td>High</td>\n",
       "      <td>6.0</td>\n",
       "      <td>Cat_6</td>\n",
       "      <td>A</td>\n",
       "    </tr>\n",
       "  </tbody>\n",
       "</table>\n",
       "</div>"
      ],
      "text/plain": [
       "       ID  Gender Ever_Married  Age Graduated     Profession  Work_Experience  \\\n",
       "0  462809    Male           No   22        No     Healthcare              1.0   \n",
       "1  462643  Female          Yes   38       Yes       Engineer              NaN   \n",
       "2  466315  Female          Yes   67       Yes       Engineer              1.0   \n",
       "3  461735    Male          Yes   67       Yes         Lawyer              0.0   \n",
       "4  462669  Female          Yes   40       Yes  Entertainment              NaN   \n",
       "\n",
       "  Spending_Score  Family_Size  Var_1 Segmentation  \n",
       "0            Low          4.0  Cat_4            D  \n",
       "1        Average          3.0  Cat_4            A  \n",
       "2            Low          1.0  Cat_6            B  \n",
       "3           High          2.0  Cat_6            B  \n",
       "4           High          6.0  Cat_6            A  "
      ]
     },
     "execution_count": 4,
     "metadata": {},
     "output_type": "execute_result"
    }
   ],
   "source": [
    "#Check the header for train data:\n",
    "train_data.head()"
   ]
  },
  {
   "cell_type": "code",
   "execution_count": 5,
   "metadata": {},
   "outputs": [
    {
     "data": {
      "text/html": [
       "<div>\n",
       "<style scoped>\n",
       "    .dataframe tbody tr th:only-of-type {\n",
       "        vertical-align: middle;\n",
       "    }\n",
       "\n",
       "    .dataframe tbody tr th {\n",
       "        vertical-align: top;\n",
       "    }\n",
       "\n",
       "    .dataframe thead th {\n",
       "        text-align: right;\n",
       "    }\n",
       "</style>\n",
       "<table border=\"1\" class=\"dataframe\">\n",
       "  <thead>\n",
       "    <tr style=\"text-align: right;\">\n",
       "      <th></th>\n",
       "      <th>ID</th>\n",
       "      <th>Gender</th>\n",
       "      <th>Ever_Married</th>\n",
       "      <th>Age</th>\n",
       "      <th>Graduated</th>\n",
       "      <th>Profession</th>\n",
       "      <th>Work_Experience</th>\n",
       "      <th>Spending_Score</th>\n",
       "      <th>Family_Size</th>\n",
       "      <th>Var_1</th>\n",
       "    </tr>\n",
       "  </thead>\n",
       "  <tbody>\n",
       "    <tr>\n",
       "      <th>0</th>\n",
       "      <td>458989</td>\n",
       "      <td>Female</td>\n",
       "      <td>Yes</td>\n",
       "      <td>36</td>\n",
       "      <td>Yes</td>\n",
       "      <td>Engineer</td>\n",
       "      <td>0.0</td>\n",
       "      <td>Low</td>\n",
       "      <td>1.0</td>\n",
       "      <td>Cat_6</td>\n",
       "    </tr>\n",
       "    <tr>\n",
       "      <th>1</th>\n",
       "      <td>458994</td>\n",
       "      <td>Male</td>\n",
       "      <td>Yes</td>\n",
       "      <td>37</td>\n",
       "      <td>Yes</td>\n",
       "      <td>Healthcare</td>\n",
       "      <td>8.0</td>\n",
       "      <td>Average</td>\n",
       "      <td>4.0</td>\n",
       "      <td>Cat_6</td>\n",
       "    </tr>\n",
       "    <tr>\n",
       "      <th>2</th>\n",
       "      <td>458996</td>\n",
       "      <td>Female</td>\n",
       "      <td>Yes</td>\n",
       "      <td>69</td>\n",
       "      <td>No</td>\n",
       "      <td>NaN</td>\n",
       "      <td>0.0</td>\n",
       "      <td>Low</td>\n",
       "      <td>1.0</td>\n",
       "      <td>Cat_6</td>\n",
       "    </tr>\n",
       "    <tr>\n",
       "      <th>3</th>\n",
       "      <td>459000</td>\n",
       "      <td>Male</td>\n",
       "      <td>Yes</td>\n",
       "      <td>59</td>\n",
       "      <td>No</td>\n",
       "      <td>Executive</td>\n",
       "      <td>11.0</td>\n",
       "      <td>High</td>\n",
       "      <td>2.0</td>\n",
       "      <td>Cat_6</td>\n",
       "    </tr>\n",
       "    <tr>\n",
       "      <th>4</th>\n",
       "      <td>459001</td>\n",
       "      <td>Female</td>\n",
       "      <td>No</td>\n",
       "      <td>19</td>\n",
       "      <td>No</td>\n",
       "      <td>Marketing</td>\n",
       "      <td>NaN</td>\n",
       "      <td>Low</td>\n",
       "      <td>4.0</td>\n",
       "      <td>Cat_6</td>\n",
       "    </tr>\n",
       "  </tbody>\n",
       "</table>\n",
       "</div>"
      ],
      "text/plain": [
       "       ID  Gender Ever_Married  Age Graduated  Profession  Work_Experience  \\\n",
       "0  458989  Female          Yes   36       Yes    Engineer              0.0   \n",
       "1  458994    Male          Yes   37       Yes  Healthcare              8.0   \n",
       "2  458996  Female          Yes   69        No         NaN              0.0   \n",
       "3  459000    Male          Yes   59        No   Executive             11.0   \n",
       "4  459001  Female           No   19        No   Marketing              NaN   \n",
       "\n",
       "  Spending_Score  Family_Size  Var_1  \n",
       "0            Low          1.0  Cat_6  \n",
       "1        Average          4.0  Cat_6  \n",
       "2            Low          1.0  Cat_6  \n",
       "3           High          2.0  Cat_6  \n",
       "4            Low          4.0  Cat_6  "
      ]
     },
     "execution_count": 5,
     "metadata": {},
     "output_type": "execute_result"
    }
   ],
   "source": [
    "#Check the header for test data:\n",
    "test_data.head()"
   ]
  },
  {
   "cell_type": "code",
   "execution_count": 6,
   "metadata": {},
   "outputs": [],
   "source": [
    "#Test data has no \"Segmentation\" column so \"Segmentation\" is the \"Target or Label Column\":"
   ]
  },
  {
   "cell_type": "code",
   "execution_count": 7,
   "metadata": {},
   "outputs": [
    {
     "data": {
      "text/html": [
       "<div>\n",
       "<style scoped>\n",
       "    .dataframe tbody tr th:only-of-type {\n",
       "        vertical-align: middle;\n",
       "    }\n",
       "\n",
       "    .dataframe tbody tr th {\n",
       "        vertical-align: top;\n",
       "    }\n",
       "\n",
       "    .dataframe thead th {\n",
       "        text-align: right;\n",
       "    }\n",
       "</style>\n",
       "<table border=\"1\" class=\"dataframe\">\n",
       "  <thead>\n",
       "    <tr style=\"text-align: right;\">\n",
       "      <th></th>\n",
       "      <th>ID</th>\n",
       "      <th>Gender</th>\n",
       "      <th>Ever_Married</th>\n",
       "      <th>Age</th>\n",
       "      <th>Graduated</th>\n",
       "      <th>Profession</th>\n",
       "      <th>Work_Experience</th>\n",
       "      <th>Spending_Score</th>\n",
       "      <th>Family_Size</th>\n",
       "      <th>Var_1</th>\n",
       "      <th>Segmentation</th>\n",
       "    </tr>\n",
       "  </thead>\n",
       "  <tbody>\n",
       "    <tr>\n",
       "      <th>8063</th>\n",
       "      <td>464018</td>\n",
       "      <td>Male</td>\n",
       "      <td>No</td>\n",
       "      <td>22</td>\n",
       "      <td>No</td>\n",
       "      <td>NaN</td>\n",
       "      <td>0.0</td>\n",
       "      <td>Low</td>\n",
       "      <td>7.0</td>\n",
       "      <td>Cat_1</td>\n",
       "      <td>D</td>\n",
       "    </tr>\n",
       "    <tr>\n",
       "      <th>8064</th>\n",
       "      <td>464685</td>\n",
       "      <td>Male</td>\n",
       "      <td>No</td>\n",
       "      <td>35</td>\n",
       "      <td>No</td>\n",
       "      <td>Executive</td>\n",
       "      <td>3.0</td>\n",
       "      <td>Low</td>\n",
       "      <td>4.0</td>\n",
       "      <td>Cat_4</td>\n",
       "      <td>D</td>\n",
       "    </tr>\n",
       "    <tr>\n",
       "      <th>8065</th>\n",
       "      <td>465406</td>\n",
       "      <td>Female</td>\n",
       "      <td>No</td>\n",
       "      <td>33</td>\n",
       "      <td>Yes</td>\n",
       "      <td>Healthcare</td>\n",
       "      <td>1.0</td>\n",
       "      <td>Low</td>\n",
       "      <td>1.0</td>\n",
       "      <td>Cat_6</td>\n",
       "      <td>D</td>\n",
       "    </tr>\n",
       "    <tr>\n",
       "      <th>8066</th>\n",
       "      <td>467299</td>\n",
       "      <td>Female</td>\n",
       "      <td>No</td>\n",
       "      <td>27</td>\n",
       "      <td>Yes</td>\n",
       "      <td>Healthcare</td>\n",
       "      <td>1.0</td>\n",
       "      <td>Low</td>\n",
       "      <td>4.0</td>\n",
       "      <td>Cat_6</td>\n",
       "      <td>B</td>\n",
       "    </tr>\n",
       "    <tr>\n",
       "      <th>8067</th>\n",
       "      <td>461879</td>\n",
       "      <td>Male</td>\n",
       "      <td>Yes</td>\n",
       "      <td>37</td>\n",
       "      <td>Yes</td>\n",
       "      <td>Executive</td>\n",
       "      <td>0.0</td>\n",
       "      <td>Average</td>\n",
       "      <td>3.0</td>\n",
       "      <td>Cat_4</td>\n",
       "      <td>B</td>\n",
       "    </tr>\n",
       "  </tbody>\n",
       "</table>\n",
       "</div>"
      ],
      "text/plain": [
       "          ID  Gender Ever_Married  Age Graduated  Profession  Work_Experience  \\\n",
       "8063  464018    Male           No   22        No         NaN              0.0   \n",
       "8064  464685    Male           No   35        No   Executive              3.0   \n",
       "8065  465406  Female           No   33       Yes  Healthcare              1.0   \n",
       "8066  467299  Female           No   27       Yes  Healthcare              1.0   \n",
       "8067  461879    Male          Yes   37       Yes   Executive              0.0   \n",
       "\n",
       "     Spending_Score  Family_Size  Var_1 Segmentation  \n",
       "8063            Low          7.0  Cat_1            D  \n",
       "8064            Low          4.0  Cat_4            D  \n",
       "8065            Low          1.0  Cat_6            D  \n",
       "8066            Low          4.0  Cat_6            B  \n",
       "8067        Average          3.0  Cat_4            B  "
      ]
     },
     "execution_count": 7,
     "metadata": {},
     "output_type": "execute_result"
    }
   ],
   "source": [
    "#Check the tail for the train Data:\n",
    "train_data.tail()"
   ]
  },
  {
   "cell_type": "code",
   "execution_count": 8,
   "metadata": {},
   "outputs": [
    {
     "data": {
      "text/html": [
       "<div>\n",
       "<style scoped>\n",
       "    .dataframe tbody tr th:only-of-type {\n",
       "        vertical-align: middle;\n",
       "    }\n",
       "\n",
       "    .dataframe tbody tr th {\n",
       "        vertical-align: top;\n",
       "    }\n",
       "\n",
       "    .dataframe thead th {\n",
       "        text-align: right;\n",
       "    }\n",
       "</style>\n",
       "<table border=\"1\" class=\"dataframe\">\n",
       "  <thead>\n",
       "    <tr style=\"text-align: right;\">\n",
       "      <th></th>\n",
       "      <th>ID</th>\n",
       "      <th>Gender</th>\n",
       "      <th>Ever_Married</th>\n",
       "      <th>Age</th>\n",
       "      <th>Graduated</th>\n",
       "      <th>Profession</th>\n",
       "      <th>Work_Experience</th>\n",
       "      <th>Spending_Score</th>\n",
       "      <th>Family_Size</th>\n",
       "      <th>Var_1</th>\n",
       "    </tr>\n",
       "  </thead>\n",
       "  <tbody>\n",
       "    <tr>\n",
       "      <th>2622</th>\n",
       "      <td>467954</td>\n",
       "      <td>Male</td>\n",
       "      <td>No</td>\n",
       "      <td>29</td>\n",
       "      <td>No</td>\n",
       "      <td>Healthcare</td>\n",
       "      <td>9.0</td>\n",
       "      <td>Low</td>\n",
       "      <td>4.0</td>\n",
       "      <td>Cat_6</td>\n",
       "    </tr>\n",
       "    <tr>\n",
       "      <th>2623</th>\n",
       "      <td>467958</td>\n",
       "      <td>Female</td>\n",
       "      <td>No</td>\n",
       "      <td>35</td>\n",
       "      <td>Yes</td>\n",
       "      <td>Doctor</td>\n",
       "      <td>1.0</td>\n",
       "      <td>Low</td>\n",
       "      <td>1.0</td>\n",
       "      <td>Cat_6</td>\n",
       "    </tr>\n",
       "    <tr>\n",
       "      <th>2624</th>\n",
       "      <td>467960</td>\n",
       "      <td>Female</td>\n",
       "      <td>No</td>\n",
       "      <td>53</td>\n",
       "      <td>Yes</td>\n",
       "      <td>Entertainment</td>\n",
       "      <td>NaN</td>\n",
       "      <td>Low</td>\n",
       "      <td>2.0</td>\n",
       "      <td>Cat_6</td>\n",
       "    </tr>\n",
       "    <tr>\n",
       "      <th>2625</th>\n",
       "      <td>467961</td>\n",
       "      <td>Male</td>\n",
       "      <td>Yes</td>\n",
       "      <td>47</td>\n",
       "      <td>Yes</td>\n",
       "      <td>Executive</td>\n",
       "      <td>1.0</td>\n",
       "      <td>High</td>\n",
       "      <td>5.0</td>\n",
       "      <td>Cat_4</td>\n",
       "    </tr>\n",
       "    <tr>\n",
       "      <th>2626</th>\n",
       "      <td>467968</td>\n",
       "      <td>Female</td>\n",
       "      <td>No</td>\n",
       "      <td>43</td>\n",
       "      <td>Yes</td>\n",
       "      <td>Healthcare</td>\n",
       "      <td>9.0</td>\n",
       "      <td>Low</td>\n",
       "      <td>3.0</td>\n",
       "      <td>Cat_7</td>\n",
       "    </tr>\n",
       "  </tbody>\n",
       "</table>\n",
       "</div>"
      ],
      "text/plain": [
       "          ID  Gender Ever_Married  Age Graduated     Profession  \\\n",
       "2622  467954    Male           No   29        No     Healthcare   \n",
       "2623  467958  Female           No   35       Yes         Doctor   \n",
       "2624  467960  Female           No   53       Yes  Entertainment   \n",
       "2625  467961    Male          Yes   47       Yes      Executive   \n",
       "2626  467968  Female           No   43       Yes     Healthcare   \n",
       "\n",
       "      Work_Experience Spending_Score  Family_Size  Var_1  \n",
       "2622              9.0            Low          4.0  Cat_6  \n",
       "2623              1.0            Low          1.0  Cat_6  \n",
       "2624              NaN            Low          2.0  Cat_6  \n",
       "2625              1.0           High          5.0  Cat_4  \n",
       "2626              9.0            Low          3.0  Cat_7  "
      ]
     },
     "execution_count": 8,
     "metadata": {},
     "output_type": "execute_result"
    }
   ],
   "source": [
    "#Check the tail(last 5 records or observations) for the test data:\n",
    "test_data.tail()"
   ]
  },
  {
   "cell_type": "code",
   "execution_count": 9,
   "metadata": {},
   "outputs": [],
   "source": [
    "#Observations: Data is loaded Properly:"
   ]
  },
  {
   "cell_type": "markdown",
   "metadata": {},
   "source": [
    "# Check the dimension:"
   ]
  },
  {
   "cell_type": "code",
   "execution_count": 10,
   "metadata": {},
   "outputs": [
    {
     "name": "stdout",
     "output_type": "stream",
     "text": [
      "Dimension for the train_data: (8068, 11)\n",
      "Dimension fot the test_data: (2627, 10)\n"
     ]
    }
   ],
   "source": [
    "#Check the dimension for the train and test data:\n",
    "print(\"Dimension for the train_data:\",train_data.shape)\n",
    "print(\"Dimension fot the test_data:\",test_data.shape)"
   ]
  },
  {
   "cell_type": "code",
   "execution_count": 11,
   "metadata": {},
   "outputs": [
    {
     "name": "stdout",
     "output_type": "stream",
     "text": [
      "Index(['ID', 'Gender', 'Ever_Married', 'Age', 'Graduated', 'Profession',\n",
      "       'Work_Experience', 'Spending_Score', 'Family_Size', 'Var_1',\n",
      "       'Segmentation'],\n",
      "      dtype='object')\n",
      "------------------------------------------------------------------\n",
      "Index(['ID', 'Gender', 'Ever_Married', 'Age', 'Graduated', 'Profession',\n",
      "       'Work_Experience', 'Spending_Score', 'Family_Size', 'Var_1'],\n",
      "      dtype='object')\n"
     ]
    }
   ],
   "source": [
    "#Check the Column Names:\n",
    "print(train_data.columns)\n",
    "print(\"------------------------------------------------------------------\")\n",
    "print(test_data.columns)"
   ]
  },
  {
   "cell_type": "code",
   "execution_count": 12,
   "metadata": {},
   "outputs": [],
   "source": [
    "#Check the attributes types:"
   ]
  },
  {
   "cell_type": "code",
   "execution_count": 13,
   "metadata": {},
   "outputs": [
    {
     "name": "stdout",
     "output_type": "stream",
     "text": [
      "Attributes information about train_data:\n",
      "ID                   int64\n",
      "Gender              object\n",
      "Ever_Married        object\n",
      "Age                  int64\n",
      "Graduated           object\n",
      "Profession          object\n",
      "Work_Experience    float64\n",
      "Spending_Score      object\n",
      "Family_Size        float64\n",
      "Var_1               object\n",
      "Segmentation        object\n",
      "dtype: object\n",
      "--------------------------------------------------------------\n",
      "Attributes information about test_data:\n",
      "ID                   int64\n",
      "Gender              object\n",
      "Ever_Married        object\n",
      "Age                  int64\n",
      "Graduated           object\n",
      "Profession          object\n",
      "Work_Experience    float64\n",
      "Spending_Score      object\n",
      "Family_Size        float64\n",
      "Var_1               object\n",
      "dtype: object\n"
     ]
    }
   ],
   "source": [
    "#Check the attribute types of train_data and test_data:\n",
    "print(\"Attributes information about train_data:\")\n",
    "print(train_data.dtypes)\n",
    "print(\"--------------------------------------------------------------\")\n",
    "print(\"Attributes information about test_data:\")\n",
    "print(test_data.dtypes)"
   ]
  },
  {
   "cell_type": "raw",
   "metadata": {},
   "source": [
    "#Data Object Analysis:\n",
    "1. ID: Unique ID | Used for only Mapping Purpose,Need to be stored first and then dropped\n",
    "2. Gender: - Gender of the Customer\n",
    "3. Ever_Married:- Marital status of the customer\n",
    "4. Age:- Age of the Customer\n",
    "5. Graduated:- Is Cx graduated\n",
    "6. Profession:- Profession of the Customer\n",
    "7. Work_Experience:- Work Exp in years\n",
    "8. Spending_Score:- Spending_Score\n",
    "9. Family_Size:-Number of family members for the customer (including the customer)\n",
    "10.Var_1:- Anonymised category for the Customer\n",
    "11.Segmentation:(target) Customer Segment of the customer\n",
    " \n",
    "    \n",
    "#Segregate the Categorical and Numerical column\n",
    "#Leave a few column which would be used only for mapping purposes only\n",
    "num_attr = [\"Age\",\"Work_Experience\",\"Family_Size\"]\n",
    "cat_attr = [\"Gender\",\"Ever_Married\",\"Graduated\",\"Profession\",\"Spending_Score\",\"Var_1\"]"
   ]
  },
  {
   "cell_type": "code",
   "execution_count": 14,
   "metadata": {},
   "outputs": [],
   "source": [
    "#Segregate the Categorical and Numerical column\n",
    "#Leave a few column which would be used only for mapping purposes only\n",
    "num_attr = [\"Age\",\"Work_Experience\",\"Family_Size\"]\n",
    "cat_attr = [\"Gender\",\"Ever_Married\",\"Graduated\",\"Profession\",\"Spending_Score\",\"Var_1\"]"
   ]
  },
  {
   "cell_type": "code",
   "execution_count": 15,
   "metadata": {},
   "outputs": [],
   "source": [
    "#Store the \"ID\" column for train and test data:\n",
    "train_ID = train_data[[\"ID\"]]\n",
    "test_ID = test_data[[\"ID\"]]\n",
    "#Store the target column also for further usage:\n",
    "train_Segmentation = train_data[[\"Segmentation\"]]"
   ]
  },
  {
   "cell_type": "code",
   "execution_count": 16,
   "metadata": {},
   "outputs": [],
   "source": [
    "#Convert the attribute into appropriate type:\n",
    "#Comment: It is already in appropriate type,"
   ]
  },
  {
   "cell_type": "code",
   "execution_count": 17,
   "metadata": {},
   "outputs": [
    {
     "name": "stdout",
     "output_type": "stream",
     "text": [
      "<class 'pandas.core.frame.DataFrame'>\n",
      "RangeIndex: 8068 entries, 0 to 8067\n",
      "Data columns (total 11 columns):\n",
      " #   Column           Non-Null Count  Dtype  \n",
      "---  ------           --------------  -----  \n",
      " 0   ID               8068 non-null   int64  \n",
      " 1   Gender           8068 non-null   object \n",
      " 2   Ever_Married     7928 non-null   object \n",
      " 3   Age              8068 non-null   int64  \n",
      " 4   Graduated        7990 non-null   object \n",
      " 5   Profession       7944 non-null   object \n",
      " 6   Work_Experience  7239 non-null   float64\n",
      " 7   Spending_Score   8068 non-null   object \n",
      " 8   Family_Size      7733 non-null   float64\n",
      " 9   Var_1            7992 non-null   object \n",
      " 10  Segmentation     8068 non-null   object \n",
      "dtypes: float64(2), int64(2), object(7)\n",
      "memory usage: 693.5+ KB\n",
      "Train_data attribute informations: None\n",
      "----------------Separator-----------------------------\n",
      "<class 'pandas.core.frame.DataFrame'>\n",
      "RangeIndex: 2627 entries, 0 to 2626\n",
      "Data columns (total 10 columns):\n",
      " #   Column           Non-Null Count  Dtype  \n",
      "---  ------           --------------  -----  \n",
      " 0   ID               2627 non-null   int64  \n",
      " 1   Gender           2627 non-null   object \n",
      " 2   Ever_Married     2577 non-null   object \n",
      " 3   Age              2627 non-null   int64  \n",
      " 4   Graduated        2603 non-null   object \n",
      " 5   Profession       2589 non-null   object \n",
      " 6   Work_Experience  2358 non-null   float64\n",
      " 7   Spending_Score   2627 non-null   object \n",
      " 8   Family_Size      2514 non-null   float64\n",
      " 9   Var_1            2595 non-null   object \n",
      "dtypes: float64(2), int64(2), object(6)\n",
      "memory usage: 205.4+ KB\n",
      "Test_data attribute informations: None\n"
     ]
    }
   ],
   "source": [
    "#Check the type once again:\n",
    "print(\"Train_data attribute informations:\",train_data.info())\n",
    "print(\"----------------Separator-----------------------------\")\n",
    "print(\"Test_data attribute informations:\",test_data.info())"
   ]
  },
  {
   "cell_type": "markdown",
   "metadata": {},
   "source": [
    "# Summary of the Dataset:"
   ]
  },
  {
   "cell_type": "code",
   "execution_count": 18,
   "metadata": {},
   "outputs": [
    {
     "name": "stdout",
     "output_type": "stream",
     "text": [
      "Summary of the Numerical data in train_data:\n"
     ]
    },
    {
     "data": {
      "text/html": [
       "<div>\n",
       "<style scoped>\n",
       "    .dataframe tbody tr th:only-of-type {\n",
       "        vertical-align: middle;\n",
       "    }\n",
       "\n",
       "    .dataframe tbody tr th {\n",
       "        vertical-align: top;\n",
       "    }\n",
       "\n",
       "    .dataframe thead th {\n",
       "        text-align: right;\n",
       "    }\n",
       "</style>\n",
       "<table border=\"1\" class=\"dataframe\">\n",
       "  <thead>\n",
       "    <tr style=\"text-align: right;\">\n",
       "      <th></th>\n",
       "      <th>ID</th>\n",
       "      <th>Age</th>\n",
       "      <th>Work_Experience</th>\n",
       "      <th>Family_Size</th>\n",
       "    </tr>\n",
       "  </thead>\n",
       "  <tbody>\n",
       "    <tr>\n",
       "      <th>count</th>\n",
       "      <td>8068.000000</td>\n",
       "      <td>8068.000000</td>\n",
       "      <td>7239.000000</td>\n",
       "      <td>7733.000000</td>\n",
       "    </tr>\n",
       "    <tr>\n",
       "      <th>mean</th>\n",
       "      <td>463479.214551</td>\n",
       "      <td>43.466906</td>\n",
       "      <td>2.641663</td>\n",
       "      <td>2.850123</td>\n",
       "    </tr>\n",
       "    <tr>\n",
       "      <th>std</th>\n",
       "      <td>2595.381232</td>\n",
       "      <td>16.711696</td>\n",
       "      <td>3.406763</td>\n",
       "      <td>1.531413</td>\n",
       "    </tr>\n",
       "    <tr>\n",
       "      <th>min</th>\n",
       "      <td>458982.000000</td>\n",
       "      <td>18.000000</td>\n",
       "      <td>0.000000</td>\n",
       "      <td>1.000000</td>\n",
       "    </tr>\n",
       "    <tr>\n",
       "      <th>25%</th>\n",
       "      <td>461240.750000</td>\n",
       "      <td>30.000000</td>\n",
       "      <td>0.000000</td>\n",
       "      <td>2.000000</td>\n",
       "    </tr>\n",
       "    <tr>\n",
       "      <th>50%</th>\n",
       "      <td>463472.500000</td>\n",
       "      <td>40.000000</td>\n",
       "      <td>1.000000</td>\n",
       "      <td>3.000000</td>\n",
       "    </tr>\n",
       "    <tr>\n",
       "      <th>75%</th>\n",
       "      <td>465744.250000</td>\n",
       "      <td>53.000000</td>\n",
       "      <td>4.000000</td>\n",
       "      <td>4.000000</td>\n",
       "    </tr>\n",
       "    <tr>\n",
       "      <th>max</th>\n",
       "      <td>467974.000000</td>\n",
       "      <td>89.000000</td>\n",
       "      <td>14.000000</td>\n",
       "      <td>9.000000</td>\n",
       "    </tr>\n",
       "  </tbody>\n",
       "</table>\n",
       "</div>"
      ],
      "text/plain": [
       "                  ID          Age  Work_Experience  Family_Size\n",
       "count    8068.000000  8068.000000      7239.000000  7733.000000\n",
       "mean   463479.214551    43.466906         2.641663     2.850123\n",
       "std      2595.381232    16.711696         3.406763     1.531413\n",
       "min    458982.000000    18.000000         0.000000     1.000000\n",
       "25%    461240.750000    30.000000         0.000000     2.000000\n",
       "50%    463472.500000    40.000000         1.000000     3.000000\n",
       "75%    465744.250000    53.000000         4.000000     4.000000\n",
       "max    467974.000000    89.000000        14.000000     9.000000"
      ]
     },
     "execution_count": 18,
     "metadata": {},
     "output_type": "execute_result"
    }
   ],
   "source": [
    "#Describe the numerical data in train data:\n",
    "print(\"Summary of the Numerical data in train_data:\")\n",
    "train_data.describe()"
   ]
  },
  {
   "cell_type": "code",
   "execution_count": 19,
   "metadata": {},
   "outputs": [
    {
     "name": "stdout",
     "output_type": "stream",
     "text": [
      "Summary of the Numerical data in test_data:\n"
     ]
    },
    {
     "data": {
      "text/html": [
       "<div>\n",
       "<style scoped>\n",
       "    .dataframe tbody tr th:only-of-type {\n",
       "        vertical-align: middle;\n",
       "    }\n",
       "\n",
       "    .dataframe tbody tr th {\n",
       "        vertical-align: top;\n",
       "    }\n",
       "\n",
       "    .dataframe thead th {\n",
       "        text-align: right;\n",
       "    }\n",
       "</style>\n",
       "<table border=\"1\" class=\"dataframe\">\n",
       "  <thead>\n",
       "    <tr style=\"text-align: right;\">\n",
       "      <th></th>\n",
       "      <th>ID</th>\n",
       "      <th>Age</th>\n",
       "      <th>Work_Experience</th>\n",
       "      <th>Family_Size</th>\n",
       "    </tr>\n",
       "  </thead>\n",
       "  <tbody>\n",
       "    <tr>\n",
       "      <th>count</th>\n",
       "      <td>2627.000000</td>\n",
       "      <td>2627.000000</td>\n",
       "      <td>2358.000000</td>\n",
       "      <td>2514.000000</td>\n",
       "    </tr>\n",
       "    <tr>\n",
       "      <th>mean</th>\n",
       "      <td>463433.918919</td>\n",
       "      <td>43.649791</td>\n",
       "      <td>2.552587</td>\n",
       "      <td>2.825378</td>\n",
       "    </tr>\n",
       "    <tr>\n",
       "      <th>std</th>\n",
       "      <td>2618.245698</td>\n",
       "      <td>16.967015</td>\n",
       "      <td>3.341094</td>\n",
       "      <td>1.551906</td>\n",
       "    </tr>\n",
       "    <tr>\n",
       "      <th>min</th>\n",
       "      <td>458989.000000</td>\n",
       "      <td>18.000000</td>\n",
       "      <td>0.000000</td>\n",
       "      <td>1.000000</td>\n",
       "    </tr>\n",
       "    <tr>\n",
       "      <th>25%</th>\n",
       "      <td>461162.500000</td>\n",
       "      <td>30.000000</td>\n",
       "      <td>0.000000</td>\n",
       "      <td>2.000000</td>\n",
       "    </tr>\n",
       "    <tr>\n",
       "      <th>50%</th>\n",
       "      <td>463379.000000</td>\n",
       "      <td>41.000000</td>\n",
       "      <td>1.000000</td>\n",
       "      <td>2.000000</td>\n",
       "    </tr>\n",
       "    <tr>\n",
       "      <th>75%</th>\n",
       "      <td>465696.000000</td>\n",
       "      <td>53.000000</td>\n",
       "      <td>4.000000</td>\n",
       "      <td>4.000000</td>\n",
       "    </tr>\n",
       "    <tr>\n",
       "      <th>max</th>\n",
       "      <td>467968.000000</td>\n",
       "      <td>89.000000</td>\n",
       "      <td>14.000000</td>\n",
       "      <td>9.000000</td>\n",
       "    </tr>\n",
       "  </tbody>\n",
       "</table>\n",
       "</div>"
      ],
      "text/plain": [
       "                  ID          Age  Work_Experience  Family_Size\n",
       "count    2627.000000  2627.000000      2358.000000  2514.000000\n",
       "mean   463433.918919    43.649791         2.552587     2.825378\n",
       "std      2618.245698    16.967015         3.341094     1.551906\n",
       "min    458989.000000    18.000000         0.000000     1.000000\n",
       "25%    461162.500000    30.000000         0.000000     2.000000\n",
       "50%    463379.000000    41.000000         1.000000     2.000000\n",
       "75%    465696.000000    53.000000         4.000000     4.000000\n",
       "max    467968.000000    89.000000        14.000000     9.000000"
      ]
     },
     "execution_count": 19,
     "metadata": {},
     "output_type": "execute_result"
    }
   ],
   "source": [
    "#Describe the numerical data in test data:\n",
    "print(\"Summary of the Numerical data in test_data:\")\n",
    "test_data.describe()"
   ]
  },
  {
   "cell_type": "code",
   "execution_count": 20,
   "metadata": {},
   "outputs": [
    {
     "name": "stdout",
     "output_type": "stream",
     "text": [
      "Summary of the Categorical data in train_data:\n"
     ]
    },
    {
     "data": {
      "text/html": [
       "<div>\n",
       "<style scoped>\n",
       "    .dataframe tbody tr th:only-of-type {\n",
       "        vertical-align: middle;\n",
       "    }\n",
       "\n",
       "    .dataframe tbody tr th {\n",
       "        vertical-align: top;\n",
       "    }\n",
       "\n",
       "    .dataframe thead th {\n",
       "        text-align: right;\n",
       "    }\n",
       "</style>\n",
       "<table border=\"1\" class=\"dataframe\">\n",
       "  <thead>\n",
       "    <tr style=\"text-align: right;\">\n",
       "      <th></th>\n",
       "      <th>Gender</th>\n",
       "      <th>Ever_Married</th>\n",
       "      <th>Graduated</th>\n",
       "      <th>Profession</th>\n",
       "      <th>Spending_Score</th>\n",
       "      <th>Var_1</th>\n",
       "      <th>Segmentation</th>\n",
       "    </tr>\n",
       "  </thead>\n",
       "  <tbody>\n",
       "    <tr>\n",
       "      <th>count</th>\n",
       "      <td>8068</td>\n",
       "      <td>7928</td>\n",
       "      <td>7990</td>\n",
       "      <td>7944</td>\n",
       "      <td>8068</td>\n",
       "      <td>7992</td>\n",
       "      <td>8068</td>\n",
       "    </tr>\n",
       "    <tr>\n",
       "      <th>unique</th>\n",
       "      <td>2</td>\n",
       "      <td>2</td>\n",
       "      <td>2</td>\n",
       "      <td>9</td>\n",
       "      <td>3</td>\n",
       "      <td>7</td>\n",
       "      <td>4</td>\n",
       "    </tr>\n",
       "    <tr>\n",
       "      <th>top</th>\n",
       "      <td>Male</td>\n",
       "      <td>Yes</td>\n",
       "      <td>Yes</td>\n",
       "      <td>Artist</td>\n",
       "      <td>Low</td>\n",
       "      <td>Cat_6</td>\n",
       "      <td>D</td>\n",
       "    </tr>\n",
       "    <tr>\n",
       "      <th>freq</th>\n",
       "      <td>4417</td>\n",
       "      <td>4643</td>\n",
       "      <td>4968</td>\n",
       "      <td>2516</td>\n",
       "      <td>4878</td>\n",
       "      <td>5238</td>\n",
       "      <td>2268</td>\n",
       "    </tr>\n",
       "  </tbody>\n",
       "</table>\n",
       "</div>"
      ],
      "text/plain": [
       "       Gender Ever_Married Graduated Profession Spending_Score  Var_1  \\\n",
       "count    8068         7928      7990       7944           8068   7992   \n",
       "unique      2            2         2          9              3      7   \n",
       "top      Male          Yes       Yes     Artist            Low  Cat_6   \n",
       "freq     4417         4643      4968       2516           4878   5238   \n",
       "\n",
       "       Segmentation  \n",
       "count          8068  \n",
       "unique            4  \n",
       "top               D  \n",
       "freq           2268  "
      ]
     },
     "execution_count": 20,
     "metadata": {},
     "output_type": "execute_result"
    }
   ],
   "source": [
    "#Describe the categorical data in train data:\n",
    "print(\"Summary of the Categorical data in train_data:\")\n",
    "train_data.describe(include=\"object\")"
   ]
  },
  {
   "cell_type": "code",
   "execution_count": 21,
   "metadata": {},
   "outputs": [
    {
     "name": "stdout",
     "output_type": "stream",
     "text": [
      "Summary of the Categorical data in test_data:\n"
     ]
    },
    {
     "data": {
      "text/html": [
       "<div>\n",
       "<style scoped>\n",
       "    .dataframe tbody tr th:only-of-type {\n",
       "        vertical-align: middle;\n",
       "    }\n",
       "\n",
       "    .dataframe tbody tr th {\n",
       "        vertical-align: top;\n",
       "    }\n",
       "\n",
       "    .dataframe thead th {\n",
       "        text-align: right;\n",
       "    }\n",
       "</style>\n",
       "<table border=\"1\" class=\"dataframe\">\n",
       "  <thead>\n",
       "    <tr style=\"text-align: right;\">\n",
       "      <th></th>\n",
       "      <th>Gender</th>\n",
       "      <th>Ever_Married</th>\n",
       "      <th>Graduated</th>\n",
       "      <th>Profession</th>\n",
       "      <th>Spending_Score</th>\n",
       "      <th>Var_1</th>\n",
       "    </tr>\n",
       "  </thead>\n",
       "  <tbody>\n",
       "    <tr>\n",
       "      <th>count</th>\n",
       "      <td>2627</td>\n",
       "      <td>2577</td>\n",
       "      <td>2603</td>\n",
       "      <td>2589</td>\n",
       "      <td>2627</td>\n",
       "      <td>2595</td>\n",
       "    </tr>\n",
       "    <tr>\n",
       "      <th>unique</th>\n",
       "      <td>2</td>\n",
       "      <td>2</td>\n",
       "      <td>2</td>\n",
       "      <td>9</td>\n",
       "      <td>3</td>\n",
       "      <td>7</td>\n",
       "    </tr>\n",
       "    <tr>\n",
       "      <th>top</th>\n",
       "      <td>Male</td>\n",
       "      <td>Yes</td>\n",
       "      <td>Yes</td>\n",
       "      <td>Artist</td>\n",
       "      <td>Low</td>\n",
       "      <td>Cat_6</td>\n",
       "    </tr>\n",
       "    <tr>\n",
       "      <th>freq</th>\n",
       "      <td>1424</td>\n",
       "      <td>1520</td>\n",
       "      <td>1602</td>\n",
       "      <td>802</td>\n",
       "      <td>1616</td>\n",
       "      <td>1672</td>\n",
       "    </tr>\n",
       "  </tbody>\n",
       "</table>\n",
       "</div>"
      ],
      "text/plain": [
       "       Gender Ever_Married Graduated Profession Spending_Score  Var_1\n",
       "count    2627         2577      2603       2589           2627   2595\n",
       "unique      2            2         2          9              3      7\n",
       "top      Male          Yes       Yes     Artist            Low  Cat_6\n",
       "freq     1424         1520      1602        802           1616   1672"
      ]
     },
     "execution_count": 21,
     "metadata": {},
     "output_type": "execute_result"
    }
   ],
   "source": [
    "#Describe the categorical data in test data:\n",
    "print(\"Summary of the Categorical data in test_data:\")\n",
    "test_data.describe(include=\"object\")"
   ]
  },
  {
   "cell_type": "code",
   "execution_count": 22,
   "metadata": {},
   "outputs": [],
   "source": [
    "#Make separate dataframe for num_attr and cat_attr for train_data:\n",
    "train_num_attr = train_data[num_attr]\n",
    "train_cat_attr = train_data[cat_attr]"
   ]
  },
  {
   "cell_type": "code",
   "execution_count": 23,
   "metadata": {},
   "outputs": [
    {
     "data": {
      "text/html": [
       "<div>\n",
       "<style scoped>\n",
       "    .dataframe tbody tr th:only-of-type {\n",
       "        vertical-align: middle;\n",
       "    }\n",
       "\n",
       "    .dataframe tbody tr th {\n",
       "        vertical-align: top;\n",
       "    }\n",
       "\n",
       "    .dataframe thead th {\n",
       "        text-align: right;\n",
       "    }\n",
       "</style>\n",
       "<table border=\"1\" class=\"dataframe\">\n",
       "  <thead>\n",
       "    <tr style=\"text-align: right;\">\n",
       "      <th></th>\n",
       "      <th>Age</th>\n",
       "      <th>Work_Experience</th>\n",
       "      <th>Family_Size</th>\n",
       "    </tr>\n",
       "  </thead>\n",
       "  <tbody>\n",
       "    <tr>\n",
       "      <th>0</th>\n",
       "      <td>22</td>\n",
       "      <td>1.0</td>\n",
       "      <td>4.0</td>\n",
       "    </tr>\n",
       "    <tr>\n",
       "      <th>1</th>\n",
       "      <td>38</td>\n",
       "      <td>NaN</td>\n",
       "      <td>3.0</td>\n",
       "    </tr>\n",
       "    <tr>\n",
       "      <th>2</th>\n",
       "      <td>67</td>\n",
       "      <td>1.0</td>\n",
       "      <td>1.0</td>\n",
       "    </tr>\n",
       "    <tr>\n",
       "      <th>3</th>\n",
       "      <td>67</td>\n",
       "      <td>0.0</td>\n",
       "      <td>2.0</td>\n",
       "    </tr>\n",
       "    <tr>\n",
       "      <th>4</th>\n",
       "      <td>40</td>\n",
       "      <td>NaN</td>\n",
       "      <td>6.0</td>\n",
       "    </tr>\n",
       "  </tbody>\n",
       "</table>\n",
       "</div>"
      ],
      "text/plain": [
       "   Age  Work_Experience  Family_Size\n",
       "0   22              1.0          4.0\n",
       "1   38              NaN          3.0\n",
       "2   67              1.0          1.0\n",
       "3   67              0.0          2.0\n",
       "4   40              NaN          6.0"
      ]
     },
     "execution_count": 23,
     "metadata": {},
     "output_type": "execute_result"
    }
   ],
   "source": [
    "train_num_attr.head()"
   ]
  },
  {
   "cell_type": "code",
   "execution_count": 24,
   "metadata": {},
   "outputs": [
    {
     "data": {
      "text/html": [
       "<div>\n",
       "<style scoped>\n",
       "    .dataframe tbody tr th:only-of-type {\n",
       "        vertical-align: middle;\n",
       "    }\n",
       "\n",
       "    .dataframe tbody tr th {\n",
       "        vertical-align: top;\n",
       "    }\n",
       "\n",
       "    .dataframe thead th {\n",
       "        text-align: right;\n",
       "    }\n",
       "</style>\n",
       "<table border=\"1\" class=\"dataframe\">\n",
       "  <thead>\n",
       "    <tr style=\"text-align: right;\">\n",
       "      <th></th>\n",
       "      <th>Gender</th>\n",
       "      <th>Ever_Married</th>\n",
       "      <th>Graduated</th>\n",
       "      <th>Profession</th>\n",
       "      <th>Spending_Score</th>\n",
       "      <th>Var_1</th>\n",
       "    </tr>\n",
       "  </thead>\n",
       "  <tbody>\n",
       "    <tr>\n",
       "      <th>0</th>\n",
       "      <td>Male</td>\n",
       "      <td>No</td>\n",
       "      <td>No</td>\n",
       "      <td>Healthcare</td>\n",
       "      <td>Low</td>\n",
       "      <td>Cat_4</td>\n",
       "    </tr>\n",
       "    <tr>\n",
       "      <th>1</th>\n",
       "      <td>Female</td>\n",
       "      <td>Yes</td>\n",
       "      <td>Yes</td>\n",
       "      <td>Engineer</td>\n",
       "      <td>Average</td>\n",
       "      <td>Cat_4</td>\n",
       "    </tr>\n",
       "    <tr>\n",
       "      <th>2</th>\n",
       "      <td>Female</td>\n",
       "      <td>Yes</td>\n",
       "      <td>Yes</td>\n",
       "      <td>Engineer</td>\n",
       "      <td>Low</td>\n",
       "      <td>Cat_6</td>\n",
       "    </tr>\n",
       "    <tr>\n",
       "      <th>3</th>\n",
       "      <td>Male</td>\n",
       "      <td>Yes</td>\n",
       "      <td>Yes</td>\n",
       "      <td>Lawyer</td>\n",
       "      <td>High</td>\n",
       "      <td>Cat_6</td>\n",
       "    </tr>\n",
       "    <tr>\n",
       "      <th>4</th>\n",
       "      <td>Female</td>\n",
       "      <td>Yes</td>\n",
       "      <td>Yes</td>\n",
       "      <td>Entertainment</td>\n",
       "      <td>High</td>\n",
       "      <td>Cat_6</td>\n",
       "    </tr>\n",
       "  </tbody>\n",
       "</table>\n",
       "</div>"
      ],
      "text/plain": [
       "   Gender Ever_Married Graduated     Profession Spending_Score  Var_1\n",
       "0    Male           No        No     Healthcare            Low  Cat_4\n",
       "1  Female          Yes       Yes       Engineer        Average  Cat_4\n",
       "2  Female          Yes       Yes       Engineer            Low  Cat_6\n",
       "3    Male          Yes       Yes         Lawyer           High  Cat_6\n",
       "4  Female          Yes       Yes  Entertainment           High  Cat_6"
      ]
     },
     "execution_count": 24,
     "metadata": {},
     "output_type": "execute_result"
    }
   ],
   "source": [
    "train_cat_attr.head()"
   ]
  },
  {
   "cell_type": "code",
   "execution_count": 25,
   "metadata": {},
   "outputs": [],
   "source": [
    "#Create dataframe for test data with num_attr and cat_attr:"
   ]
  },
  {
   "cell_type": "code",
   "execution_count": 26,
   "metadata": {},
   "outputs": [],
   "source": [
    "#make separate dataframe for num_attr and cat_attr for test_data:\n",
    "test_num_attr = test_data[num_attr]\n",
    "test_cat_attr = test_data[cat_attr]"
   ]
  },
  {
   "cell_type": "code",
   "execution_count": 27,
   "metadata": {},
   "outputs": [
    {
     "data": {
      "text/html": [
       "<div>\n",
       "<style scoped>\n",
       "    .dataframe tbody tr th:only-of-type {\n",
       "        vertical-align: middle;\n",
       "    }\n",
       "\n",
       "    .dataframe tbody tr th {\n",
       "        vertical-align: top;\n",
       "    }\n",
       "\n",
       "    .dataframe thead th {\n",
       "        text-align: right;\n",
       "    }\n",
       "</style>\n",
       "<table border=\"1\" class=\"dataframe\">\n",
       "  <thead>\n",
       "    <tr style=\"text-align: right;\">\n",
       "      <th></th>\n",
       "      <th>Age</th>\n",
       "      <th>Work_Experience</th>\n",
       "      <th>Family_Size</th>\n",
       "    </tr>\n",
       "  </thead>\n",
       "  <tbody>\n",
       "    <tr>\n",
       "      <th>0</th>\n",
       "      <td>36</td>\n",
       "      <td>0.0</td>\n",
       "      <td>1.0</td>\n",
       "    </tr>\n",
       "    <tr>\n",
       "      <th>1</th>\n",
       "      <td>37</td>\n",
       "      <td>8.0</td>\n",
       "      <td>4.0</td>\n",
       "    </tr>\n",
       "    <tr>\n",
       "      <th>2</th>\n",
       "      <td>69</td>\n",
       "      <td>0.0</td>\n",
       "      <td>1.0</td>\n",
       "    </tr>\n",
       "    <tr>\n",
       "      <th>3</th>\n",
       "      <td>59</td>\n",
       "      <td>11.0</td>\n",
       "      <td>2.0</td>\n",
       "    </tr>\n",
       "    <tr>\n",
       "      <th>4</th>\n",
       "      <td>19</td>\n",
       "      <td>NaN</td>\n",
       "      <td>4.0</td>\n",
       "    </tr>\n",
       "  </tbody>\n",
       "</table>\n",
       "</div>"
      ],
      "text/plain": [
       "   Age  Work_Experience  Family_Size\n",
       "0   36              0.0          1.0\n",
       "1   37              8.0          4.0\n",
       "2   69              0.0          1.0\n",
       "3   59             11.0          2.0\n",
       "4   19              NaN          4.0"
      ]
     },
     "execution_count": 27,
     "metadata": {},
     "output_type": "execute_result"
    }
   ],
   "source": [
    "test_num_attr.head()"
   ]
  },
  {
   "cell_type": "code",
   "execution_count": 28,
   "metadata": {},
   "outputs": [
    {
     "data": {
      "text/html": [
       "<div>\n",
       "<style scoped>\n",
       "    .dataframe tbody tr th:only-of-type {\n",
       "        vertical-align: middle;\n",
       "    }\n",
       "\n",
       "    .dataframe tbody tr th {\n",
       "        vertical-align: top;\n",
       "    }\n",
       "\n",
       "    .dataframe thead th {\n",
       "        text-align: right;\n",
       "    }\n",
       "</style>\n",
       "<table border=\"1\" class=\"dataframe\">\n",
       "  <thead>\n",
       "    <tr style=\"text-align: right;\">\n",
       "      <th></th>\n",
       "      <th>Gender</th>\n",
       "      <th>Ever_Married</th>\n",
       "      <th>Graduated</th>\n",
       "      <th>Profession</th>\n",
       "      <th>Spending_Score</th>\n",
       "      <th>Var_1</th>\n",
       "    </tr>\n",
       "  </thead>\n",
       "  <tbody>\n",
       "    <tr>\n",
       "      <th>0</th>\n",
       "      <td>Female</td>\n",
       "      <td>Yes</td>\n",
       "      <td>Yes</td>\n",
       "      <td>Engineer</td>\n",
       "      <td>Low</td>\n",
       "      <td>Cat_6</td>\n",
       "    </tr>\n",
       "    <tr>\n",
       "      <th>1</th>\n",
       "      <td>Male</td>\n",
       "      <td>Yes</td>\n",
       "      <td>Yes</td>\n",
       "      <td>Healthcare</td>\n",
       "      <td>Average</td>\n",
       "      <td>Cat_6</td>\n",
       "    </tr>\n",
       "    <tr>\n",
       "      <th>2</th>\n",
       "      <td>Female</td>\n",
       "      <td>Yes</td>\n",
       "      <td>No</td>\n",
       "      <td>NaN</td>\n",
       "      <td>Low</td>\n",
       "      <td>Cat_6</td>\n",
       "    </tr>\n",
       "    <tr>\n",
       "      <th>3</th>\n",
       "      <td>Male</td>\n",
       "      <td>Yes</td>\n",
       "      <td>No</td>\n",
       "      <td>Executive</td>\n",
       "      <td>High</td>\n",
       "      <td>Cat_6</td>\n",
       "    </tr>\n",
       "    <tr>\n",
       "      <th>4</th>\n",
       "      <td>Female</td>\n",
       "      <td>No</td>\n",
       "      <td>No</td>\n",
       "      <td>Marketing</td>\n",
       "      <td>Low</td>\n",
       "      <td>Cat_6</td>\n",
       "    </tr>\n",
       "  </tbody>\n",
       "</table>\n",
       "</div>"
      ],
      "text/plain": [
       "   Gender Ever_Married Graduated  Profession Spending_Score  Var_1\n",
       "0  Female          Yes       Yes    Engineer            Low  Cat_6\n",
       "1    Male          Yes       Yes  Healthcare        Average  Cat_6\n",
       "2  Female          Yes        No         NaN            Low  Cat_6\n",
       "3    Male          Yes        No   Executive           High  Cat_6\n",
       "4  Female           No        No   Marketing            Low  Cat_6"
      ]
     },
     "execution_count": 28,
     "metadata": {},
     "output_type": "execute_result"
    }
   ],
   "source": [
    "test_cat_attr.head()"
   ]
  },
  {
   "cell_type": "markdown",
   "metadata": {},
   "source": [
    "# Missing Value Treatment:"
   ]
  },
  {
   "cell_type": "code",
   "execution_count": 29,
   "metadata": {},
   "outputs": [
    {
     "name": "stdout",
     "output_type": "stream",
     "text": [
      "Age                  0\n",
      "Work_Experience    829\n",
      "Family_Size        335\n",
      "dtype: int64\n",
      "--------------------------\n",
      "Gender              0\n",
      "Ever_Married      140\n",
      "Graduated          78\n",
      "Profession        124\n",
      "Spending_Score      0\n",
      "Var_1              76\n",
      "dtype: int64\n"
     ]
    }
   ],
   "source": [
    "#Missing values in train_num_attr and train_cat_attr:\n",
    "print(train_num_attr.isna().sum())\n",
    "print(\"--------------------------\")\n",
    "print(train_cat_attr.isna().sum())"
   ]
  },
  {
   "cell_type": "code",
   "execution_count": 30,
   "metadata": {},
   "outputs": [
    {
     "name": "stdout",
     "output_type": "stream",
     "text": [
      "Age                 0.000000\n",
      "Work_Experience    10.275161\n",
      "Family_Size         4.152206\n",
      "dtype: float64\n",
      "--------------------------\n",
      "Gender            0.000000\n",
      "Ever_Married      1.735250\n",
      "Graduated         0.966782\n",
      "Profession        1.536936\n",
      "Spending_Score    0.000000\n",
      "Var_1             0.941993\n",
      "dtype: float64\n"
     ]
    }
   ],
   "source": [
    "#Missing values in train_num_attr and train_cat_attr in Percentage:\n",
    "print(train_num_attr.isna().sum()/train_num_attr.shape[0]*100)\n",
    "print(\"--------------------------\")\n",
    "print(train_cat_attr.isna().sum()/train_num_attr.shape[0]*100)"
   ]
  },
  {
   "cell_type": "code",
   "execution_count": 31,
   "metadata": {},
   "outputs": [
    {
     "data": {
      "text/html": [
       "<div>\n",
       "<style scoped>\n",
       "    .dataframe tbody tr th:only-of-type {\n",
       "        vertical-align: middle;\n",
       "    }\n",
       "\n",
       "    .dataframe tbody tr th {\n",
       "        vertical-align: top;\n",
       "    }\n",
       "\n",
       "    .dataframe thead th {\n",
       "        text-align: right;\n",
       "    }\n",
       "</style>\n",
       "<table border=\"1\" class=\"dataframe\">\n",
       "  <thead>\n",
       "    <tr style=\"text-align: right;\">\n",
       "      <th></th>\n",
       "      <th>Gender</th>\n",
       "      <th>Ever_Married</th>\n",
       "      <th>Graduated</th>\n",
       "      <th>Profession</th>\n",
       "      <th>Spending_Score</th>\n",
       "      <th>Var_1</th>\n",
       "    </tr>\n",
       "  </thead>\n",
       "  <tbody>\n",
       "    <tr>\n",
       "      <th>0</th>\n",
       "      <td>Male</td>\n",
       "      <td>No</td>\n",
       "      <td>No</td>\n",
       "      <td>Healthcare</td>\n",
       "      <td>Low</td>\n",
       "      <td>Cat_4</td>\n",
       "    </tr>\n",
       "    <tr>\n",
       "      <th>1</th>\n",
       "      <td>Female</td>\n",
       "      <td>Yes</td>\n",
       "      <td>Yes</td>\n",
       "      <td>Engineer</td>\n",
       "      <td>Average</td>\n",
       "      <td>Cat_4</td>\n",
       "    </tr>\n",
       "    <tr>\n",
       "      <th>2</th>\n",
       "      <td>Female</td>\n",
       "      <td>Yes</td>\n",
       "      <td>Yes</td>\n",
       "      <td>Engineer</td>\n",
       "      <td>Low</td>\n",
       "      <td>Cat_6</td>\n",
       "    </tr>\n",
       "    <tr>\n",
       "      <th>3</th>\n",
       "      <td>Male</td>\n",
       "      <td>Yes</td>\n",
       "      <td>Yes</td>\n",
       "      <td>Lawyer</td>\n",
       "      <td>High</td>\n",
       "      <td>Cat_6</td>\n",
       "    </tr>\n",
       "    <tr>\n",
       "      <th>4</th>\n",
       "      <td>Female</td>\n",
       "      <td>Yes</td>\n",
       "      <td>Yes</td>\n",
       "      <td>Entertainment</td>\n",
       "      <td>High</td>\n",
       "      <td>Cat_6</td>\n",
       "    </tr>\n",
       "    <tr>\n",
       "      <th>...</th>\n",
       "      <td>...</td>\n",
       "      <td>...</td>\n",
       "      <td>...</td>\n",
       "      <td>...</td>\n",
       "      <td>...</td>\n",
       "      <td>...</td>\n",
       "    </tr>\n",
       "    <tr>\n",
       "      <th>8063</th>\n",
       "      <td>Male</td>\n",
       "      <td>No</td>\n",
       "      <td>No</td>\n",
       "      <td>NaN</td>\n",
       "      <td>Low</td>\n",
       "      <td>Cat_1</td>\n",
       "    </tr>\n",
       "    <tr>\n",
       "      <th>8064</th>\n",
       "      <td>Male</td>\n",
       "      <td>No</td>\n",
       "      <td>No</td>\n",
       "      <td>Executive</td>\n",
       "      <td>Low</td>\n",
       "      <td>Cat_4</td>\n",
       "    </tr>\n",
       "    <tr>\n",
       "      <th>8065</th>\n",
       "      <td>Female</td>\n",
       "      <td>No</td>\n",
       "      <td>Yes</td>\n",
       "      <td>Healthcare</td>\n",
       "      <td>Low</td>\n",
       "      <td>Cat_6</td>\n",
       "    </tr>\n",
       "    <tr>\n",
       "      <th>8066</th>\n",
       "      <td>Female</td>\n",
       "      <td>No</td>\n",
       "      <td>Yes</td>\n",
       "      <td>Healthcare</td>\n",
       "      <td>Low</td>\n",
       "      <td>Cat_6</td>\n",
       "    </tr>\n",
       "    <tr>\n",
       "      <th>8067</th>\n",
       "      <td>Male</td>\n",
       "      <td>Yes</td>\n",
       "      <td>Yes</td>\n",
       "      <td>Executive</td>\n",
       "      <td>Average</td>\n",
       "      <td>Cat_4</td>\n",
       "    </tr>\n",
       "  </tbody>\n",
       "</table>\n",
       "<p>8068 rows × 6 columns</p>\n",
       "</div>"
      ],
      "text/plain": [
       "      Gender Ever_Married Graduated     Profession Spending_Score  Var_1\n",
       "0       Male           No        No     Healthcare            Low  Cat_4\n",
       "1     Female          Yes       Yes       Engineer        Average  Cat_4\n",
       "2     Female          Yes       Yes       Engineer            Low  Cat_6\n",
       "3       Male          Yes       Yes         Lawyer           High  Cat_6\n",
       "4     Female          Yes       Yes  Entertainment           High  Cat_6\n",
       "...      ...          ...       ...            ...            ...    ...\n",
       "8063    Male           No        No            NaN            Low  Cat_1\n",
       "8064    Male           No        No      Executive            Low  Cat_4\n",
       "8065  Female           No       Yes     Healthcare            Low  Cat_6\n",
       "8066  Female           No       Yes     Healthcare            Low  Cat_6\n",
       "8067    Male          Yes       Yes      Executive        Average  Cat_4\n",
       "\n",
       "[8068 rows x 6 columns]"
      ]
     },
     "execution_count": 31,
     "metadata": {},
     "output_type": "execute_result"
    }
   ],
   "source": [
    "#CHECK, #CHECK\n",
    "train_cat_attr"
   ]
  },
  {
   "cell_type": "code",
   "execution_count": 32,
   "metadata": {},
   "outputs": [
    {
     "name": "stdout",
     "output_type": "stream",
     "text": [
      "1.0\n",
      "3.0\n",
      "Yes\n",
      "Yes\n",
      "Artist\n",
      "Cat_6\n"
     ]
    }
   ],
   "source": [
    "#Fill the missing values using the median(Numerical data) mode(Categorical data) for the categorical data:\n",
    "median1 = train_num_attr[\"Work_Experience\"].median()\n",
    "median2 = train_num_attr[\"Family_Size\"].median()\n",
    "import statistics\n",
    "mode3 = statistics.mode(train_cat_attr[\"Ever_Married\"]) #Don't use the double bracket here\n",
    "mode4 = statistics.mode(train_cat_attr[\"Graduated\"])\n",
    "mode5 = statistics.mode(train_cat_attr[\"Profession\"])\n",
    "mode6 = statistics.mode(train_cat_attr[\"Var_1\"])\n",
    "\n",
    "print(median1)\n",
    "print(median2)\n",
    "print(mode3)\n",
    "print(mode4)\n",
    "print(mode5)\n",
    "print(mode6)"
   ]
  },
  {
   "cell_type": "code",
   "execution_count": 33,
   "metadata": {},
   "outputs": [
    {
     "name": "stderr",
     "output_type": "stream",
     "text": [
      "C:\\Users\\HARIOHM\\anaconda3\\lib\\site-packages\\pandas\\core\\series.py:4569: SettingWithCopyWarning: \n",
      "A value is trying to be set on a copy of a slice from a DataFrame\n",
      "\n",
      "See the caveats in the documentation: https://pandas.pydata.org/pandas-docs/stable/user_guide/indexing.html#returning-a-view-versus-a-copy\n",
      "  method=method,\n"
     ]
    }
   ],
   "source": [
    "#Fill the NA Values for train_final:\n",
    "train_num_attr[\"Work_Experience\"].replace(np.nan,median1,inplace=True)\n",
    "train_num_attr[\"Family_Size\"].replace(np.nan,median2,inplace=True)\n",
    "train_cat_attr[\"Ever_Married\"].replace(np.nan,mode3,inplace=True)\n",
    "train_cat_attr[\"Graduated\"].replace(np.nan,mode4,inplace=True)\n",
    "train_cat_attr[\"Profession\"].replace(np.nan,mode5,inplace=True)\n",
    "train_cat_attr[\"Var_1\"].replace(np.nan,mode6,inplace=True)"
   ]
  },
  {
   "cell_type": "code",
   "execution_count": 34,
   "metadata": {},
   "outputs": [
    {
     "name": "stdout",
     "output_type": "stream",
     "text": [
      "Age                0.0\n",
      "Work_Experience    0.0\n",
      "Family_Size        0.0\n",
      "dtype: float64\n",
      "--------------------------\n",
      "Gender            0.0\n",
      "Ever_Married      0.0\n",
      "Graduated         0.0\n",
      "Profession        0.0\n",
      "Spending_Score    0.0\n",
      "Var_1             0.0\n",
      "dtype: float64\n"
     ]
    }
   ],
   "source": [
    "#Check the Missing values filled or not?\n",
    "#Missing values in train_num_attr and train_cat_attr in Percentage:\n",
    "print(train_num_attr.isna().sum()/train_num_attr.shape[0]*100)\n",
    "print(\"--------------------------\")\n",
    "print(train_cat_attr.isna().sum()/train_num_attr.shape[0]*100)"
   ]
  },
  {
   "cell_type": "code",
   "execution_count": 35,
   "metadata": {},
   "outputs": [],
   "source": [
    "#Observation:-Missing Values is filled"
   ]
  },
  {
   "cell_type": "code",
   "execution_count": 36,
   "metadata": {},
   "outputs": [
    {
     "name": "stdout",
     "output_type": "stream",
     "text": [
      "Age                 0.000000\n",
      "Work_Experience    10.239817\n",
      "Family_Size         4.301485\n",
      "dtype: float64\n",
      "--------------------------\n",
      "Gender            0.000000\n",
      "Ever_Married      1.903312\n",
      "Graduated         0.913590\n",
      "Profession        1.446517\n",
      "Spending_Score    0.000000\n",
      "Var_1             1.218120\n",
      "dtype: float64\n"
     ]
    }
   ],
   "source": [
    "#Missing values in test_num_attr and test_cat_attr in Percentage:\n",
    "print(test_num_attr.isna().sum()/test_num_attr.shape[0]*100)\n",
    "print(\"--------------------------\")\n",
    "print(test_cat_attr.isna().sum()/test_num_attr.shape[0]*100)"
   ]
  },
  {
   "cell_type": "code",
   "execution_count": 37,
   "metadata": {},
   "outputs": [
    {
     "name": "stdout",
     "output_type": "stream",
     "text": [
      "1.0\n",
      "2.0\n",
      "Yes\n",
      "Yes\n",
      "Artist\n",
      "Cat_6\n"
     ]
    }
   ],
   "source": [
    "#Fill the missing values using the median(Numerical data) mode(Categorical data) for the categorical data:\n",
    "median7 = test_num_attr[\"Work_Experience\"].median()\n",
    "median8 = test_num_attr[\"Family_Size\"].median()\n",
    "import statistics\n",
    "mode9 =  statistics.mode(test_cat_attr[\"Ever_Married\"]) #Don't use the double bracket here\n",
    "mode10 = statistics.mode(test_cat_attr[\"Graduated\"])\n",
    "mode11 = statistics.mode(test_cat_attr[\"Profession\"])\n",
    "mode12 = statistics.mode(test_cat_attr[\"Var_1\"])\n",
    "\n",
    "print(median7)\n",
    "print(median8)\n",
    "print(mode9)\n",
    "print(mode10)\n",
    "print(mode11)\n",
    "print(mode12)"
   ]
  },
  {
   "cell_type": "code",
   "execution_count": 38,
   "metadata": {},
   "outputs": [],
   "source": [
    "#Fill the NA Values:\n",
    "test_num_attr[\"Work_Experience\"].replace(np.nan,median7,inplace=True)\n",
    "test_num_attr[\"Family_Size\"].replace(np.nan,median8,inplace=True)\n",
    "test_cat_attr[\"Ever_Married\"].replace(np.nan,mode9,inplace=True)\n",
    "test_cat_attr[\"Graduated\"].replace(np.nan,mode10,inplace=True)\n",
    "test_cat_attr[\"Profession\"].replace(np.nan,mode11,inplace=True)\n",
    "test_cat_attr[\"Var_1\"].replace(np.nan,mode12,inplace=True)"
   ]
  },
  {
   "cell_type": "code",
   "execution_count": 39,
   "metadata": {},
   "outputs": [
    {
     "name": "stdout",
     "output_type": "stream",
     "text": [
      "Age                0.0\n",
      "Work_Experience    0.0\n",
      "Family_Size        0.0\n",
      "dtype: float64\n",
      "--------------------------\n",
      "Gender            0.0\n",
      "Ever_Married      0.0\n",
      "Graduated         0.0\n",
      "Profession        0.0\n",
      "Spending_Score    0.0\n",
      "Var_1             0.0\n",
      "dtype: float64\n"
     ]
    }
   ],
   "source": [
    "#Check the Missing values in test_num_attr and test_cat_attr in Percentage After imputations:\n",
    "print(test_num_attr.isna().sum()/test_num_attr.shape[0]*100)\n",
    "print(\"--------------------------\")\n",
    "print(test_cat_attr.isna().sum()/test_num_attr.shape[0]*100)"
   ]
  },
  {
   "cell_type": "code",
   "execution_count": 40,
   "metadata": {},
   "outputs": [],
   "source": [
    "#Obsevation: It is Observed that Missing Values has been filled for bot train and test (num_attr and cat_attr)"
   ]
  },
  {
   "cell_type": "markdown",
   "metadata": {},
   "source": [
    "# Outlier Treatment:"
   ]
  },
  {
   "cell_type": "code",
   "execution_count": 41,
   "metadata": {},
   "outputs": [
    {
     "data": {
      "text/plain": [
       "<AxesSubplot:>"
      ]
     },
     "execution_count": 41,
     "metadata": {},
     "output_type": "execute_result"
    },
    {
     "data": {
      "image/png": "[encoded data removed]",
      "text/plain": [
       "<Figure size 432x288 with 1 Axes>"
      ]
     },
     "metadata": {
      "needs_background": "light"
     },
     "output_type": "display_data"
    }
   ],
   "source": [
    "#Use the Box and Whisker Plot train_num_attr:\n",
    "\n",
    "train_num_attr.boxplot(column = num_attr)"
   ]
  },
  {
   "cell_type": "code",
   "execution_count": 42,
   "metadata": {},
   "outputs": [
    {
     "data": {
      "text/plain": [
       "<AxesSubplot:>"
      ]
     },
     "execution_count": 42,
     "metadata": {},
     "output_type": "execute_result"
    },
    {
     "data": {
      "image/png": "[encoded data removed]",
      "text/plain": [
       "<Figure size 700x700 with 1 Axes>"
      ]
     },
     "metadata": {
      "needs_background": "light"
     },
     "output_type": "display_data"
    }
   ],
   "source": [
    "#Increase the Size of the Graph:\n",
    "width_in_inches = 10\n",
    "height_in_inches = 10\n",
    "dots_per_inch = 70\n",
    "\n",
    "plt.figure(\n",
    "    figsize=(width_in_inches, height_in_inches),\n",
    "    dpi=dots_per_inch)\n",
    "train_num_attr.boxplot(column = num_attr)"
   ]
  },
  {
   "cell_type": "code",
   "execution_count": 43,
   "metadata": {},
   "outputs": [],
   "source": [
    "#Create a user defined function called remove_outlier for getting the threshold value from IQR.\n",
    "def remove_outlier(col):\n",
    "    sorted(col)\n",
    "    Q1,Q3=col.quantile([0.25,0.75])\n",
    "    IQR=Q3-Q1\n",
    "    lower_range = Q1-(1.5*IQR)\n",
    "    upper_range = Q3+(1.5*IQR)\n",
    "    return lower_range,upper_range"
   ]
  },
  {
   "cell_type": "code",
   "execution_count": 44,
   "metadata": {},
   "outputs": [
    {
     "name": "stderr",
     "output_type": "stream",
     "text": [
      "C:\\Users\\HARIOHM\\anaconda3\\lib\\site-packages\\ipykernel_launcher.py:3: SettingWithCopyWarning: \n",
      "A value is trying to be set on a copy of a slice from a DataFrame.\n",
      "Try using .loc[row_indexer,col_indexer] = value instead\n",
      "\n",
      "See the caveats in the documentation: https://pandas.pydata.org/pandas-docs/stable/user_guide/indexing.html#returning-a-view-versus-a-copy\n",
      "  This is separate from the ipykernel package so we can avoid doing imports until\n",
      "C:\\Users\\HARIOHM\\anaconda3\\lib\\site-packages\\pandas\\core\\indexing.py:1736: SettingWithCopyWarning: \n",
      "A value is trying to be set on a copy of a slice from a DataFrame.\n",
      "Try using .loc[row_indexer,col_indexer] = value instead\n",
      "\n",
      "See the caveats in the documentation: https://pandas.pydata.org/pandas-docs/stable/user_guide/indexing.html#returning-a-view-versus-a-copy\n",
      "  isetter(loc, value[:, i].tolist())\n",
      "C:\\Users\\HARIOHM\\anaconda3\\lib\\site-packages\\ipykernel_launcher.py:4: SettingWithCopyWarning: \n",
      "A value is trying to be set on a copy of a slice from a DataFrame.\n",
      "Try using .loc[row_indexer,col_indexer] = value instead\n",
      "\n",
      "See the caveats in the documentation: https://pandas.pydata.org/pandas-docs/stable/user_guide/indexing.html#returning-a-view-versus-a-copy\n",
      "  after removing the cwd from sys.path.\n",
      "C:\\Users\\HARIOHM\\anaconda3\\lib\\site-packages\\pandas\\core\\frame.py:3069: SettingWithCopyWarning: \n",
      "A value is trying to be set on a copy of a slice from a DataFrame\n",
      "\n",
      "See the caveats in the documentation: https://pandas.pydata.org/pandas-docs/stable/user_guide/indexing.html#returning-a-view-versus-a-copy\n",
      "  self.iloc._setitem_with_indexer((slice(None), indexer), value)\n",
      "C:\\Users\\HARIOHM\\anaconda3\\lib\\site-packages\\pandas\\core\\frame.py:3034: SettingWithCopyWarning: \n",
      "A value is trying to be set on a copy of a slice from a DataFrame\n",
      "\n",
      "See the caveats in the documentation: https://pandas.pydata.org/pandas-docs/stable/user_guide/indexing.html#returning-a-view-versus-a-copy\n",
      "  self._setitem_array(key, value)\n"
     ]
    }
   ],
   "source": [
    "#Remove the Outlier from \"Age\":\n",
    "lowincome,uppincome=remove_outlier(train_num_attr[\"Age\"])\n",
    "train_num_attr[[\"Age\"]] = np.where(train_num_attr[[\"Age\"]]>uppincome,uppincome,train_num_attr[[\"Age\"]])\n",
    "train_num_attr[[\"Age\"]] = np.where(train_num_attr[[\"Age\"]]<lowincome,lowincome,train_num_attr[[\"Age\"]])"
   ]
  },
  {
   "cell_type": "code",
   "execution_count": 45,
   "metadata": {},
   "outputs": [
    {
     "name": "stderr",
     "output_type": "stream",
     "text": [
      "C:\\Users\\HARIOHM\\anaconda3\\lib\\site-packages\\ipykernel_launcher.py:3: SettingWithCopyWarning: \n",
      "A value is trying to be set on a copy of a slice from a DataFrame.\n",
      "Try using .loc[row_indexer,col_indexer] = value instead\n",
      "\n",
      "See the caveats in the documentation: https://pandas.pydata.org/pandas-docs/stable/user_guide/indexing.html#returning-a-view-versus-a-copy\n",
      "  This is separate from the ipykernel package so we can avoid doing imports until\n",
      "C:\\Users\\HARIOHM\\anaconda3\\lib\\site-packages\\pandas\\core\\frame.py:3069: SettingWithCopyWarning: \n",
      "A value is trying to be set on a copy of a slice from a DataFrame\n",
      "\n",
      "See the caveats in the documentation: https://pandas.pydata.org/pandas-docs/stable/user_guide/indexing.html#returning-a-view-versus-a-copy\n",
      "  self.iloc._setitem_with_indexer((slice(None), indexer), value)\n",
      "C:\\Users\\HARIOHM\\anaconda3\\lib\\site-packages\\pandas\\core\\frame.py:3034: SettingWithCopyWarning: \n",
      "A value is trying to be set on a copy of a slice from a DataFrame\n",
      "\n",
      "See the caveats in the documentation: https://pandas.pydata.org/pandas-docs/stable/user_guide/indexing.html#returning-a-view-versus-a-copy\n",
      "  self._setitem_array(key, value)\n",
      "C:\\Users\\HARIOHM\\anaconda3\\lib\\site-packages\\ipykernel_launcher.py:4: SettingWithCopyWarning: \n",
      "A value is trying to be set on a copy of a slice from a DataFrame.\n",
      "Try using .loc[row_indexer,col_indexer] = value instead\n",
      "\n",
      "See the caveats in the documentation: https://pandas.pydata.org/pandas-docs/stable/user_guide/indexing.html#returning-a-view-versus-a-copy\n",
      "  after removing the cwd from sys.path.\n",
      "C:\\Users\\HARIOHM\\anaconda3\\lib\\site-packages\\pandas\\core\\frame.py:3069: SettingWithCopyWarning: \n",
      "A value is trying to be set on a copy of a slice from a DataFrame\n",
      "\n",
      "See the caveats in the documentation: https://pandas.pydata.org/pandas-docs/stable/user_guide/indexing.html#returning-a-view-versus-a-copy\n",
      "  self.iloc._setitem_with_indexer((slice(None), indexer), value)\n",
      "C:\\Users\\HARIOHM\\anaconda3\\lib\\site-packages\\pandas\\core\\frame.py:3034: SettingWithCopyWarning: \n",
      "A value is trying to be set on a copy of a slice from a DataFrame\n",
      "\n",
      "See the caveats in the documentation: https://pandas.pydata.org/pandas-docs/stable/user_guide/indexing.html#returning-a-view-versus-a-copy\n",
      "  self._setitem_array(key, value)\n"
     ]
    }
   ],
   "source": [
    "#Remove the Outlier from \"Work_Experience\":\n",
    "lowincome,uppincome=remove_outlier(train_num_attr[\"Work_Experience\"])\n",
    "train_num_attr[[\"Work_Experience\"]] = np.where(train_num_attr[[\"Work_Experience\"]]>uppincome,uppincome,train_num_attr[[\"Work_Experience\"]])\n",
    "train_num_attr[[\"Work_Experience\"]] = np.where(train_num_attr[[\"Work_Experience\"]]<lowincome,lowincome,train_num_attr[[\"Work_Experience\"]])"
   ]
  },
  {
   "cell_type": "code",
   "execution_count": 46,
   "metadata": {},
   "outputs": [
    {
     "name": "stderr",
     "output_type": "stream",
     "text": [
      "C:\\Users\\HARIOHM\\anaconda3\\lib\\site-packages\\ipykernel_launcher.py:3: SettingWithCopyWarning: \n",
      "A value is trying to be set on a copy of a slice from a DataFrame.\n",
      "Try using .loc[row_indexer,col_indexer] = value instead\n",
      "\n",
      "See the caveats in the documentation: https://pandas.pydata.org/pandas-docs/stable/user_guide/indexing.html#returning-a-view-versus-a-copy\n",
      "  This is separate from the ipykernel package so we can avoid doing imports until\n",
      "C:\\Users\\HARIOHM\\anaconda3\\lib\\site-packages\\pandas\\core\\frame.py:3069: SettingWithCopyWarning: \n",
      "A value is trying to be set on a copy of a slice from a DataFrame\n",
      "\n",
      "See the caveats in the documentation: https://pandas.pydata.org/pandas-docs/stable/user_guide/indexing.html#returning-a-view-versus-a-copy\n",
      "  self.iloc._setitem_with_indexer((slice(None), indexer), value)\n",
      "C:\\Users\\HARIOHM\\anaconda3\\lib\\site-packages\\pandas\\core\\frame.py:3034: SettingWithCopyWarning: \n",
      "A value is trying to be set on a copy of a slice from a DataFrame\n",
      "\n",
      "See the caveats in the documentation: https://pandas.pydata.org/pandas-docs/stable/user_guide/indexing.html#returning-a-view-versus-a-copy\n",
      "  self._setitem_array(key, value)\n",
      "C:\\Users\\HARIOHM\\anaconda3\\lib\\site-packages\\ipykernel_launcher.py:4: SettingWithCopyWarning: \n",
      "A value is trying to be set on a copy of a slice from a DataFrame.\n",
      "Try using .loc[row_indexer,col_indexer] = value instead\n",
      "\n",
      "See the caveats in the documentation: https://pandas.pydata.org/pandas-docs/stable/user_guide/indexing.html#returning-a-view-versus-a-copy\n",
      "  after removing the cwd from sys.path.\n",
      "C:\\Users\\HARIOHM\\anaconda3\\lib\\site-packages\\pandas\\core\\frame.py:3069: SettingWithCopyWarning: \n",
      "A value is trying to be set on a copy of a slice from a DataFrame\n",
      "\n",
      "See the caveats in the documentation: https://pandas.pydata.org/pandas-docs/stable/user_guide/indexing.html#returning-a-view-versus-a-copy\n",
      "  self.iloc._setitem_with_indexer((slice(None), indexer), value)\n",
      "C:\\Users\\HARIOHM\\anaconda3\\lib\\site-packages\\pandas\\core\\frame.py:3034: SettingWithCopyWarning: \n",
      "A value is trying to be set on a copy of a slice from a DataFrame\n",
      "\n",
      "See the caveats in the documentation: https://pandas.pydata.org/pandas-docs/stable/user_guide/indexing.html#returning-a-view-versus-a-copy\n",
      "  self._setitem_array(key, value)\n"
     ]
    }
   ],
   "source": [
    "#Remove the Outlier from \"Family_Size\":\n",
    "lowincome,uppincome=remove_outlier(train_num_attr[\"Family_Size\"])\n",
    "train_num_attr[[\"Family_Size\"]] = np.where(train_num_attr[[\"Family_Size\"]]>uppincome,uppincome,train_num_attr[[\"Family_Size\"]])\n",
    "train_num_attr[[\"Family_Size\"]] = np.where(train_num_attr[[\"Family_Size\"]]<lowincome,lowincome,train_num_attr[[\"Family_Size\"]])"
   ]
  },
  {
   "cell_type": "code",
   "execution_count": 47,
   "metadata": {},
   "outputs": [
    {
     "data": {
      "text/plain": [
       "<AxesSubplot:>"
      ]
     },
     "execution_count": 47,
     "metadata": {},
     "output_type": "execute_result"
    },
    {
     "data": {
      "image/png": "[encoded data removed]",
      "text/plain": [
       "<Figure size 700x700 with 1 Axes>"
      ]
     },
     "metadata": {
      "needs_background": "light"
     },
     "output_type": "display_data"
    }
   ],
   "source": [
    "#Increase the Size of the Graph:\n",
    "width_in_inches = 10\n",
    "height_in_inches = 10\n",
    "dots_per_inch = 70\n",
    "\n",
    "plt.figure(\n",
    "    figsize=(width_in_inches, height_in_inches),\n",
    "    dpi=dots_per_inch)\n",
    "train_num_attr.boxplot(column = num_attr)"
   ]
  },
  {
   "cell_type": "code",
   "execution_count": 48,
   "metadata": {},
   "outputs": [],
   "source": [
    "#Outlier is removed in train_num_attr"
   ]
  },
  {
   "cell_type": "markdown",
   "metadata": {},
   "source": [
    "# Outlier Treatmetn in test_num_attr"
   ]
  },
  {
   "cell_type": "code",
   "execution_count": 49,
   "metadata": {},
   "outputs": [
    {
     "data": {
      "text/plain": [
       "<AxesSubplot:>"
      ]
     },
     "execution_count": 49,
     "metadata": {},
     "output_type": "execute_result"
    },
    {
     "data": {
      "image/png": "[encoded data removed]",
      "text/plain": [
       "<Figure size 432x288 with 1 Axes>"
      ]
     },
     "metadata": {
      "needs_background": "light"
     },
     "output_type": "display_data"
    }
   ],
   "source": [
    "#Use the Box and Whisker Plot train_num_attr:\n",
    "\n",
    "test_num_attr.boxplot(column = num_attr)"
   ]
  },
  {
   "cell_type": "code",
   "execution_count": 50,
   "metadata": {},
   "outputs": [
    {
     "data": {
      "text/plain": [
       "<AxesSubplot:>"
      ]
     },
     "execution_count": 50,
     "metadata": {},
     "output_type": "execute_result"
    },
    {
     "data": {
      "image/png": "[encoded data removed]",
      "text/plain": [
       "<Figure size 700x700 with 1 Axes>"
      ]
     },
     "metadata": {
      "needs_background": "light"
     },
     "output_type": "display_data"
    }
   ],
   "source": [
    "#Increase the Size of the Graph:\n",
    "width_in_inches = 10\n",
    "height_in_inches = 10\n",
    "dots_per_inch = 70\n",
    "\n",
    "plt.figure(\n",
    "    figsize=(width_in_inches, height_in_inches),\n",
    "    dpi=dots_per_inch)\n",
    "test_num_attr.boxplot(column = num_attr)"
   ]
  },
  {
   "cell_type": "code",
   "execution_count": 51,
   "metadata": {},
   "outputs": [],
   "source": [
    "#Create a user defined function called remove_outlier for getting the threshold value from IQR.\n",
    "def remove_outlier(col):\n",
    "    sorted(col)\n",
    "    Q1,Q3=col.quantile([0.25,0.75])\n",
    "    IQR=Q3-Q1\n",
    "    lower_range = Q1-(1.5*IQR)\n",
    "    upper_range = Q3+(1.5*IQR)\n",
    "    return lower_range,upper_range"
   ]
  },
  {
   "cell_type": "code",
   "execution_count": 52,
   "metadata": {},
   "outputs": [
    {
     "name": "stderr",
     "output_type": "stream",
     "text": [
      "C:\\Users\\HARIOHM\\anaconda3\\lib\\site-packages\\ipykernel_launcher.py:3: SettingWithCopyWarning: \n",
      "A value is trying to be set on a copy of a slice from a DataFrame.\n",
      "Try using .loc[row_indexer,col_indexer] = value instead\n",
      "\n",
      "See the caveats in the documentation: https://pandas.pydata.org/pandas-docs/stable/user_guide/indexing.html#returning-a-view-versus-a-copy\n",
      "  This is separate from the ipykernel package so we can avoid doing imports until\n",
      "C:\\Users\\HARIOHM\\anaconda3\\lib\\site-packages\\pandas\\core\\indexing.py:1736: SettingWithCopyWarning: \n",
      "A value is trying to be set on a copy of a slice from a DataFrame.\n",
      "Try using .loc[row_indexer,col_indexer] = value instead\n",
      "\n",
      "See the caveats in the documentation: https://pandas.pydata.org/pandas-docs/stable/user_guide/indexing.html#returning-a-view-versus-a-copy\n",
      "  isetter(loc, value[:, i].tolist())\n",
      "C:\\Users\\HARIOHM\\anaconda3\\lib\\site-packages\\ipykernel_launcher.py:4: SettingWithCopyWarning: \n",
      "A value is trying to be set on a copy of a slice from a DataFrame.\n",
      "Try using .loc[row_indexer,col_indexer] = value instead\n",
      "\n",
      "See the caveats in the documentation: https://pandas.pydata.org/pandas-docs/stable/user_guide/indexing.html#returning-a-view-versus-a-copy\n",
      "  after removing the cwd from sys.path.\n",
      "C:\\Users\\HARIOHM\\anaconda3\\lib\\site-packages\\pandas\\core\\frame.py:3069: SettingWithCopyWarning: \n",
      "A value is trying to be set on a copy of a slice from a DataFrame\n",
      "\n",
      "See the caveats in the documentation: https://pandas.pydata.org/pandas-docs/stable/user_guide/indexing.html#returning-a-view-versus-a-copy\n",
      "  self.iloc._setitem_with_indexer((slice(None), indexer), value)\n",
      "C:\\Users\\HARIOHM\\anaconda3\\lib\\site-packages\\pandas\\core\\frame.py:3034: SettingWithCopyWarning: \n",
      "A value is trying to be set on a copy of a slice from a DataFrame\n",
      "\n",
      "See the caveats in the documentation: https://pandas.pydata.org/pandas-docs/stable/user_guide/indexing.html#returning-a-view-versus-a-copy\n",
      "  self._setitem_array(key, value)\n"
     ]
    }
   ],
   "source": [
    "#Remove the Outlier from \"Age\":\n",
    "lowincome,uppincome=remove_outlier(test_num_attr[\"Age\"])\n",
    "test_num_attr[[\"Age\"]] = np.where(test_num_attr[[\"Age\"]]>uppincome,uppincome,test_num_attr[[\"Age\"]])\n",
    "test_num_attr[[\"Age\"]] = np.where(test_num_attr[[\"Age\"]]<lowincome,lowincome,test_num_attr[[\"Age\"]])"
   ]
  },
  {
   "cell_type": "code",
   "execution_count": 53,
   "metadata": {},
   "outputs": [
    {
     "name": "stderr",
     "output_type": "stream",
     "text": [
      "C:\\Users\\HARIOHM\\anaconda3\\lib\\site-packages\\ipykernel_launcher.py:3: SettingWithCopyWarning: \n",
      "A value is trying to be set on a copy of a slice from a DataFrame.\n",
      "Try using .loc[row_indexer,col_indexer] = value instead\n",
      "\n",
      "See the caveats in the documentation: https://pandas.pydata.org/pandas-docs/stable/user_guide/indexing.html#returning-a-view-versus-a-copy\n",
      "  This is separate from the ipykernel package so we can avoid doing imports until\n",
      "C:\\Users\\HARIOHM\\anaconda3\\lib\\site-packages\\pandas\\core\\frame.py:3069: SettingWithCopyWarning: \n",
      "A value is trying to be set on a copy of a slice from a DataFrame\n",
      "\n",
      "See the caveats in the documentation: https://pandas.pydata.org/pandas-docs/stable/user_guide/indexing.html#returning-a-view-versus-a-copy\n",
      "  self.iloc._setitem_with_indexer((slice(None), indexer), value)\n",
      "C:\\Users\\HARIOHM\\anaconda3\\lib\\site-packages\\pandas\\core\\frame.py:3034: SettingWithCopyWarning: \n",
      "A value is trying to be set on a copy of a slice from a DataFrame\n",
      "\n",
      "See the caveats in the documentation: https://pandas.pydata.org/pandas-docs/stable/user_guide/indexing.html#returning-a-view-versus-a-copy\n",
      "  self._setitem_array(key, value)\n",
      "C:\\Users\\HARIOHM\\anaconda3\\lib\\site-packages\\ipykernel_launcher.py:4: SettingWithCopyWarning: \n",
      "A value is trying to be set on a copy of a slice from a DataFrame.\n",
      "Try using .loc[row_indexer,col_indexer] = value instead\n",
      "\n",
      "See the caveats in the documentation: https://pandas.pydata.org/pandas-docs/stable/user_guide/indexing.html#returning-a-view-versus-a-copy\n",
      "  after removing the cwd from sys.path.\n",
      "C:\\Users\\HARIOHM\\anaconda3\\lib\\site-packages\\pandas\\core\\frame.py:3069: SettingWithCopyWarning: \n",
      "A value is trying to be set on a copy of a slice from a DataFrame\n",
      "\n",
      "See the caveats in the documentation: https://pandas.pydata.org/pandas-docs/stable/user_guide/indexing.html#returning-a-view-versus-a-copy\n",
      "  self.iloc._setitem_with_indexer((slice(None), indexer), value)\n",
      "C:\\Users\\HARIOHM\\anaconda3\\lib\\site-packages\\pandas\\core\\frame.py:3034: SettingWithCopyWarning: \n",
      "A value is trying to be set on a copy of a slice from a DataFrame\n",
      "\n",
      "See the caveats in the documentation: https://pandas.pydata.org/pandas-docs/stable/user_guide/indexing.html#returning-a-view-versus-a-copy\n",
      "  self._setitem_array(key, value)\n"
     ]
    }
   ],
   "source": [
    "#Remove the Outlier from \"Work_Experience\":\n",
    "lowincome,uppincome=remove_outlier(test_num_attr[\"Work_Experience\"])\n",
    "test_num_attr[[\"Work_Experience\"]] = np.where(test_num_attr[[\"Work_Experience\"]]>uppincome,uppincome,test_num_attr[[\"Work_Experience\"]])\n",
    "test_num_attr[[\"Work_Experience\"]] = np.where(test_num_attr[[\"Work_Experience\"]]<lowincome,lowincome,test_num_attr[[\"Work_Experience\"]])"
   ]
  },
  {
   "cell_type": "code",
   "execution_count": 54,
   "metadata": {},
   "outputs": [
    {
     "name": "stderr",
     "output_type": "stream",
     "text": [
      "C:\\Users\\HARIOHM\\anaconda3\\lib\\site-packages\\ipykernel_launcher.py:3: SettingWithCopyWarning: \n",
      "A value is trying to be set on a copy of a slice from a DataFrame.\n",
      "Try using .loc[row_indexer,col_indexer] = value instead\n",
      "\n",
      "See the caveats in the documentation: https://pandas.pydata.org/pandas-docs/stable/user_guide/indexing.html#returning-a-view-versus-a-copy\n",
      "  This is separate from the ipykernel package so we can avoid doing imports until\n",
      "C:\\Users\\HARIOHM\\anaconda3\\lib\\site-packages\\pandas\\core\\frame.py:3069: SettingWithCopyWarning: \n",
      "A value is trying to be set on a copy of a slice from a DataFrame\n",
      "\n",
      "See the caveats in the documentation: https://pandas.pydata.org/pandas-docs/stable/user_guide/indexing.html#returning-a-view-versus-a-copy\n",
      "  self.iloc._setitem_with_indexer((slice(None), indexer), value)\n",
      "C:\\Users\\HARIOHM\\anaconda3\\lib\\site-packages\\pandas\\core\\frame.py:3034: SettingWithCopyWarning: \n",
      "A value is trying to be set on a copy of a slice from a DataFrame\n",
      "\n",
      "See the caveats in the documentation: https://pandas.pydata.org/pandas-docs/stable/user_guide/indexing.html#returning-a-view-versus-a-copy\n",
      "  self._setitem_array(key, value)\n",
      "C:\\Users\\HARIOHM\\anaconda3\\lib\\site-packages\\ipykernel_launcher.py:4: SettingWithCopyWarning: \n",
      "A value is trying to be set on a copy of a slice from a DataFrame.\n",
      "Try using .loc[row_indexer,col_indexer] = value instead\n",
      "\n",
      "See the caveats in the documentation: https://pandas.pydata.org/pandas-docs/stable/user_guide/indexing.html#returning-a-view-versus-a-copy\n",
      "  after removing the cwd from sys.path.\n",
      "C:\\Users\\HARIOHM\\anaconda3\\lib\\site-packages\\pandas\\core\\frame.py:3069: SettingWithCopyWarning: \n",
      "A value is trying to be set on a copy of a slice from a DataFrame\n",
      "\n",
      "See the caveats in the documentation: https://pandas.pydata.org/pandas-docs/stable/user_guide/indexing.html#returning-a-view-versus-a-copy\n",
      "  self.iloc._setitem_with_indexer((slice(None), indexer), value)\n",
      "C:\\Users\\HARIOHM\\anaconda3\\lib\\site-packages\\pandas\\core\\frame.py:3034: SettingWithCopyWarning: \n",
      "A value is trying to be set on a copy of a slice from a DataFrame\n",
      "\n",
      "See the caveats in the documentation: https://pandas.pydata.org/pandas-docs/stable/user_guide/indexing.html#returning-a-view-versus-a-copy\n",
      "  self._setitem_array(key, value)\n"
     ]
    }
   ],
   "source": [
    "#Remove the Outlier from \"Family_Size\":\n",
    "lowincome,uppincome=remove_outlier(test_num_attr[\"Family_Size\"])\n",
    "test_num_attr[[\"Family_Size\"]] = np.where(test_num_attr[[\"Family_Size\"]]>uppincome,uppincome,test_num_attr[[\"Family_Size\"]])\n",
    "test_num_attr[[\"Family_Size\"]] = np.where(test_num_attr[[\"Family_Size\"]]<lowincome,lowincome,test_num_attr[[\"Family_Size\"]])"
   ]
  },
  {
   "cell_type": "code",
   "execution_count": 55,
   "metadata": {},
   "outputs": [
    {
     "data": {
      "text/plain": [
       "<AxesSubplot:>"
      ]
     },
     "execution_count": 55,
     "metadata": {},
     "output_type": "execute_result"
    },
    {
     "data": {
      "image/png": "[encoded data removed]",
      "text/plain": [
       "<Figure size 700x700 with 1 Axes>"
      ]
     },
     "metadata": {
      "needs_background": "light"
     },
     "output_type": "display_data"
    }
   ],
   "source": [
    "#Increase the Size of the Graph:\n",
    "width_in_inches = 10\n",
    "height_in_inches = 10\n",
    "dots_per_inch = 70\n",
    "\n",
    "plt.figure(\n",
    "    figsize=(width_in_inches, height_in_inches),\n",
    "    dpi=dots_per_inch)\n",
    "test_num_attr.boxplot(column = num_attr)"
   ]
  },
  {
   "cell_type": "code",
   "execution_count": 56,
   "metadata": {},
   "outputs": [],
   "source": [
    "#Outlier is removed in test_num_attr also\n"
   ]
  },
  {
   "cell_type": "markdown",
   "metadata": {},
   "source": [
    "# Scaling through standardizations:"
   ]
  },
  {
   "cell_type": "code",
   "execution_count": 57,
   "metadata": {},
   "outputs": [],
   "source": [
    "from sklearn.preprocessing import StandardScaler\n",
    "StdScale = StandardScaler()"
   ]
  },
  {
   "cell_type": "code",
   "execution_count": 58,
   "metadata": {},
   "outputs": [
    {
     "name": "stderr",
     "output_type": "stream",
     "text": [
      "C:\\Users\\HARIOHM\\anaconda3\\lib\\site-packages\\ipykernel_launcher.py:2: SettingWithCopyWarning: \n",
      "A value is trying to be set on a copy of a slice from a DataFrame.\n",
      "Try using .loc[row_indexer,col_indexer] = value instead\n",
      "\n",
      "See the caveats in the documentation: https://pandas.pydata.org/pandas-docs/stable/user_guide/indexing.html#returning-a-view-versus-a-copy\n",
      "  \n",
      "C:\\Users\\HARIOHM\\anaconda3\\lib\\site-packages\\pandas\\core\\frame.py:3069: SettingWithCopyWarning: \n",
      "A value is trying to be set on a copy of a slice from a DataFrame\n",
      "\n",
      "See the caveats in the documentation: https://pandas.pydata.org/pandas-docs/stable/user_guide/indexing.html#returning-a-view-versus-a-copy\n",
      "  self.iloc._setitem_with_indexer((slice(None), indexer), value)\n",
      "C:\\Users\\HARIOHM\\anaconda3\\lib\\site-packages\\pandas\\core\\frame.py:3034: SettingWithCopyWarning: \n",
      "A value is trying to be set on a copy of a slice from a DataFrame\n",
      "\n",
      "See the caveats in the documentation: https://pandas.pydata.org/pandas-docs/stable/user_guide/indexing.html#returning-a-view-versus-a-copy\n",
      "  self._setitem_array(key, value)\n",
      "C:\\Users\\HARIOHM\\anaconda3\\lib\\site-packages\\ipykernel_launcher.py:3: SettingWithCopyWarning: \n",
      "A value is trying to be set on a copy of a slice from a DataFrame.\n",
      "Try using .loc[row_indexer,col_indexer] = value instead\n",
      "\n",
      "See the caveats in the documentation: https://pandas.pydata.org/pandas-docs/stable/user_guide/indexing.html#returning-a-view-versus-a-copy\n",
      "  This is separate from the ipykernel package so we can avoid doing imports until\n",
      "C:\\Users\\HARIOHM\\anaconda3\\lib\\site-packages\\pandas\\core\\frame.py:3069: SettingWithCopyWarning: \n",
      "A value is trying to be set on a copy of a slice from a DataFrame\n",
      "\n",
      "See the caveats in the documentation: https://pandas.pydata.org/pandas-docs/stable/user_guide/indexing.html#returning-a-view-versus-a-copy\n",
      "  self.iloc._setitem_with_indexer((slice(None), indexer), value)\n",
      "C:\\Users\\HARIOHM\\anaconda3\\lib\\site-packages\\pandas\\core\\frame.py:3034: SettingWithCopyWarning: \n",
      "A value is trying to be set on a copy of a slice from a DataFrame\n",
      "\n",
      "See the caveats in the documentation: https://pandas.pydata.org/pandas-docs/stable/user_guide/indexing.html#returning-a-view-versus-a-copy\n",
      "  self._setitem_array(key, value)\n",
      "C:\\Users\\HARIOHM\\anaconda3\\lib\\site-packages\\ipykernel_launcher.py:4: SettingWithCopyWarning: \n",
      "A value is trying to be set on a copy of a slice from a DataFrame.\n",
      "Try using .loc[row_indexer,col_indexer] = value instead\n",
      "\n",
      "See the caveats in the documentation: https://pandas.pydata.org/pandas-docs/stable/user_guide/indexing.html#returning-a-view-versus-a-copy\n",
      "  after removing the cwd from sys.path.\n",
      "C:\\Users\\HARIOHM\\anaconda3\\lib\\site-packages\\pandas\\core\\frame.py:3069: SettingWithCopyWarning: \n",
      "A value is trying to be set on a copy of a slice from a DataFrame\n",
      "\n",
      "See the caveats in the documentation: https://pandas.pydata.org/pandas-docs/stable/user_guide/indexing.html#returning-a-view-versus-a-copy\n",
      "  self.iloc._setitem_with_indexer((slice(None), indexer), value)\n",
      "C:\\Users\\HARIOHM\\anaconda3\\lib\\site-packages\\pandas\\core\\frame.py:3034: SettingWithCopyWarning: \n",
      "A value is trying to be set on a copy of a slice from a DataFrame\n",
      "\n",
      "See the caveats in the documentation: https://pandas.pydata.org/pandas-docs/stable/user_guide/indexing.html#returning-a-view-versus-a-copy\n",
      "  self._setitem_array(key, value)\n"
     ]
    }
   ],
   "source": [
    "#Scale the train_num_attr  data(Only Numerical data):\n",
    "train_num_attr[['Age']] = StdScale.fit_transform(train_num_attr[['Age']])\n",
    "train_num_attr[['Work_Experience']] = StdScale.fit_transform(train_num_attr[['Work_Experience']])\n",
    "train_num_attr[['Family_Size']] = StdScale.fit_transform(train_num_attr[['Family_Size']])"
   ]
  },
  {
   "cell_type": "code",
   "execution_count": 59,
   "metadata": {},
   "outputs": [
    {
     "data": {
      "text/html": [
       "<div>\n",
       "<style scoped>\n",
       "    .dataframe tbody tr th:only-of-type {\n",
       "        vertical-align: middle;\n",
       "    }\n",
       "\n",
       "    .dataframe tbody tr th {\n",
       "        vertical-align: top;\n",
       "    }\n",
       "\n",
       "    .dataframe thead th {\n",
       "        text-align: right;\n",
       "    }\n",
       "</style>\n",
       "<table border=\"1\" class=\"dataframe\">\n",
       "  <thead>\n",
       "    <tr style=\"text-align: right;\">\n",
       "      <th></th>\n",
       "      <th>Age</th>\n",
       "      <th>Work_Experience</th>\n",
       "      <th>Family_Size</th>\n",
       "    </tr>\n",
       "  </thead>\n",
       "  <tbody>\n",
       "    <tr>\n",
       "      <th>0</th>\n",
       "      <td>-1.285917</td>\n",
       "      <td>-0.456344</td>\n",
       "      <td>0.805152</td>\n",
       "    </tr>\n",
       "    <tr>\n",
       "      <th>1</th>\n",
       "      <td>-0.327084</td>\n",
       "      <td>-0.456344</td>\n",
       "      <td>0.111509</td>\n",
       "    </tr>\n",
       "    <tr>\n",
       "      <th>2</th>\n",
       "      <td>1.410800</td>\n",
       "      <td>-0.456344</td>\n",
       "      <td>-1.275777</td>\n",
       "    </tr>\n",
       "    <tr>\n",
       "      <th>3</th>\n",
       "      <td>1.410800</td>\n",
       "      <td>-0.778742</td>\n",
       "      <td>-0.582134</td>\n",
       "    </tr>\n",
       "    <tr>\n",
       "      <th>4</th>\n",
       "      <td>-0.207230</td>\n",
       "      <td>-0.456344</td>\n",
       "      <td>2.192437</td>\n",
       "    </tr>\n",
       "  </tbody>\n",
       "</table>\n",
       "</div>"
      ],
      "text/plain": [
       "        Age  Work_Experience  Family_Size\n",
       "0 -1.285917        -0.456344     0.805152\n",
       "1 -0.327084        -0.456344     0.111509\n",
       "2  1.410800        -0.456344    -1.275777\n",
       "3  1.410800        -0.778742    -0.582134\n",
       "4 -0.207230        -0.456344     2.192437"
      ]
     },
     "execution_count": 59,
     "metadata": {},
     "output_type": "execute_result"
    }
   ],
   "source": [
    "train_num_attr.head()"
   ]
  },
  {
   "cell_type": "code",
   "execution_count": 60,
   "metadata": {},
   "outputs": [
    {
     "name": "stderr",
     "output_type": "stream",
     "text": [
      "C:\\Users\\HARIOHM\\anaconda3\\lib\\site-packages\\ipykernel_launcher.py:2: SettingWithCopyWarning: \n",
      "A value is trying to be set on a copy of a slice from a DataFrame.\n",
      "Try using .loc[row_indexer,col_indexer] = value instead\n",
      "\n",
      "See the caveats in the documentation: https://pandas.pydata.org/pandas-docs/stable/user_guide/indexing.html#returning-a-view-versus-a-copy\n",
      "  \n",
      "C:\\Users\\HARIOHM\\anaconda3\\lib\\site-packages\\pandas\\core\\frame.py:3069: SettingWithCopyWarning: \n",
      "A value is trying to be set on a copy of a slice from a DataFrame\n",
      "\n",
      "See the caveats in the documentation: https://pandas.pydata.org/pandas-docs/stable/user_guide/indexing.html#returning-a-view-versus-a-copy\n",
      "  self.iloc._setitem_with_indexer((slice(None), indexer), value)\n",
      "C:\\Users\\HARIOHM\\anaconda3\\lib\\site-packages\\pandas\\core\\frame.py:3034: SettingWithCopyWarning: \n",
      "A value is trying to be set on a copy of a slice from a DataFrame\n",
      "\n",
      "See the caveats in the documentation: https://pandas.pydata.org/pandas-docs/stable/user_guide/indexing.html#returning-a-view-versus-a-copy\n",
      "  self._setitem_array(key, value)\n",
      "C:\\Users\\HARIOHM\\anaconda3\\lib\\site-packages\\ipykernel_launcher.py:3: SettingWithCopyWarning: \n",
      "A value is trying to be set on a copy of a slice from a DataFrame.\n",
      "Try using .loc[row_indexer,col_indexer] = value instead\n",
      "\n",
      "See the caveats in the documentation: https://pandas.pydata.org/pandas-docs/stable/user_guide/indexing.html#returning-a-view-versus-a-copy\n",
      "  This is separate from the ipykernel package so we can avoid doing imports until\n",
      "C:\\Users\\HARIOHM\\anaconda3\\lib\\site-packages\\pandas\\core\\frame.py:3069: SettingWithCopyWarning: \n",
      "A value is trying to be set on a copy of a slice from a DataFrame\n",
      "\n",
      "See the caveats in the documentation: https://pandas.pydata.org/pandas-docs/stable/user_guide/indexing.html#returning-a-view-versus-a-copy\n",
      "  self.iloc._setitem_with_indexer((slice(None), indexer), value)\n",
      "C:\\Users\\HARIOHM\\anaconda3\\lib\\site-packages\\pandas\\core\\frame.py:3034: SettingWithCopyWarning: \n",
      "A value is trying to be set on a copy of a slice from a DataFrame\n",
      "\n",
      "See the caveats in the documentation: https://pandas.pydata.org/pandas-docs/stable/user_guide/indexing.html#returning-a-view-versus-a-copy\n",
      "  self._setitem_array(key, value)\n",
      "C:\\Users\\HARIOHM\\anaconda3\\lib\\site-packages\\ipykernel_launcher.py:4: SettingWithCopyWarning: \n",
      "A value is trying to be set on a copy of a slice from a DataFrame.\n",
      "Try using .loc[row_indexer,col_indexer] = value instead\n",
      "\n",
      "See the caveats in the documentation: https://pandas.pydata.org/pandas-docs/stable/user_guide/indexing.html#returning-a-view-versus-a-copy\n",
      "  after removing the cwd from sys.path.\n",
      "C:\\Users\\HARIOHM\\anaconda3\\lib\\site-packages\\pandas\\core\\frame.py:3069: SettingWithCopyWarning: \n",
      "A value is trying to be set on a copy of a slice from a DataFrame\n",
      "\n",
      "See the caveats in the documentation: https://pandas.pydata.org/pandas-docs/stable/user_guide/indexing.html#returning-a-view-versus-a-copy\n",
      "  self.iloc._setitem_with_indexer((slice(None), indexer), value)\n",
      "C:\\Users\\HARIOHM\\anaconda3\\lib\\site-packages\\pandas\\core\\frame.py:3034: SettingWithCopyWarning: \n",
      "A value is trying to be set on a copy of a slice from a DataFrame\n",
      "\n",
      "See the caveats in the documentation: https://pandas.pydata.org/pandas-docs/stable/user_guide/indexing.html#returning-a-view-versus-a-copy\n",
      "  self._setitem_array(key, value)\n"
     ]
    }
   ],
   "source": [
    "#Scale the test_num_attr:\n",
    "test_num_attr[['Age']] = StdScale.fit_transform(test_num_attr[['Age']])\n",
    "test_num_attr[['Work_Experience']] = StdScale.fit_transform(test_num_attr[['Work_Experience']])\n",
    "test_num_attr[['Family_Size']] = StdScale.fit_transform(test_num_attr[['Family_Size']])"
   ]
  },
  {
   "cell_type": "code",
   "execution_count": 61,
   "metadata": {},
   "outputs": [
    {
     "data": {
      "text/html": [
       "<div>\n",
       "<style scoped>\n",
       "    .dataframe tbody tr th:only-of-type {\n",
       "        vertical-align: middle;\n",
       "    }\n",
       "\n",
       "    .dataframe tbody tr th {\n",
       "        vertical-align: top;\n",
       "    }\n",
       "\n",
       "    .dataframe thead th {\n",
       "        text-align: right;\n",
       "    }\n",
       "</style>\n",
       "<table border=\"1\" class=\"dataframe\">\n",
       "  <thead>\n",
       "    <tr style=\"text-align: right;\">\n",
       "      <th></th>\n",
       "      <th>Age</th>\n",
       "      <th>Work_Experience</th>\n",
       "      <th>Family_Size</th>\n",
       "    </tr>\n",
       "  </thead>\n",
       "  <tbody>\n",
       "    <tr>\n",
       "      <th>0</th>\n",
       "      <td>-0.451029</td>\n",
       "      <td>-0.815223</td>\n",
       "      <td>-1.208229</td>\n",
       "    </tr>\n",
       "    <tr>\n",
       "      <th>1</th>\n",
       "      <td>-0.392012</td>\n",
       "      <td>2.013826</td>\n",
       "      <td>0.837325</td>\n",
       "    </tr>\n",
       "    <tr>\n",
       "      <th>2</th>\n",
       "      <td>1.496528</td>\n",
       "      <td>-0.815223</td>\n",
       "      <td>-1.208229</td>\n",
       "    </tr>\n",
       "    <tr>\n",
       "      <th>3</th>\n",
       "      <td>0.906359</td>\n",
       "      <td>2.013826</td>\n",
       "      <td>-0.526378</td>\n",
       "    </tr>\n",
       "    <tr>\n",
       "      <th>4</th>\n",
       "      <td>-1.454315</td>\n",
       "      <td>-0.438016</td>\n",
       "      <td>0.837325</td>\n",
       "    </tr>\n",
       "  </tbody>\n",
       "</table>\n",
       "</div>"
      ],
      "text/plain": [
       "        Age  Work_Experience  Family_Size\n",
       "0 -0.451029        -0.815223    -1.208229\n",
       "1 -0.392012         2.013826     0.837325\n",
       "2  1.496528        -0.815223    -1.208229\n",
       "3  0.906359         2.013826    -0.526378\n",
       "4 -1.454315        -0.438016     0.837325"
      ]
     },
     "execution_count": 61,
     "metadata": {},
     "output_type": "execute_result"
    }
   ],
   "source": [
    "test_num_attr.head()"
   ]
  },
  {
   "cell_type": "code",
   "execution_count": 62,
   "metadata": {},
   "outputs": [
    {
     "data": {
      "text/plain": [
       "(5, 19)"
      ]
     },
     "execution_count": 62,
     "metadata": {},
     "output_type": "execute_result"
    }
   ],
   "source": [
    "#DO the Encoding(dummification) to the cat_attr:\n",
    "dummies1 = pd.get_dummies(train_cat_attr[['Gender',\n",
    " 'Ever_Married',\n",
    " 'Graduated',\n",
    " 'Profession',\n",
    " 'Spending_Score',\n",
    " 'Var_1'\n",
    " ]],drop_first=True)\n",
    "dummies1.head().shape"
   ]
  },
  {
   "cell_type": "code",
   "execution_count": 63,
   "metadata": {},
   "outputs": [
    {
     "data": {
      "text/plain": [
       "(5, 19)"
      ]
     },
     "execution_count": 63,
     "metadata": {},
     "output_type": "execute_result"
    }
   ],
   "source": [
    "#DO the Encoding(dummification) to the cat_attr:\n",
    "dummies2 = pd.get_dummies(test_cat_attr[['Gender',\n",
    " 'Ever_Married',\n",
    " 'Graduated',\n",
    " 'Profession',\n",
    " 'Spending_Score',\n",
    " 'Var_1'\n",
    " ]],drop_first=True)\n",
    "\n",
    "dummies2.head().shape"
   ]
  },
  {
   "cell_type": "code",
   "execution_count": 64,
   "metadata": {},
   "outputs": [
    {
     "data": {
      "text/plain": [
       "Index(['Gender_Male', 'Ever_Married_Yes', 'Graduated_Yes', 'Profession_Doctor',\n",
       "       'Profession_Engineer', 'Profession_Entertainment',\n",
       "       'Profession_Executive', 'Profession_Healthcare', 'Profession_Homemaker',\n",
       "       'Profession_Lawyer', 'Profession_Marketing', 'Spending_Score_High',\n",
       "       'Spending_Score_Low', 'Var_1_Cat_2', 'Var_1_Cat_3', 'Var_1_Cat_4',\n",
       "       'Var_1_Cat_5', 'Var_1_Cat_6', 'Var_1_Cat_7'],\n",
       "      dtype='object')"
      ]
     },
     "execution_count": 64,
     "metadata": {},
     "output_type": "execute_result"
    }
   ],
   "source": [
    "dummies1.columns"
   ]
  },
  {
   "cell_type": "code",
   "execution_count": 65,
   "metadata": {},
   "outputs": [
    {
     "data": {
      "text/plain": [
       "Index(['Gender_Male', 'Ever_Married_Yes', 'Graduated_Yes', 'Profession_Doctor',\n",
       "       'Profession_Engineer', 'Profession_Entertainment',\n",
       "       'Profession_Executive', 'Profession_Healthcare', 'Profession_Homemaker',\n",
       "       'Profession_Lawyer', 'Profession_Marketing', 'Spending_Score_High',\n",
       "       'Spending_Score_Low', 'Var_1_Cat_2', 'Var_1_Cat_3', 'Var_1_Cat_4',\n",
       "       'Var_1_Cat_5', 'Var_1_Cat_6', 'Var_1_Cat_7'],\n",
       "      dtype='object')"
      ]
     },
     "execution_count": 65,
     "metadata": {},
     "output_type": "execute_result"
    }
   ],
   "source": [
    "dummies2.columns"
   ]
  },
  {
   "cell_type": "code",
   "execution_count": 66,
   "metadata": {},
   "outputs": [
    {
     "data": {
      "text/html": [
       "<div>\n",
       "<style scoped>\n",
       "    .dataframe tbody tr th:only-of-type {\n",
       "        vertical-align: middle;\n",
       "    }\n",
       "\n",
       "    .dataframe tbody tr th {\n",
       "        vertical-align: top;\n",
       "    }\n",
       "\n",
       "    .dataframe thead th {\n",
       "        text-align: right;\n",
       "    }\n",
       "</style>\n",
       "<table border=\"1\" class=\"dataframe\">\n",
       "  <thead>\n",
       "    <tr style=\"text-align: right;\">\n",
       "      <th></th>\n",
       "      <th>Age</th>\n",
       "      <th>Work_Experience</th>\n",
       "      <th>Family_Size</th>\n",
       "      <th>Gender_Male</th>\n",
       "      <th>Ever_Married_Yes</th>\n",
       "      <th>Graduated_Yes</th>\n",
       "      <th>Profession_Doctor</th>\n",
       "      <th>Profession_Engineer</th>\n",
       "      <th>Profession_Entertainment</th>\n",
       "      <th>Profession_Executive</th>\n",
       "      <th>...</th>\n",
       "      <th>Profession_Marketing</th>\n",
       "      <th>Spending_Score_High</th>\n",
       "      <th>Spending_Score_Low</th>\n",
       "      <th>Var_1_Cat_2</th>\n",
       "      <th>Var_1_Cat_3</th>\n",
       "      <th>Var_1_Cat_4</th>\n",
       "      <th>Var_1_Cat_5</th>\n",
       "      <th>Var_1_Cat_6</th>\n",
       "      <th>Var_1_Cat_7</th>\n",
       "      <th>Segmentation</th>\n",
       "    </tr>\n",
       "  </thead>\n",
       "  <tbody>\n",
       "    <tr>\n",
       "      <th>0</th>\n",
       "      <td>-1.285917</td>\n",
       "      <td>-0.456344</td>\n",
       "      <td>0.805152</td>\n",
       "      <td>1</td>\n",
       "      <td>0</td>\n",
       "      <td>0</td>\n",
       "      <td>0</td>\n",
       "      <td>0</td>\n",
       "      <td>0</td>\n",
       "      <td>0</td>\n",
       "      <td>...</td>\n",
       "      <td>0</td>\n",
       "      <td>0</td>\n",
       "      <td>1</td>\n",
       "      <td>0</td>\n",
       "      <td>0</td>\n",
       "      <td>1</td>\n",
       "      <td>0</td>\n",
       "      <td>0</td>\n",
       "      <td>0</td>\n",
       "      <td>D</td>\n",
       "    </tr>\n",
       "    <tr>\n",
       "      <th>1</th>\n",
       "      <td>-0.327084</td>\n",
       "      <td>-0.456344</td>\n",
       "      <td>0.111509</td>\n",
       "      <td>0</td>\n",
       "      <td>1</td>\n",
       "      <td>1</td>\n",
       "      <td>0</td>\n",
       "      <td>1</td>\n",
       "      <td>0</td>\n",
       "      <td>0</td>\n",
       "      <td>...</td>\n",
       "      <td>0</td>\n",
       "      <td>0</td>\n",
       "      <td>0</td>\n",
       "      <td>0</td>\n",
       "      <td>0</td>\n",
       "      <td>1</td>\n",
       "      <td>0</td>\n",
       "      <td>0</td>\n",
       "      <td>0</td>\n",
       "      <td>A</td>\n",
       "    </tr>\n",
       "    <tr>\n",
       "      <th>2</th>\n",
       "      <td>1.410800</td>\n",
       "      <td>-0.456344</td>\n",
       "      <td>-1.275777</td>\n",
       "      <td>0</td>\n",
       "      <td>1</td>\n",
       "      <td>1</td>\n",
       "      <td>0</td>\n",
       "      <td>1</td>\n",
       "      <td>0</td>\n",
       "      <td>0</td>\n",
       "      <td>...</td>\n",
       "      <td>0</td>\n",
       "      <td>0</td>\n",
       "      <td>1</td>\n",
       "      <td>0</td>\n",
       "      <td>0</td>\n",
       "      <td>0</td>\n",
       "      <td>0</td>\n",
       "      <td>1</td>\n",
       "      <td>0</td>\n",
       "      <td>B</td>\n",
       "    </tr>\n",
       "    <tr>\n",
       "      <th>3</th>\n",
       "      <td>1.410800</td>\n",
       "      <td>-0.778742</td>\n",
       "      <td>-0.582134</td>\n",
       "      <td>1</td>\n",
       "      <td>1</td>\n",
       "      <td>1</td>\n",
       "      <td>0</td>\n",
       "      <td>0</td>\n",
       "      <td>0</td>\n",
       "      <td>0</td>\n",
       "      <td>...</td>\n",
       "      <td>0</td>\n",
       "      <td>1</td>\n",
       "      <td>0</td>\n",
       "      <td>0</td>\n",
       "      <td>0</td>\n",
       "      <td>0</td>\n",
       "      <td>0</td>\n",
       "      <td>1</td>\n",
       "      <td>0</td>\n",
       "      <td>B</td>\n",
       "    </tr>\n",
       "    <tr>\n",
       "      <th>4</th>\n",
       "      <td>-0.207230</td>\n",
       "      <td>-0.456344</td>\n",
       "      <td>2.192437</td>\n",
       "      <td>0</td>\n",
       "      <td>1</td>\n",
       "      <td>1</td>\n",
       "      <td>0</td>\n",
       "      <td>0</td>\n",
       "      <td>1</td>\n",
       "      <td>0</td>\n",
       "      <td>...</td>\n",
       "      <td>0</td>\n",
       "      <td>1</td>\n",
       "      <td>0</td>\n",
       "      <td>0</td>\n",
       "      <td>0</td>\n",
       "      <td>0</td>\n",
       "      <td>0</td>\n",
       "      <td>1</td>\n",
       "      <td>0</td>\n",
       "      <td>A</td>\n",
       "    </tr>\n",
       "  </tbody>\n",
       "</table>\n",
       "<p>5 rows × 23 columns</p>\n",
       "</div>"
      ],
      "text/plain": [
       "        Age  Work_Experience  Family_Size  Gender_Male  Ever_Married_Yes  \\\n",
       "0 -1.285917        -0.456344     0.805152            1                 0   \n",
       "1 -0.327084        -0.456344     0.111509            0                 1   \n",
       "2  1.410800        -0.456344    -1.275777            0                 1   \n",
       "3  1.410800        -0.778742    -0.582134            1                 1   \n",
       "4 -0.207230        -0.456344     2.192437            0                 1   \n",
       "\n",
       "   Graduated_Yes  Profession_Doctor  Profession_Engineer  \\\n",
       "0              0                  0                    0   \n",
       "1              1                  0                    1   \n",
       "2              1                  0                    1   \n",
       "3              1                  0                    0   \n",
       "4              1                  0                    0   \n",
       "\n",
       "   Profession_Entertainment  Profession_Executive  ...  Profession_Marketing  \\\n",
       "0                         0                     0  ...                     0   \n",
       "1                         0                     0  ...                     0   \n",
       "2                         0                     0  ...                     0   \n",
       "3                         0                     0  ...                     0   \n",
       "4                         1                     0  ...                     0   \n",
       "\n",
       "   Spending_Score_High  Spending_Score_Low  Var_1_Cat_2  Var_1_Cat_3  \\\n",
       "0                    0                   1            0            0   \n",
       "1                    0                   0            0            0   \n",
       "2                    0                   1            0            0   \n",
       "3                    1                   0            0            0   \n",
       "4                    1                   0            0            0   \n",
       "\n",
       "   Var_1_Cat_4  Var_1_Cat_5  Var_1_Cat_6  Var_1_Cat_7  Segmentation  \n",
       "0            1            0            0            0             D  \n",
       "1            1            0            0            0             A  \n",
       "2            0            0            1            0             B  \n",
       "3            0            0            1            0             B  \n",
       "4            0            0            1            0             A  \n",
       "\n",
       "[5 rows x 23 columns]"
      ]
     },
     "execution_count": 66,
     "metadata": {},
     "output_type": "execute_result"
    }
   ],
   "source": [
    "#Combine the scaled train_num_attr and dummies1:\n",
    "#Combine the numerical and Categorical data for train_data:\n",
    "#Combine the train_num_attr and dummies1:\n",
    "train_final = pd.concat([train_num_attr,dummies1,train_Segmentation],axis=1)\n",
    "train_final.head()"
   ]
  },
  {
   "cell_type": "code",
   "execution_count": 67,
   "metadata": {},
   "outputs": [
    {
     "data": {
      "text/html": [
       "<div>\n",
       "<style scoped>\n",
       "    .dataframe tbody tr th:only-of-type {\n",
       "        vertical-align: middle;\n",
       "    }\n",
       "\n",
       "    .dataframe tbody tr th {\n",
       "        vertical-align: top;\n",
       "    }\n",
       "\n",
       "    .dataframe thead th {\n",
       "        text-align: right;\n",
       "    }\n",
       "</style>\n",
       "<table border=\"1\" class=\"dataframe\">\n",
       "  <thead>\n",
       "    <tr style=\"text-align: right;\">\n",
       "      <th></th>\n",
       "      <th>Age</th>\n",
       "      <th>Work_Experience</th>\n",
       "      <th>Family_Size</th>\n",
       "      <th>Gender_Male</th>\n",
       "      <th>Ever_Married_Yes</th>\n",
       "      <th>Graduated_Yes</th>\n",
       "      <th>Profession_Doctor</th>\n",
       "      <th>Profession_Engineer</th>\n",
       "      <th>Profession_Entertainment</th>\n",
       "      <th>Profession_Executive</th>\n",
       "      <th>...</th>\n",
       "      <th>Profession_Lawyer</th>\n",
       "      <th>Profession_Marketing</th>\n",
       "      <th>Spending_Score_High</th>\n",
       "      <th>Spending_Score_Low</th>\n",
       "      <th>Var_1_Cat_2</th>\n",
       "      <th>Var_1_Cat_3</th>\n",
       "      <th>Var_1_Cat_4</th>\n",
       "      <th>Var_1_Cat_5</th>\n",
       "      <th>Var_1_Cat_6</th>\n",
       "      <th>Var_1_Cat_7</th>\n",
       "    </tr>\n",
       "  </thead>\n",
       "  <tbody>\n",
       "    <tr>\n",
       "      <th>0</th>\n",
       "      <td>-0.451029</td>\n",
       "      <td>-0.815223</td>\n",
       "      <td>-1.208229</td>\n",
       "      <td>0</td>\n",
       "      <td>1</td>\n",
       "      <td>1</td>\n",
       "      <td>0</td>\n",
       "      <td>1</td>\n",
       "      <td>0</td>\n",
       "      <td>0</td>\n",
       "      <td>...</td>\n",
       "      <td>0</td>\n",
       "      <td>0</td>\n",
       "      <td>0</td>\n",
       "      <td>1</td>\n",
       "      <td>0</td>\n",
       "      <td>0</td>\n",
       "      <td>0</td>\n",
       "      <td>0</td>\n",
       "      <td>1</td>\n",
       "      <td>0</td>\n",
       "    </tr>\n",
       "    <tr>\n",
       "      <th>1</th>\n",
       "      <td>-0.392012</td>\n",
       "      <td>2.013826</td>\n",
       "      <td>0.837325</td>\n",
       "      <td>1</td>\n",
       "      <td>1</td>\n",
       "      <td>1</td>\n",
       "      <td>0</td>\n",
       "      <td>0</td>\n",
       "      <td>0</td>\n",
       "      <td>0</td>\n",
       "      <td>...</td>\n",
       "      <td>0</td>\n",
       "      <td>0</td>\n",
       "      <td>0</td>\n",
       "      <td>0</td>\n",
       "      <td>0</td>\n",
       "      <td>0</td>\n",
       "      <td>0</td>\n",
       "      <td>0</td>\n",
       "      <td>1</td>\n",
       "      <td>0</td>\n",
       "    </tr>\n",
       "    <tr>\n",
       "      <th>2</th>\n",
       "      <td>1.496528</td>\n",
       "      <td>-0.815223</td>\n",
       "      <td>-1.208229</td>\n",
       "      <td>0</td>\n",
       "      <td>1</td>\n",
       "      <td>0</td>\n",
       "      <td>0</td>\n",
       "      <td>0</td>\n",
       "      <td>0</td>\n",
       "      <td>0</td>\n",
       "      <td>...</td>\n",
       "      <td>0</td>\n",
       "      <td>0</td>\n",
       "      <td>0</td>\n",
       "      <td>1</td>\n",
       "      <td>0</td>\n",
       "      <td>0</td>\n",
       "      <td>0</td>\n",
       "      <td>0</td>\n",
       "      <td>1</td>\n",
       "      <td>0</td>\n",
       "    </tr>\n",
       "    <tr>\n",
       "      <th>3</th>\n",
       "      <td>0.906359</td>\n",
       "      <td>2.013826</td>\n",
       "      <td>-0.526378</td>\n",
       "      <td>1</td>\n",
       "      <td>1</td>\n",
       "      <td>0</td>\n",
       "      <td>0</td>\n",
       "      <td>0</td>\n",
       "      <td>0</td>\n",
       "      <td>1</td>\n",
       "      <td>...</td>\n",
       "      <td>0</td>\n",
       "      <td>0</td>\n",
       "      <td>1</td>\n",
       "      <td>0</td>\n",
       "      <td>0</td>\n",
       "      <td>0</td>\n",
       "      <td>0</td>\n",
       "      <td>0</td>\n",
       "      <td>1</td>\n",
       "      <td>0</td>\n",
       "    </tr>\n",
       "    <tr>\n",
       "      <th>4</th>\n",
       "      <td>-1.454315</td>\n",
       "      <td>-0.438016</td>\n",
       "      <td>0.837325</td>\n",
       "      <td>0</td>\n",
       "      <td>0</td>\n",
       "      <td>0</td>\n",
       "      <td>0</td>\n",
       "      <td>0</td>\n",
       "      <td>0</td>\n",
       "      <td>0</td>\n",
       "      <td>...</td>\n",
       "      <td>0</td>\n",
       "      <td>1</td>\n",
       "      <td>0</td>\n",
       "      <td>1</td>\n",
       "      <td>0</td>\n",
       "      <td>0</td>\n",
       "      <td>0</td>\n",
       "      <td>0</td>\n",
       "      <td>1</td>\n",
       "      <td>0</td>\n",
       "    </tr>\n",
       "  </tbody>\n",
       "</table>\n",
       "<p>5 rows × 22 columns</p>\n",
       "</div>"
      ],
      "text/plain": [
       "        Age  Work_Experience  Family_Size  Gender_Male  Ever_Married_Yes  \\\n",
       "0 -0.451029        -0.815223    -1.208229            0                 1   \n",
       "1 -0.392012         2.013826     0.837325            1                 1   \n",
       "2  1.496528        -0.815223    -1.208229            0                 1   \n",
       "3  0.906359         2.013826    -0.526378            1                 1   \n",
       "4 -1.454315        -0.438016     0.837325            0                 0   \n",
       "\n",
       "   Graduated_Yes  Profession_Doctor  Profession_Engineer  \\\n",
       "0              1                  0                    1   \n",
       "1              1                  0                    0   \n",
       "2              0                  0                    0   \n",
       "3              0                  0                    0   \n",
       "4              0                  0                    0   \n",
       "\n",
       "   Profession_Entertainment  Profession_Executive  ...  Profession_Lawyer  \\\n",
       "0                         0                     0  ...                  0   \n",
       "1                         0                     0  ...                  0   \n",
       "2                         0                     0  ...                  0   \n",
       "3                         0                     1  ...                  0   \n",
       "4                         0                     0  ...                  0   \n",
       "\n",
       "   Profession_Marketing  Spending_Score_High  Spending_Score_Low  Var_1_Cat_2  \\\n",
       "0                     0                    0                   1            0   \n",
       "1                     0                    0                   0            0   \n",
       "2                     0                    0                   1            0   \n",
       "3                     0                    1                   0            0   \n",
       "4                     1                    0                   1            0   \n",
       "\n",
       "   Var_1_Cat_3  Var_1_Cat_4  Var_1_Cat_5  Var_1_Cat_6  Var_1_Cat_7  \n",
       "0            0            0            0            1            0  \n",
       "1            0            0            0            1            0  \n",
       "2            0            0            0            1            0  \n",
       "3            0            0            0            1            0  \n",
       "4            0            0            0            1            0  \n",
       "\n",
       "[5 rows x 22 columns]"
      ]
     },
     "execution_count": 67,
     "metadata": {},
     "output_type": "execute_result"
    }
   ],
   "source": [
    "#Combine the scaled test_num_attr and dummies2:\n",
    "#Combine the numerical and Categorical data for test_data:\n",
    "#Combine the tesr_num_attr and dummies2:\n",
    "test_final = pd.concat([test_num_attr,dummies2],axis=1)\n",
    "test_final.head()"
   ]
  },
  {
   "cell_type": "code",
   "execution_count": 68,
   "metadata": {},
   "outputs": [
    {
     "name": "stdout",
     "output_type": "stream",
     "text": [
      "Dimension for the train_final: (8068, 23)\n",
      "Dimension for the test_final: (2627, 22)\n"
     ]
    }
   ],
   "source": [
    "#New Dimesnion for the train_final and test_final data:\n",
    "print(\"Dimension for the train_final:\",train_final.shape)\n",
    "print(\"Dimension for the test_final:\",test_final.shape)"
   ]
  },
  {
   "cell_type": "code",
   "execution_count": 69,
   "metadata": {},
   "outputs": [
    {
     "data": {
      "text/plain": [
       "Index(['Age', 'Work_Experience', 'Family_Size', 'Gender_Male',\n",
       "       'Ever_Married_Yes', 'Graduated_Yes', 'Profession_Doctor',\n",
       "       'Profession_Engineer', 'Profession_Entertainment',\n",
       "       'Profession_Executive', 'Profession_Healthcare', 'Profession_Homemaker',\n",
       "       'Profession_Lawyer', 'Profession_Marketing', 'Spending_Score_High',\n",
       "       'Spending_Score_Low', 'Var_1_Cat_2', 'Var_1_Cat_3', 'Var_1_Cat_4',\n",
       "       'Var_1_Cat_5', 'Var_1_Cat_6', 'Var_1_Cat_7', 'Segmentation'],\n",
       "      dtype='object')"
      ]
     },
     "execution_count": 69,
     "metadata": {},
     "output_type": "execute_result"
    }
   ],
   "source": [
    "#Train_columns:\n",
    "train_final.columns"
   ]
  },
  {
   "cell_type": "code",
   "execution_count": 70,
   "metadata": {},
   "outputs": [
    {
     "data": {
      "text/plain": [
       "Index(['Age', 'Work_Experience', 'Family_Size', 'Gender_Male',\n",
       "       'Ever_Married_Yes', 'Graduated_Yes', 'Profession_Doctor',\n",
       "       'Profession_Engineer', 'Profession_Entertainment',\n",
       "       'Profession_Executive', 'Profession_Healthcare', 'Profession_Homemaker',\n",
       "       'Profession_Lawyer', 'Profession_Marketing', 'Spending_Score_High',\n",
       "       'Spending_Score_Low', 'Var_1_Cat_2', 'Var_1_Cat_3', 'Var_1_Cat_4',\n",
       "       'Var_1_Cat_5', 'Var_1_Cat_6', 'Var_1_Cat_7'],\n",
       "      dtype='object')"
      ]
     },
     "execution_count": 70,
     "metadata": {},
     "output_type": "execute_result"
    }
   ],
   "source": [
    "#Test Columns:\n",
    "test_final.columns"
   ]
  },
  {
   "cell_type": "code",
   "execution_count": 71,
   "metadata": {},
   "outputs": [
    {
     "data": {
      "text/plain": [
       "Segmentation\n",
       "D               2268\n",
       "A               1972\n",
       "C               1970\n",
       "B               1858\n",
       "dtype: int64"
      ]
     },
     "execution_count": 71,
     "metadata": {},
     "output_type": "execute_result"
    }
   ],
   "source": [
    "#We know the target column is \"is_promoted\":\n",
    "train_final[[\"Segmentation\"]].value_counts()"
   ]
  },
  {
   "cell_type": "code",
   "execution_count": 72,
   "metadata": {},
   "outputs": [
    {
     "data": {
      "text/plain": [
       "Segmentation\n",
       "D               28.111056\n",
       "A               24.442241\n",
       "C               24.417452\n",
       "B               23.029251\n",
       "dtype: float64"
      ]
     },
     "execution_count": 72,
     "metadata": {},
     "output_type": "execute_result"
    }
   ],
   "source": [
    "#Data Distribution for the Crop_Damage(Target_Column):\n",
    "#Value Percentage wise in target column(\"is_promoted\"): \n",
    "train_final[[\"Segmentation\"]].value_counts()/train_final.shape[0]*100"
   ]
  },
  {
   "cell_type": "code",
   "execution_count": 73,
   "metadata": {},
   "outputs": [
    {
     "data": {
      "image/png": "[encoded data removed]",
      "text/plain": [
       "<Figure size 432x288 with 1 Axes>"
      ]
     },
     "metadata": {
      "needs_background": "light"
     },
     "output_type": "display_data"
    }
   ],
   "source": [
    "fig = plt.figure()\n",
    "ax = fig.add_axes([0,0,1,1])\n",
    "Segment = [\"A\",\"B\",\"C\",\"D\"]\n",
    "value = [24.442241,23.029251,24.417452,28.111056]\n",
    "ax.bar(Segment,value)\n",
    "plt.show()"
   ]
  },
  {
   "cell_type": "code",
   "execution_count": 74,
   "metadata": {},
   "outputs": [],
   "source": [
    "#Drop the \"Segmentation\" in train_final data:\n",
    "train_final.drop([\"Segmentation\"],axis=1,inplace=True)"
   ]
  },
  {
   "cell_type": "code",
   "execution_count": 75,
   "metadata": {},
   "outputs": [],
   "source": [
    "#Split train_final into train and test:\n",
    "from sklearn.model_selection import train_test_split\n",
    "X_train,X_test,y_train,y_test=train_test_split(train_final,train_Segmentation,test_size=0.20,random_state=123)"
   ]
  },
  {
   "cell_type": "code",
   "execution_count": 76,
   "metadata": {},
   "outputs": [
    {
     "data": {
      "text/plain": [
       "((6454, 22), (6454, 1))"
      ]
     },
     "execution_count": 76,
     "metadata": {},
     "output_type": "execute_result"
    }
   ],
   "source": [
    "X_train.shape,y_train.shape"
   ]
  },
  {
   "cell_type": "code",
   "execution_count": 77,
   "metadata": {},
   "outputs": [
    {
     "data": {
      "text/plain": [
       "((1614, 22), (1614, 1))"
      ]
     },
     "execution_count": 77,
     "metadata": {},
     "output_type": "execute_result"
    }
   ],
   "source": [
    "X_test.shape,y_test.shape"
   ]
  },
  {
   "cell_type": "code",
   "execution_count": 78,
   "metadata": {},
   "outputs": [],
   "source": [
    "#After Observing the Target column which has four levels(A,B,C,D)\n",
    "#This is a classification Problem."
   ]
  },
  {
   "cell_type": "code",
   "execution_count": 79,
   "metadata": {},
   "outputs": [
    {
     "name": "stdout",
     "output_type": "stream",
     "text": [
      "--------------------------------------------------Model Building-------------------------------------------------------\n"
     ]
    }
   ],
   "source": [
    "print(\"--------------------------------------------------Model Building-------------------------------------------------------\")"
   ]
  },
  {
   "cell_type": "code",
   "execution_count": 80,
   "metadata": {},
   "outputs": [
    {
     "name": "stderr",
     "output_type": "stream",
     "text": [
      "C:\\Users\\HARIOHM\\anaconda3\\lib\\site-packages\\sklearn\\utils\\validation.py:73: DataConversionWarning: A column-vector y was passed when a 1d array was expected. Please change the shape of y to (n_samples, ), for example using ravel().\n",
      "  return f(**kwargs)\n"
     ]
    },
    {
     "data": {
      "text/plain": [
       "LogisticRegression()"
      ]
     },
     "execution_count": 80,
     "metadata": {},
     "output_type": "execute_result"
    }
   ],
   "source": [
    "#Build the LogisticRegression:\n",
    "from sklearn.linear_model import LogisticRegression\n",
    "LogR = LogisticRegression(solver=\"lbfgs\")\n",
    "#Build the Model:\n",
    "LogR.fit(X_train,y_train)"
   ]
  },
  {
   "cell_type": "code",
   "execution_count": 81,
   "metadata": {},
   "outputs": [],
   "source": [
    "#Predict on X_train itself to verify with the actual result:\n",
    "pred_X_train = LogR.predict(X_train)"
   ]
  },
  {
   "cell_type": "code",
   "execution_count": 82,
   "metadata": {},
   "outputs": [],
   "source": [
    "#Predict on Validation Data which is (X_test) and actual_test data:\n",
    "pred_X_test_log = LogR.predict(X_test)\n",
    "pred_test_log = LogR.predict(test_final)"
   ]
  },
  {
   "cell_type": "code",
   "execution_count": 83,
   "metadata": {},
   "outputs": [
    {
     "name": "stdout",
     "output_type": "stream",
     "text": [
      "-----Result on Train Data-----------\n",
      "              precision    recall  f1-score   support\n",
      "\n",
      "           A       0.49      0.43      0.46      1811\n",
      "           B       0.21      0.39      0.28       800\n",
      "           C       0.61      0.52      0.56      1881\n",
      "           D       0.70      0.65      0.68      1962\n",
      "\n",
      "    accuracy                           0.52      6454\n",
      "   macro avg       0.50      0.50      0.49      6454\n",
      "weighted avg       0.56      0.52      0.53      6454\n",
      "\n",
      "-----Result on Validation Data------\n",
      "              precision    recall  f1-score   support\n",
      "\n",
      "           A       0.49      0.43      0.46       461\n",
      "           B       0.20      0.39      0.26       199\n",
      "           C       0.58      0.47      0.52       466\n",
      "           D       0.70      0.63      0.66       488\n",
      "\n",
      "    accuracy                           0.50      1614\n",
      "   macro avg       0.49      0.48      0.47      1614\n",
      "weighted avg       0.54      0.50      0.51      1614\n",
      "\n"
     ]
    }
   ],
   "source": [
    "#Check the Metrics on X_train using which model was built:\n",
    "from sklearn.metrics import classification_report,accuracy_score\n",
    "result_X_train_log = classification_report(pred_X_train,y_train)\n",
    "result_X_test_log = classification_report(pred_X_test_log,y_test)\n",
    "print(\"-----Result on Train Data-----------\")\n",
    "print(result_X_train_log)\n",
    "print(\"-----Result on Validation Data------\")\n",
    "print(result_X_test_log)\n",
    "#classification_report()"
   ]
  },
  {
   "cell_type": "code",
   "execution_count": 84,
   "metadata": {},
   "outputs": [],
   "source": [
    "#Concat the test_employee_id and pred_test:\n",
    "Sub_Log = pd.concat([test_ID,pd.Series(pred_test_log)],axis=1)"
   ]
  },
  {
   "cell_type": "code",
   "execution_count": 85,
   "metadata": {},
   "outputs": [
    {
     "data": {
      "text/html": [
       "<div>\n",
       "<style scoped>\n",
       "    .dataframe tbody tr th:only-of-type {\n",
       "        vertical-align: middle;\n",
       "    }\n",
       "\n",
       "    .dataframe tbody tr th {\n",
       "        vertical-align: top;\n",
       "    }\n",
       "\n",
       "    .dataframe thead th {\n",
       "        text-align: right;\n",
       "    }\n",
       "</style>\n",
       "<table border=\"1\" class=\"dataframe\">\n",
       "  <thead>\n",
       "    <tr style=\"text-align: right;\">\n",
       "      <th></th>\n",
       "      <th>ID</th>\n",
       "      <th>0</th>\n",
       "    </tr>\n",
       "  </thead>\n",
       "  <tbody>\n",
       "    <tr>\n",
       "      <th>0</th>\n",
       "      <td>458989</td>\n",
       "      <td>A</td>\n",
       "    </tr>\n",
       "    <tr>\n",
       "      <th>1</th>\n",
       "      <td>458994</td>\n",
       "      <td>C</td>\n",
       "    </tr>\n",
       "    <tr>\n",
       "      <th>2</th>\n",
       "      <td>458996</td>\n",
       "      <td>B</td>\n",
       "    </tr>\n",
       "    <tr>\n",
       "      <th>3</th>\n",
       "      <td>459000</td>\n",
       "      <td>A</td>\n",
       "    </tr>\n",
       "    <tr>\n",
       "      <th>4</th>\n",
       "      <td>459001</td>\n",
       "      <td>D</td>\n",
       "    </tr>\n",
       "  </tbody>\n",
       "</table>\n",
       "</div>"
      ],
      "text/plain": [
       "       ID  0\n",
       "0  458989  A\n",
       "1  458994  C\n",
       "2  458996  B\n",
       "3  459000  A\n",
       "4  459001  D"
      ]
     },
     "execution_count": 85,
     "metadata": {},
     "output_type": "execute_result"
    }
   ],
   "source": [
    "Sub_Log.head()"
   ]
  },
  {
   "cell_type": "code",
   "execution_count": 86,
   "metadata": {},
   "outputs": [],
   "source": [
    "Sub_Log.rename(columns={0:\"Segmentation\"},inplace=True)"
   ]
  },
  {
   "cell_type": "code",
   "execution_count": 87,
   "metadata": {},
   "outputs": [
    {
     "data": {
      "text/html": [
       "<div>\n",
       "<style scoped>\n",
       "    .dataframe tbody tr th:only-of-type {\n",
       "        vertical-align: middle;\n",
       "    }\n",
       "\n",
       "    .dataframe tbody tr th {\n",
       "        vertical-align: top;\n",
       "    }\n",
       "\n",
       "    .dataframe thead th {\n",
       "        text-align: right;\n",
       "    }\n",
       "</style>\n",
       "<table border=\"1\" class=\"dataframe\">\n",
       "  <thead>\n",
       "    <tr style=\"text-align: right;\">\n",
       "      <th></th>\n",
       "      <th>ID</th>\n",
       "      <th>Segmentation</th>\n",
       "    </tr>\n",
       "  </thead>\n",
       "  <tbody>\n",
       "    <tr>\n",
       "      <th>0</th>\n",
       "      <td>458989</td>\n",
       "      <td>A</td>\n",
       "    </tr>\n",
       "    <tr>\n",
       "      <th>1</th>\n",
       "      <td>458994</td>\n",
       "      <td>C</td>\n",
       "    </tr>\n",
       "    <tr>\n",
       "      <th>2</th>\n",
       "      <td>458996</td>\n",
       "      <td>B</td>\n",
       "    </tr>\n",
       "    <tr>\n",
       "      <th>3</th>\n",
       "      <td>459000</td>\n",
       "      <td>A</td>\n",
       "    </tr>\n",
       "    <tr>\n",
       "      <th>4</th>\n",
       "      <td>459001</td>\n",
       "      <td>D</td>\n",
       "    </tr>\n",
       "  </tbody>\n",
       "</table>\n",
       "</div>"
      ],
      "text/plain": [
       "       ID Segmentation\n",
       "0  458989            A\n",
       "1  458994            C\n",
       "2  458996            B\n",
       "3  459000            A\n",
       "4  459001            D"
      ]
     },
     "execution_count": 87,
     "metadata": {},
     "output_type": "execute_result"
    }
   ],
   "source": [
    "Sub_Log.head()"
   ]
  },
  {
   "cell_type": "code",
   "execution_count": 88,
   "metadata": {},
   "outputs": [],
   "source": [
    "#Export Result into Local System:\n",
    "Sub_Log.to_csv(\"1.Sub_Log.csv\",index=False)"
   ]
  },
  {
   "cell_type": "code",
   "execution_count": 89,
   "metadata": {},
   "outputs": [],
   "source": [
    "#Result on Portal:\n",
    "#Your score for this submission is : 0.50285351934052,"
   ]
  },
  {
   "cell_type": "markdown",
   "metadata": {},
   "source": [
    "# 2. KNN Classifier"
   ]
  },
  {
   "cell_type": "code",
   "execution_count": 90,
   "metadata": {},
   "outputs": [
    {
     "name": "stderr",
     "output_type": "stream",
     "text": [
      "C:\\Users\\HARIOHM\\anaconda3\\lib\\site-packages\\ipykernel_launcher.py:5: DataConversionWarning: A column-vector y was passed when a 1d array was expected. Please change the shape of y to (n_samples, ), for example using ravel().\n",
      "  \"\"\"\n"
     ]
    },
    {
     "data": {
      "text/plain": [
       "KNeighborsClassifier()"
      ]
     },
     "execution_count": 90,
     "metadata": {},
     "output_type": "execute_result"
    }
   ],
   "source": [
    "#Build the KNN Model(Modelless) Algorithm:\n",
    "from sklearn.neighbors import KNeighborsClassifier\n",
    "KNN_class = KNeighborsClassifier(n_neighbors = 5,metric = \"minkowski\",p=2)\n",
    "#Build the Model:\n",
    "KNN_class.fit(X_train,y_train)"
   ]
  },
  {
   "cell_type": "code",
   "execution_count": 91,
   "metadata": {},
   "outputs": [],
   "source": [
    "#Predict on X_train itself to verify with the actual result:\n",
    "pred_X_train_KNN = KNN_class.predict(X_train)"
   ]
  },
  {
   "cell_type": "code",
   "execution_count": 92,
   "metadata": {},
   "outputs": [],
   "source": [
    "#Predict on Validation Data which is (X_test) and actual_test data:\n",
    "pred_X_test_KNN = KNN_class.predict(X_test)\n",
    "pred_test_KNN = KNN_class.predict(test_final)"
   ]
  },
  {
   "cell_type": "code",
   "execution_count": 93,
   "metadata": {},
   "outputs": [
    {
     "name": "stdout",
     "output_type": "stream",
     "text": [
      "-----Result on Train Data-----------\n",
      "              precision    recall  f1-score   support\n",
      "\n",
      "           A       0.67      0.55      0.60      1914\n",
      "           B       0.51      0.55      0.53      1361\n",
      "           C       0.63      0.64      0.63      1547\n",
      "           D       0.69      0.77      0.73      1632\n",
      "\n",
      "    accuracy                           0.63      6454\n",
      "   macro avg       0.62      0.63      0.62      6454\n",
      "weighted avg       0.63      0.63      0.63      6454\n",
      "\n",
      "-----Result on Validation Data------\n",
      "              precision    recall  f1-score   support\n",
      "\n",
      "           A       0.45      0.40      0.43       452\n",
      "           B       0.32      0.35      0.33       357\n",
      "           C       0.52      0.49      0.51       400\n",
      "           D       0.58      0.63      0.60       405\n",
      "\n",
      "    accuracy                           0.47      1614\n",
      "   macro avg       0.47      0.47      0.47      1614\n",
      "weighted avg       0.47      0.47      0.47      1614\n",
      "\n"
     ]
    }
   ],
   "source": [
    "#Check the Metrics on X_train using which model was built:\n",
    "from sklearn.metrics import classification_report,accuracy_score\n",
    "result_X_train_KNN = classification_report(pred_X_train_KNN,y_train)\n",
    "result_X_test_KNN = classification_report(pred_X_test_KNN,y_test)\n",
    "print(\"-----Result on Train Data-----------\")\n",
    "print(result_X_train_KNN)\n",
    "print(\"-----Result on Validation Data------\")\n",
    "print(result_X_test_KNN)\n",
    "#classification_report()"
   ]
  },
  {
   "cell_type": "code",
   "execution_count": 94,
   "metadata": {},
   "outputs": [],
   "source": [
    "#Concat the test_employee_id and pred_test:\n",
    "Sub_KNN = pd.concat([test_ID,pd.Series(pred_test_KNN)],axis=1)"
   ]
  },
  {
   "cell_type": "code",
   "execution_count": 95,
   "metadata": {},
   "outputs": [
    {
     "data": {
      "text/html": [
       "<div>\n",
       "<style scoped>\n",
       "    .dataframe tbody tr th:only-of-type {\n",
       "        vertical-align: middle;\n",
       "    }\n",
       "\n",
       "    .dataframe tbody tr th {\n",
       "        vertical-align: top;\n",
       "    }\n",
       "\n",
       "    .dataframe thead th {\n",
       "        text-align: right;\n",
       "    }\n",
       "</style>\n",
       "<table border=\"1\" class=\"dataframe\">\n",
       "  <thead>\n",
       "    <tr style=\"text-align: right;\">\n",
       "      <th></th>\n",
       "      <th>ID</th>\n",
       "      <th>0</th>\n",
       "    </tr>\n",
       "  </thead>\n",
       "  <tbody>\n",
       "    <tr>\n",
       "      <th>0</th>\n",
       "      <td>458989</td>\n",
       "      <td>B</td>\n",
       "    </tr>\n",
       "    <tr>\n",
       "      <th>1</th>\n",
       "      <td>458994</td>\n",
       "      <td>C</td>\n",
       "    </tr>\n",
       "    <tr>\n",
       "      <th>2</th>\n",
       "      <td>458996</td>\n",
       "      <td>C</td>\n",
       "    </tr>\n",
       "    <tr>\n",
       "      <th>3</th>\n",
       "      <td>459000</td>\n",
       "      <td>C</td>\n",
       "    </tr>\n",
       "    <tr>\n",
       "      <th>4</th>\n",
       "      <td>459001</td>\n",
       "      <td>D</td>\n",
       "    </tr>\n",
       "  </tbody>\n",
       "</table>\n",
       "</div>"
      ],
      "text/plain": [
       "       ID  0\n",
       "0  458989  B\n",
       "1  458994  C\n",
       "2  458996  C\n",
       "3  459000  C\n",
       "4  459001  D"
      ]
     },
     "execution_count": 95,
     "metadata": {},
     "output_type": "execute_result"
    }
   ],
   "source": [
    "Sub_KNN.head()"
   ]
  },
  {
   "cell_type": "code",
   "execution_count": 96,
   "metadata": {},
   "outputs": [],
   "source": [
    "#Rename the ColumnName:\n",
    "Sub_KNN.rename(columns = {0:\"Segmentation\"},inplace=True)"
   ]
  },
  {
   "cell_type": "code",
   "execution_count": 97,
   "metadata": {},
   "outputs": [
    {
     "data": {
      "text/html": [
       "<div>\n",
       "<style scoped>\n",
       "    .dataframe tbody tr th:only-of-type {\n",
       "        vertical-align: middle;\n",
       "    }\n",
       "\n",
       "    .dataframe tbody tr th {\n",
       "        vertical-align: top;\n",
       "    }\n",
       "\n",
       "    .dataframe thead th {\n",
       "        text-align: right;\n",
       "    }\n",
       "</style>\n",
       "<table border=\"1\" class=\"dataframe\">\n",
       "  <thead>\n",
       "    <tr style=\"text-align: right;\">\n",
       "      <th></th>\n",
       "      <th>ID</th>\n",
       "      <th>Segmentation</th>\n",
       "    </tr>\n",
       "  </thead>\n",
       "  <tbody>\n",
       "    <tr>\n",
       "      <th>0</th>\n",
       "      <td>458989</td>\n",
       "      <td>B</td>\n",
       "    </tr>\n",
       "    <tr>\n",
       "      <th>1</th>\n",
       "      <td>458994</td>\n",
       "      <td>C</td>\n",
       "    </tr>\n",
       "    <tr>\n",
       "      <th>2</th>\n",
       "      <td>458996</td>\n",
       "      <td>C</td>\n",
       "    </tr>\n",
       "    <tr>\n",
       "      <th>3</th>\n",
       "      <td>459000</td>\n",
       "      <td>C</td>\n",
       "    </tr>\n",
       "    <tr>\n",
       "      <th>4</th>\n",
       "      <td>459001</td>\n",
       "      <td>D</td>\n",
       "    </tr>\n",
       "  </tbody>\n",
       "</table>\n",
       "</div>"
      ],
      "text/plain": [
       "       ID Segmentation\n",
       "0  458989            B\n",
       "1  458994            C\n",
       "2  458996            C\n",
       "3  459000            C\n",
       "4  459001            D"
      ]
     },
     "execution_count": 97,
     "metadata": {},
     "output_type": "execute_result"
    }
   ],
   "source": [
    "Sub_KNN.head()"
   ]
  },
  {
   "cell_type": "code",
   "execution_count": 98,
   "metadata": {},
   "outputs": [],
   "source": [
    "Sub_KNN.to_csv(\"2.sub_KNN.csv\",index=False)"
   ]
  },
  {
   "cell_type": "code",
   "execution_count": 99,
   "metadata": {},
   "outputs": [],
   "source": [
    "#Portal Result:\n",
    "#Your score for this submission is : 0.553582752060875,"
   ]
  },
  {
   "cell_type": "markdown",
   "metadata": {},
   "source": [
    "# 3.Naive Bayes"
   ]
  },
  {
   "cell_type": "code",
   "execution_count": 100,
   "metadata": {},
   "outputs": [
    {
     "name": "stderr",
     "output_type": "stream",
     "text": [
      "C:\\Users\\HARIOHM\\anaconda3\\lib\\site-packages\\sklearn\\utils\\validation.py:73: DataConversionWarning: A column-vector y was passed when a 1d array was expected. Please change the shape of y to (n_samples, ), for example using ravel().\n",
      "  return f(**kwargs)\n"
     ]
    },
    {
     "data": {
      "text/plain": [
       "GaussianNB()"
      ]
     },
     "execution_count": 100,
     "metadata": {},
     "output_type": "execute_result"
    }
   ],
   "source": [
    "from sklearn.naive_bayes import GaussianNB\n",
    "GNB_class = GaussianNB()\n",
    "#Build the Model:\n",
    "GNB_class.fit(X_train,y_train)"
   ]
  },
  {
   "cell_type": "code",
   "execution_count": 101,
   "metadata": {},
   "outputs": [],
   "source": [
    "#Predict on X_train itself to verify with the actual result:\n",
    "pred_X_train_NB = GNB_class.predict(X_train)"
   ]
  },
  {
   "cell_type": "code",
   "execution_count": 102,
   "metadata": {},
   "outputs": [],
   "source": [
    "#Predict on Validation Data which is (X_test) and actual_test data:\n",
    "pred_X_test_NB = GNB_class.predict(X_test)\n",
    "pred_test_NB = GNB_class.predict(test_final)"
   ]
  },
  {
   "cell_type": "code",
   "execution_count": 103,
   "metadata": {},
   "outputs": [
    {
     "name": "stdout",
     "output_type": "stream",
     "text": [
      "-----Result on Train Data-----------\n",
      "              precision    recall  f1-score   support\n",
      "\n",
      "           A       0.37      0.43      0.40      1366\n",
      "           B       0.18      0.35      0.24       740\n",
      "           C       0.67      0.43      0.53      2470\n",
      "           D       0.64      0.63      0.63      1878\n",
      "\n",
      "    accuracy                           0.48      6454\n",
      "   macro avg       0.47      0.46      0.45      6454\n",
      "weighted avg       0.54      0.48      0.50      6454\n",
      "\n",
      "-----Result on Validation Data------\n",
      "              precision    recall  f1-score   support\n",
      "\n",
      "           A       0.35      0.42      0.38       332\n",
      "           B       0.15      0.34      0.21       172\n",
      "           C       0.66      0.40      0.50       634\n",
      "           D       0.64      0.59      0.62       476\n",
      "\n",
      "    accuracy                           0.45      1614\n",
      "   macro avg       0.45      0.44      0.43      1614\n",
      "weighted avg       0.54      0.45      0.48      1614\n",
      "\n"
     ]
    }
   ],
   "source": [
    "#Check the Metrics on X_train using which model was built:\n",
    "from sklearn.metrics import classification_report,accuracy_score\n",
    "result_X_train_NB = classification_report(pred_X_train_NB,y_train)\n",
    "result_X_test_NB = classification_report(pred_X_test_NB,y_test)\n",
    "print(\"-----Result on Train Data-----------\")\n",
    "print(result_X_train_NB)\n",
    "print(\"-----Result on Validation Data------\")\n",
    "print(result_X_test_NB)\n",
    "#classification_report()"
   ]
  },
  {
   "cell_type": "code",
   "execution_count": 104,
   "metadata": {},
   "outputs": [],
   "source": [
    "#Concat the test_employee_id and pred_test:\n",
    "Sub_NB = pd.concat([test_ID,pd.Series(pred_test_NB)],axis=1)"
   ]
  },
  {
   "cell_type": "code",
   "execution_count": 105,
   "metadata": {},
   "outputs": [
    {
     "data": {
      "text/html": [
       "<div>\n",
       "<style scoped>\n",
       "    .dataframe tbody tr th:only-of-type {\n",
       "        vertical-align: middle;\n",
       "    }\n",
       "\n",
       "    .dataframe tbody tr th {\n",
       "        vertical-align: top;\n",
       "    }\n",
       "\n",
       "    .dataframe thead th {\n",
       "        text-align: right;\n",
       "    }\n",
       "</style>\n",
       "<table border=\"1\" class=\"dataframe\">\n",
       "  <thead>\n",
       "    <tr style=\"text-align: right;\">\n",
       "      <th></th>\n",
       "      <th>ID</th>\n",
       "      <th>0</th>\n",
       "    </tr>\n",
       "  </thead>\n",
       "  <tbody>\n",
       "    <tr>\n",
       "      <th>0</th>\n",
       "      <td>458989</td>\n",
       "      <td>B</td>\n",
       "    </tr>\n",
       "    <tr>\n",
       "      <th>1</th>\n",
       "      <td>458994</td>\n",
       "      <td>C</td>\n",
       "    </tr>\n",
       "    <tr>\n",
       "      <th>2</th>\n",
       "      <td>458996</td>\n",
       "      <td>C</td>\n",
       "    </tr>\n",
       "    <tr>\n",
       "      <th>3</th>\n",
       "      <td>459000</td>\n",
       "      <td>C</td>\n",
       "    </tr>\n",
       "    <tr>\n",
       "      <th>4</th>\n",
       "      <td>459001</td>\n",
       "      <td>D</td>\n",
       "    </tr>\n",
       "  </tbody>\n",
       "</table>\n",
       "</div>"
      ],
      "text/plain": [
       "       ID  0\n",
       "0  458989  B\n",
       "1  458994  C\n",
       "2  458996  C\n",
       "3  459000  C\n",
       "4  459001  D"
      ]
     },
     "execution_count": 105,
     "metadata": {},
     "output_type": "execute_result"
    }
   ],
   "source": [
    "Sub_NB.head()"
   ]
  },
  {
   "cell_type": "code",
   "execution_count": 106,
   "metadata": {},
   "outputs": [],
   "source": [
    "Sub_NB.rename(columns = {0:\"Segmentation\"},inplace=True)"
   ]
  },
  {
   "cell_type": "code",
   "execution_count": 107,
   "metadata": {},
   "outputs": [],
   "source": [
    "#Download into Local System:\n",
    "Sub_NB.to_csv(\"3.Sub_NB.csv\",index=False)"
   ]
  },
  {
   "cell_type": "code",
   "execution_count": 108,
   "metadata": {},
   "outputs": [],
   "source": [
    "#Result on Portal:\n",
    "#Your score for this submission is : 0.44705136334812934,"
   ]
  },
  {
   "cell_type": "markdown",
   "metadata": {},
   "source": [
    "# 4. Decision Tree Classifier:"
   ]
  },
  {
   "cell_type": "code",
   "execution_count": 109,
   "metadata": {},
   "outputs": [
    {
     "data": {
      "text/plain": [
       "DecisionTreeClassifier()"
      ]
     },
     "execution_count": 109,
     "metadata": {},
     "output_type": "execute_result"
    }
   ],
   "source": [
    "from sklearn.tree import DecisionTreeClassifier\n",
    "DT = DecisionTreeClassifier()\n",
    "#Build the Model:\n",
    "DT.fit(X_train,y_train)"
   ]
  },
  {
   "cell_type": "code",
   "execution_count": 110,
   "metadata": {},
   "outputs": [],
   "source": [
    "#Predict on X_train itself to verify with the actual result:\n",
    "pred_X_train_DT = DT.predict(X_train)"
   ]
  },
  {
   "cell_type": "code",
   "execution_count": 111,
   "metadata": {},
   "outputs": [],
   "source": [
    "#Predict on Validation Data which is (X_test) and actual_test data:\n",
    "pred_X_test_DT = DT.predict(X_test)\n",
    "pred_test_DT = DT.predict(test_final)"
   ]
  },
  {
   "cell_type": "code",
   "execution_count": 112,
   "metadata": {},
   "outputs": [
    {
     "name": "stdout",
     "output_type": "stream",
     "text": [
      "-----Result on Train Data-----------\n",
      "              precision    recall  f1-score   support\n",
      "\n",
      "           A       0.99      0.93      0.96      1667\n",
      "           B       0.94      0.93      0.94      1481\n",
      "           C       0.93      0.96      0.95      1536\n",
      "           D       0.96      0.99      0.98      1770\n",
      "\n",
      "    accuracy                           0.96      6454\n",
      "   macro avg       0.96      0.95      0.95      6454\n",
      "weighted avg       0.96      0.96      0.96      6454\n",
      "\n",
      "-----Result on Validation Data------\n",
      "              precision    recall  f1-score   support\n",
      "\n",
      "           A       0.37      0.39      0.38       381\n",
      "           B       0.33      0.36      0.35       365\n",
      "           C       0.50      0.43      0.46       439\n",
      "           D       0.58      0.59      0.58       429\n",
      "\n",
      "    accuracy                           0.45      1614\n",
      "   macro avg       0.45      0.44      0.44      1614\n",
      "weighted avg       0.45      0.45      0.45      1614\n",
      "\n"
     ]
    }
   ],
   "source": [
    "#Check the Metrics on X_train using which model was built:\n",
    "from sklearn.metrics import classification_report,accuracy_score\n",
    "result_X_train_DT = classification_report(pred_X_train_DT,y_train)\n",
    "result_X_test_DT = classification_report(pred_X_test_DT,y_test)\n",
    "print(\"-----Result on Train Data-----------\")\n",
    "print(result_X_train_DT)\n",
    "print(\"-----Result on Validation Data------\")\n",
    "print(result_X_test_DT)\n",
    "#classification_report()"
   ]
  },
  {
   "cell_type": "code",
   "execution_count": 113,
   "metadata": {},
   "outputs": [],
   "source": [
    "#Concat the test_employee_id and pred_test:\n",
    "Sub_DT = pd.concat([test_ID ,pd.Series(pred_test_DT)],axis=1)"
   ]
  },
  {
   "cell_type": "code",
   "execution_count": 114,
   "metadata": {},
   "outputs": [
    {
     "data": {
      "text/html": [
       "<div>\n",
       "<style scoped>\n",
       "    .dataframe tbody tr th:only-of-type {\n",
       "        vertical-align: middle;\n",
       "    }\n",
       "\n",
       "    .dataframe tbody tr th {\n",
       "        vertical-align: top;\n",
       "    }\n",
       "\n",
       "    .dataframe thead th {\n",
       "        text-align: right;\n",
       "    }\n",
       "</style>\n",
       "<table border=\"1\" class=\"dataframe\">\n",
       "  <thead>\n",
       "    <tr style=\"text-align: right;\">\n",
       "      <th></th>\n",
       "      <th>ID</th>\n",
       "      <th>0</th>\n",
       "    </tr>\n",
       "  </thead>\n",
       "  <tbody>\n",
       "    <tr>\n",
       "      <th>0</th>\n",
       "      <td>458989</td>\n",
       "      <td>B</td>\n",
       "    </tr>\n",
       "    <tr>\n",
       "      <th>1</th>\n",
       "      <td>458994</td>\n",
       "      <td>C</td>\n",
       "    </tr>\n",
       "    <tr>\n",
       "      <th>2</th>\n",
       "      <td>458996</td>\n",
       "      <td>A</td>\n",
       "    </tr>\n",
       "    <tr>\n",
       "      <th>3</th>\n",
       "      <td>459000</td>\n",
       "      <td>C</td>\n",
       "    </tr>\n",
       "    <tr>\n",
       "      <th>4</th>\n",
       "      <td>459001</td>\n",
       "      <td>D</td>\n",
       "    </tr>\n",
       "  </tbody>\n",
       "</table>\n",
       "</div>"
      ],
      "text/plain": [
       "       ID  0\n",
       "0  458989  B\n",
       "1  458994  C\n",
       "2  458996  A\n",
       "3  459000  C\n",
       "4  459001  D"
      ]
     },
     "execution_count": 114,
     "metadata": {},
     "output_type": "execute_result"
    }
   ],
   "source": [
    "Sub_DT.head()"
   ]
  },
  {
   "cell_type": "code",
   "execution_count": 115,
   "metadata": {},
   "outputs": [],
   "source": [
    "#Rename the Column:\n",
    "Sub_DT.rename(columns = {0:\"Segmentation\"},inplace=True)"
   ]
  },
  {
   "cell_type": "code",
   "execution_count": 116,
   "metadata": {},
   "outputs": [],
   "source": [
    "#Download into Local System:\n",
    "Sub_DT.to_csv(\"4.Sub_DT.csv\",index=False)"
   ]
  },
  {
   "cell_type": "code",
   "execution_count": 117,
   "metadata": {},
   "outputs": [],
   "source": [
    "#Result on Portal:\n",
    "#Your score for this submission is : 0.5320228281547241,"
   ]
  },
  {
   "cell_type": "markdown",
   "metadata": {},
   "source": [
    "# 5. Random Forest:"
   ]
  },
  {
   "cell_type": "code",
   "execution_count": 118,
   "metadata": {},
   "outputs": [
    {
     "name": "stderr",
     "output_type": "stream",
     "text": [
      "C:\\Users\\HARIOHM\\anaconda3\\lib\\site-packages\\ipykernel_launcher.py:4: DataConversionWarning: A column-vector y was passed when a 1d array was expected. Please change the shape of y to (n_samples,), for example using ravel().\n",
      "  after removing the cwd from sys.path.\n"
     ]
    },
    {
     "data": {
      "text/plain": [
       "RandomForestClassifier()"
      ]
     },
     "execution_count": 118,
     "metadata": {},
     "output_type": "execute_result"
    }
   ],
   "source": [
    "from sklearn.ensemble import RandomForestClassifier\n",
    "rf = RandomForestClassifier()\n",
    "#Build the Model:\n",
    "rf.fit(X_train,y_train)"
   ]
  },
  {
   "cell_type": "code",
   "execution_count": 119,
   "metadata": {},
   "outputs": [],
   "source": [
    "#Predict on X_train itself to verify with the actual result:\n",
    "pred_X_train_rf = rf.predict(X_train)"
   ]
  },
  {
   "cell_type": "code",
   "execution_count": 120,
   "metadata": {},
   "outputs": [],
   "source": [
    "#Predict on Validation Data which is (X_test) and actual_test data:\n",
    "pred_X_test_rf = rf.predict(X_test)\n",
    "pred_test_rf = rf.predict(test_final)"
   ]
  },
  {
   "cell_type": "code",
   "execution_count": 121,
   "metadata": {},
   "outputs": [
    {
     "name": "stdout",
     "output_type": "stream",
     "text": [
      "--------------------------Result on Train Data-----------\n",
      "              precision    recall  f1-score   support\n",
      "\n",
      "           A       0.96      0.96      0.96      1563\n",
      "           B       0.92      0.95      0.94      1423\n",
      "           C       0.96      0.93      0.95      1629\n",
      "           D       0.98      0.98      0.98      1839\n",
      "\n",
      "    accuracy                           0.96      6454\n",
      "   macro avg       0.95      0.95      0.95      6454\n",
      "weighted avg       0.96      0.96      0.96      6454\n",
      "\n",
      "--------------------------Result on Validation Data------\n",
      "              precision    recall  f1-score   support\n",
      "\n",
      "           A       0.41      0.43      0.42       379\n",
      "           B       0.31      0.37      0.34       331\n",
      "           C       0.54      0.48      0.51       430\n",
      "           D       0.66      0.61      0.63       474\n",
      "\n",
      "    accuracy                           0.48      1614\n",
      "   macro avg       0.48      0.47      0.47      1614\n",
      "weighted avg       0.50      0.48      0.49      1614\n",
      "\n"
     ]
    }
   ],
   "source": [
    "#Check the Metrics on X_train using which model was built:\n",
    "from sklearn.metrics import classification_report,accuracy_score\n",
    "result_X_train_rf = classification_report(pred_X_train_rf,y_train)\n",
    "result_X_test_rf = classification_report(pred_X_test_rf,y_test)\n",
    "print(\"--------------------------Result on Train Data-----------\")\n",
    "print(result_X_train_rf)\n",
    "print(\"--------------------------Result on Validation Data------\")\n",
    "print(result_X_test_rf)\n",
    "#classification_report()"
   ]
  },
  {
   "cell_type": "code",
   "execution_count": 122,
   "metadata": {},
   "outputs": [],
   "source": [
    "#Concat the test_employee_id and pred_test:\n",
    "Sub_rf = pd.concat([test_ID,pd.Series(pred_test_rf)],axis=1)"
   ]
  },
  {
   "cell_type": "code",
   "execution_count": 123,
   "metadata": {},
   "outputs": [
    {
     "data": {
      "text/html": [
       "<div>\n",
       "<style scoped>\n",
       "    .dataframe tbody tr th:only-of-type {\n",
       "        vertical-align: middle;\n",
       "    }\n",
       "\n",
       "    .dataframe tbody tr th {\n",
       "        vertical-align: top;\n",
       "    }\n",
       "\n",
       "    .dataframe thead th {\n",
       "        text-align: right;\n",
       "    }\n",
       "</style>\n",
       "<table border=\"1\" class=\"dataframe\">\n",
       "  <thead>\n",
       "    <tr style=\"text-align: right;\">\n",
       "      <th></th>\n",
       "      <th>ID</th>\n",
       "      <th>0</th>\n",
       "    </tr>\n",
       "  </thead>\n",
       "  <tbody>\n",
       "    <tr>\n",
       "      <th>0</th>\n",
       "      <td>458989</td>\n",
       "      <td>B</td>\n",
       "    </tr>\n",
       "    <tr>\n",
       "      <th>1</th>\n",
       "      <td>458994</td>\n",
       "      <td>C</td>\n",
       "    </tr>\n",
       "    <tr>\n",
       "      <th>2</th>\n",
       "      <td>458996</td>\n",
       "      <td>A</td>\n",
       "    </tr>\n",
       "    <tr>\n",
       "      <th>3</th>\n",
       "      <td>459000</td>\n",
       "      <td>C</td>\n",
       "    </tr>\n",
       "    <tr>\n",
       "      <th>4</th>\n",
       "      <td>459001</td>\n",
       "      <td>D</td>\n",
       "    </tr>\n",
       "  </tbody>\n",
       "</table>\n",
       "</div>"
      ],
      "text/plain": [
       "       ID  0\n",
       "0  458989  B\n",
       "1  458994  C\n",
       "2  458996  A\n",
       "3  459000  C\n",
       "4  459001  D"
      ]
     },
     "execution_count": 123,
     "metadata": {},
     "output_type": "execute_result"
    }
   ],
   "source": [
    "Sub_rf.head()"
   ]
  },
  {
   "cell_type": "code",
   "execution_count": 124,
   "metadata": {},
   "outputs": [],
   "source": [
    "Sub_rf.rename(columns={0:\"Segmentation\"},inplace=True)"
   ]
  },
  {
   "cell_type": "code",
   "execution_count": 125,
   "metadata": {},
   "outputs": [
    {
     "data": {
      "text/html": [
       "<div>\n",
       "<style scoped>\n",
       "    .dataframe tbody tr th:only-of-type {\n",
       "        vertical-align: middle;\n",
       "    }\n",
       "\n",
       "    .dataframe tbody tr th {\n",
       "        vertical-align: top;\n",
       "    }\n",
       "\n",
       "    .dataframe thead th {\n",
       "        text-align: right;\n",
       "    }\n",
       "</style>\n",
       "<table border=\"1\" class=\"dataframe\">\n",
       "  <thead>\n",
       "    <tr style=\"text-align: right;\">\n",
       "      <th></th>\n",
       "      <th>ID</th>\n",
       "      <th>Segmentation</th>\n",
       "    </tr>\n",
       "  </thead>\n",
       "  <tbody>\n",
       "    <tr>\n",
       "      <th>0</th>\n",
       "      <td>458989</td>\n",
       "      <td>B</td>\n",
       "    </tr>\n",
       "    <tr>\n",
       "      <th>1</th>\n",
       "      <td>458994</td>\n",
       "      <td>C</td>\n",
       "    </tr>\n",
       "    <tr>\n",
       "      <th>2</th>\n",
       "      <td>458996</td>\n",
       "      <td>A</td>\n",
       "    </tr>\n",
       "    <tr>\n",
       "      <th>3</th>\n",
       "      <td>459000</td>\n",
       "      <td>C</td>\n",
       "    </tr>\n",
       "    <tr>\n",
       "      <th>4</th>\n",
       "      <td>459001</td>\n",
       "      <td>D</td>\n",
       "    </tr>\n",
       "  </tbody>\n",
       "</table>\n",
       "</div>"
      ],
      "text/plain": [
       "       ID Segmentation\n",
       "0  458989            B\n",
       "1  458994            C\n",
       "2  458996            A\n",
       "3  459000            C\n",
       "4  459001            D"
      ]
     },
     "execution_count": 125,
     "metadata": {},
     "output_type": "execute_result"
    }
   ],
   "source": [
    "Sub_rf.head()"
   ]
  },
  {
   "cell_type": "code",
   "execution_count": 126,
   "metadata": {},
   "outputs": [],
   "source": [
    "#Download into Local System:\n",
    "Sub_DT.to_csv(\"5.Sub_rf.csv\",index=False)"
   ]
  },
  {
   "cell_type": "code",
   "execution_count": 127,
   "metadata": {},
   "outputs": [],
   "source": [
    "#Result on Portal:\n",
    "#Your score for this submission is : 0.5320228281547241,"
   ]
  },
  {
   "cell_type": "markdown",
   "metadata": {},
   "source": [
    "# 6. GradientBoosting Classifier:"
   ]
  },
  {
   "cell_type": "code",
   "execution_count": 128,
   "metadata": {},
   "outputs": [
    {
     "name": "stderr",
     "output_type": "stream",
     "text": [
      "C:\\Users\\HARIOHM\\anaconda3\\lib\\site-packages\\sklearn\\utils\\validation.py:73: DataConversionWarning: A column-vector y was passed when a 1d array was expected. Please change the shape of y to (n_samples, ), for example using ravel().\n",
      "  return f(**kwargs)\n"
     ]
    },
    {
     "data": {
      "text/plain": [
       "GradientBoostingClassifier()"
      ]
     },
     "execution_count": 128,
     "metadata": {},
     "output_type": "execute_result"
    }
   ],
   "source": [
    "from sklearn.ensemble import GradientBoostingClassifier\n",
    "GB = GradientBoostingClassifier()\n",
    "#Model building\n",
    "GB.fit(X_train,y_train)"
   ]
  },
  {
   "cell_type": "code",
   "execution_count": 129,
   "metadata": {},
   "outputs": [],
   "source": [
    "#Predict on X_train itself to verify with the actual result:\n",
    "pred_X_train_GB = GB.predict(X_train)#Concat the test_ID and pred_test:"
   ]
  },
  {
   "cell_type": "code",
   "execution_count": 130,
   "metadata": {},
   "outputs": [],
   "source": [
    "#Predict on Validation Data which is (X_test) and actual_test data:\n",
    "pred_X_test_GB = rf.predict(X_test)\n",
    "pred_test_GB = rf.predict(test_final)"
   ]
  },
  {
   "cell_type": "code",
   "execution_count": 131,
   "metadata": {},
   "outputs": [
    {
     "name": "stdout",
     "output_type": "stream",
     "text": [
      "--------------------------Result on Train Data-----------\n",
      "              precision    recall  f1-score   support\n",
      "\n",
      "           A       0.54      0.51      0.52      1661\n",
      "           B       0.36      0.50      0.42      1047\n",
      "           C       0.63      0.60      0.61      1677\n",
      "           D       0.75      0.67      0.71      2069\n",
      "\n",
      "    accuracy                           0.58      6454\n",
      "   macro avg       0.57      0.57      0.57      6454\n",
      "weighted avg       0.60      0.58      0.59      6454\n",
      "\n",
      "--------------------------Result on Validation Data------\n",
      "              precision    recall  f1-score   support\n",
      "\n",
      "           A       0.41      0.43      0.42       379\n",
      "           B       0.31      0.37      0.34       331\n",
      "           C       0.54      0.48      0.51       430\n",
      "           D       0.66      0.61      0.63       474\n",
      "\n",
      "    accuracy                           0.48      1614\n",
      "   macro avg       0.48      0.47      0.47      1614\n",
      "weighted avg       0.50      0.48      0.49      1614\n",
      "\n"
     ]
    }
   ],
   "source": [
    "#Check the Metrics on X_train using which model was built:\n",
    "from sklearn.metrics import classification_report,accuracy_score\n",
    "result_X_train_GB = classification_report(pred_X_train_GB,y_train)\n",
    "result_X_test_GB = classification_report(pred_X_test_GB,y_test)\n",
    "print(\"--------------------------Result on Train Data-----------\")\n",
    "print(result_X_train_GB)\n",
    "print(\"--------------------------Result on Validation Data------\")\n",
    "print(result_X_test_GB)\n",
    "#classification_report()"
   ]
  },
  {
   "cell_type": "code",
   "execution_count": 132,
   "metadata": {},
   "outputs": [],
   "source": [
    "#Concat the test_employee and pred_test:\n",
    "Sub_GB = pd.concat([test_ID,pd.Series(pred_test_GB)],axis=1)"
   ]
  },
  {
   "cell_type": "code",
   "execution_count": 133,
   "metadata": {},
   "outputs": [
    {
     "data": {
      "text/html": [
       "<div>\n",
       "<style scoped>\n",
       "    .dataframe tbody tr th:only-of-type {\n",
       "        vertical-align: middle;\n",
       "    }\n",
       "\n",
       "    .dataframe tbody tr th {\n",
       "        vertical-align: top;\n",
       "    }\n",
       "\n",
       "    .dataframe thead th {\n",
       "        text-align: right;\n",
       "    }\n",
       "</style>\n",
       "<table border=\"1\" class=\"dataframe\">\n",
       "  <thead>\n",
       "    <tr style=\"text-align: right;\">\n",
       "      <th></th>\n",
       "      <th>ID</th>\n",
       "      <th>0</th>\n",
       "    </tr>\n",
       "  </thead>\n",
       "  <tbody>\n",
       "    <tr>\n",
       "      <th>0</th>\n",
       "      <td>458989</td>\n",
       "      <td>B</td>\n",
       "    </tr>\n",
       "    <tr>\n",
       "      <th>1</th>\n",
       "      <td>458994</td>\n",
       "      <td>C</td>\n",
       "    </tr>\n",
       "    <tr>\n",
       "      <th>2</th>\n",
       "      <td>458996</td>\n",
       "      <td>A</td>\n",
       "    </tr>\n",
       "    <tr>\n",
       "      <th>3</th>\n",
       "      <td>459000</td>\n",
       "      <td>C</td>\n",
       "    </tr>\n",
       "    <tr>\n",
       "      <th>4</th>\n",
       "      <td>459001</td>\n",
       "      <td>D</td>\n",
       "    </tr>\n",
       "  </tbody>\n",
       "</table>\n",
       "</div>"
      ],
      "text/plain": [
       "       ID  0\n",
       "0  458989  B\n",
       "1  458994  C\n",
       "2  458996  A\n",
       "3  459000  C\n",
       "4  459001  D"
      ]
     },
     "execution_count": 133,
     "metadata": {},
     "output_type": "execute_result"
    }
   ],
   "source": [
    "Sub_GB.head()"
   ]
  },
  {
   "cell_type": "code",
   "execution_count": 134,
   "metadata": {},
   "outputs": [],
   "source": [
    "Sub_GB.rename(columns = {0:\"Segmentation\"},inplace=True)"
   ]
  },
  {
   "cell_type": "code",
   "execution_count": 135,
   "metadata": {},
   "outputs": [],
   "source": [
    "Sub_GB.to_csv(\"6.Sub_GB.csv\",index=False)"
   ]
  },
  {
   "cell_type": "code",
   "execution_count": 136,
   "metadata": {},
   "outputs": [],
   "source": [
    "#Result on Portal:\n",
    "#Your score for this submission is : 0.6233354470513633,"
   ]
  },
  {
   "cell_type": "markdown",
   "metadata": {},
   "source": [
    "# 7.Hist Gradient Boosting Classifier"
   ]
  },
  {
   "cell_type": "code",
   "execution_count": 137,
   "metadata": {},
   "outputs": [
    {
     "name": "stderr",
     "output_type": "stream",
     "text": [
      "C:\\Users\\HARIOHM\\anaconda3\\lib\\site-packages\\sklearn\\utils\\validation.py:73: DataConversionWarning: A column-vector y was passed when a 1d array was expected. Please change the shape of y to (n_samples, ), for example using ravel().\n",
      "  return f(**kwargs)\n"
     ]
    },
    {
     "data": {
      "text/plain": [
       "HistGradientBoostingClassifier()"
      ]
     },
     "execution_count": 137,
     "metadata": {},
     "output_type": "execute_result"
    }
   ],
   "source": [
    "#NOTE: This is still experiemental:\n",
    "from sklearn.experimental import enable_hist_gradient_boosting\n",
    "from sklearn.ensemble import HistGradientBoostingClassifier\n",
    "HGB = HistGradientBoostingClassifier()\n",
    "#Build Model:\n",
    "HGB.fit(X_train,y_train)"
   ]
  },
  {
   "cell_type": "code",
   "execution_count": 138,
   "metadata": {},
   "outputs": [],
   "source": [
    "#Predict on X_train itself to verify with the actual result:\n",
    "pred_X_train_HGB = HGB.predict(X_train)"
   ]
  },
  {
   "cell_type": "code",
   "execution_count": 139,
   "metadata": {},
   "outputs": [],
   "source": [
    "#Predict on Validation Data which is (X_test) and actual_test data:\n",
    "pred_X_test_HGB = HGB.predict(X_test)\n",
    "pred_test_HGB = HGB.predict(test_final)"
   ]
  },
  {
   "cell_type": "code",
   "execution_count": 140,
   "metadata": {},
   "outputs": [
    {
     "name": "stdout",
     "output_type": "stream",
     "text": [
      "--------------------------Result on Train Data-----------\n",
      "              precision    recall  f1-score   support\n",
      "\n",
      "           A       0.67      0.68      0.68      1542\n",
      "           B       0.56      0.68      0.62      1198\n",
      "           C       0.73      0.70      0.71      1678\n",
      "           D       0.85      0.77      0.81      2036\n",
      "\n",
      "    accuracy                           0.71      6454\n",
      "   macro avg       0.70      0.71      0.70      6454\n",
      "weighted avg       0.72      0.71      0.72      6454\n",
      "\n",
      "--------------------------Result on Validation Data------\n",
      "              precision    recall  f1-score   support\n",
      "\n",
      "           A       0.43      0.45      0.44       387\n",
      "           B       0.31      0.41      0.35       297\n",
      "           C       0.57      0.52      0.54       417\n",
      "           D       0.71      0.60      0.65       513\n",
      "\n",
      "    accuracy                           0.51      1614\n",
      "   macro avg       0.50      0.49      0.50      1614\n",
      "weighted avg       0.53      0.51      0.52      1614\n",
      "\n"
     ]
    }
   ],
   "source": [
    "#Check the Metrics on X_train using which model was built:\n",
    "from sklearn.metrics import classification_report,accuracy_score\n",
    "result_X_train_HGB = classification_report(pred_X_train_HGB,y_train)\n",
    "result_X_test_HGB = classification_report(pred_X_test_HGB,y_test)\n",
    "print(\"--------------------------Result on Train Data-----------\")\n",
    "print(result_X_train_HGB)\n",
    "print(\"--------------------------Result on Validation Data------\")\n",
    "print(result_X_test_HGB)\n",
    "#classification_report()"
   ]
  },
  {
   "cell_type": "code",
   "execution_count": 141,
   "metadata": {},
   "outputs": [],
   "source": [
    "#Concat the test_employee_id and pred_test:\n",
    "Sub_HGB = pd.concat([test_ID,pd.Series(pred_test_HGB)],axis=1)"
   ]
  },
  {
   "cell_type": "code",
   "execution_count": 142,
   "metadata": {},
   "outputs": [
    {
     "data": {
      "text/html": [
       "<div>\n",
       "<style scoped>\n",
       "    .dataframe tbody tr th:only-of-type {\n",
       "        vertical-align: middle;\n",
       "    }\n",
       "\n",
       "    .dataframe tbody tr th {\n",
       "        vertical-align: top;\n",
       "    }\n",
       "\n",
       "    .dataframe thead th {\n",
       "        text-align: right;\n",
       "    }\n",
       "</style>\n",
       "<table border=\"1\" class=\"dataframe\">\n",
       "  <thead>\n",
       "    <tr style=\"text-align: right;\">\n",
       "      <th></th>\n",
       "      <th>ID</th>\n",
       "      <th>0</th>\n",
       "    </tr>\n",
       "  </thead>\n",
       "  <tbody>\n",
       "    <tr>\n",
       "      <th>0</th>\n",
       "      <td>458989</td>\n",
       "      <td>B</td>\n",
       "    </tr>\n",
       "    <tr>\n",
       "      <th>1</th>\n",
       "      <td>458994</td>\n",
       "      <td>D</td>\n",
       "    </tr>\n",
       "    <tr>\n",
       "      <th>2</th>\n",
       "      <td>458996</td>\n",
       "      <td>C</td>\n",
       "    </tr>\n",
       "    <tr>\n",
       "      <th>3</th>\n",
       "      <td>459000</td>\n",
       "      <td>C</td>\n",
       "    </tr>\n",
       "    <tr>\n",
       "      <th>4</th>\n",
       "      <td>459001</td>\n",
       "      <td>D</td>\n",
       "    </tr>\n",
       "  </tbody>\n",
       "</table>\n",
       "</div>"
      ],
      "text/plain": [
       "       ID  0\n",
       "0  458989  B\n",
       "1  458994  D\n",
       "2  458996  C\n",
       "3  459000  C\n",
       "4  459001  D"
      ]
     },
     "execution_count": 142,
     "metadata": {},
     "output_type": "execute_result"
    }
   ],
   "source": [
    "Sub_HGB.head()"
   ]
  },
  {
   "cell_type": "code",
   "execution_count": 143,
   "metadata": {},
   "outputs": [],
   "source": [
    "Sub_HGB.rename(columns={0:\"Segmentation\"},inplace=True)"
   ]
  },
  {
   "cell_type": "code",
   "execution_count": 144,
   "metadata": {},
   "outputs": [
    {
     "data": {
      "text/html": [
       "<div>\n",
       "<style scoped>\n",
       "    .dataframe tbody tr th:only-of-type {\n",
       "        vertical-align: middle;\n",
       "    }\n",
       "\n",
       "    .dataframe tbody tr th {\n",
       "        vertical-align: top;\n",
       "    }\n",
       "\n",
       "    .dataframe thead th {\n",
       "        text-align: right;\n",
       "    }\n",
       "</style>\n",
       "<table border=\"1\" class=\"dataframe\">\n",
       "  <thead>\n",
       "    <tr style=\"text-align: right;\">\n",
       "      <th></th>\n",
       "      <th>ID</th>\n",
       "      <th>Segmentation</th>\n",
       "    </tr>\n",
       "  </thead>\n",
       "  <tbody>\n",
       "    <tr>\n",
       "      <th>0</th>\n",
       "      <td>458989</td>\n",
       "      <td>B</td>\n",
       "    </tr>\n",
       "    <tr>\n",
       "      <th>1</th>\n",
       "      <td>458994</td>\n",
       "      <td>D</td>\n",
       "    </tr>\n",
       "    <tr>\n",
       "      <th>2</th>\n",
       "      <td>458996</td>\n",
       "      <td>C</td>\n",
       "    </tr>\n",
       "    <tr>\n",
       "      <th>3</th>\n",
       "      <td>459000</td>\n",
       "      <td>C</td>\n",
       "    </tr>\n",
       "    <tr>\n",
       "      <th>4</th>\n",
       "      <td>459001</td>\n",
       "      <td>D</td>\n",
       "    </tr>\n",
       "  </tbody>\n",
       "</table>\n",
       "</div>"
      ],
      "text/plain": [
       "       ID Segmentation\n",
       "0  458989            B\n",
       "1  458994            D\n",
       "2  458996            C\n",
       "3  459000            C\n",
       "4  459001            D"
      ]
     },
     "execution_count": 144,
     "metadata": {},
     "output_type": "execute_result"
    }
   ],
   "source": [
    "Sub_HGB.head()"
   ]
  },
  {
   "cell_type": "code",
   "execution_count": 145,
   "metadata": {},
   "outputs": [],
   "source": [
    "Sub_HGB.to_csv(\"7.Sub_HGB.csv\",index=False)"
   ]
  },
  {
   "cell_type": "code",
   "execution_count": 146,
   "metadata": {},
   "outputs": [],
   "source": [
    "#Result on Portal:\n",
    "#Your score for this submission is : 0.5656309448319594,"
   ]
  },
  {
   "cell_type": "markdown",
   "metadata": {},
   "source": [
    "# 8. Adaboost Classifier"
   ]
  },
  {
   "cell_type": "code",
   "execution_count": 147,
   "metadata": {},
   "outputs": [
    {
     "name": "stderr",
     "output_type": "stream",
     "text": [
      "C:\\Users\\HARIOHM\\anaconda3\\lib\\site-packages\\sklearn\\utils\\validation.py:73: DataConversionWarning: A column-vector y was passed when a 1d array was expected. Please change the shape of y to (n_samples, ), for example using ravel().\n",
      "  return f(**kwargs)\n"
     ]
    }
   ],
   "source": [
    "#Adaboost Classifier:\n",
    "from sklearn.ensemble import AdaBoostClassifier\n",
    "AD = AdaBoostClassifier()\n",
    "#Build Model:\n",
    "AD = AD.fit(X_train,y_train)"
   ]
  },
  {
   "cell_type": "code",
   "execution_count": 148,
   "metadata": {},
   "outputs": [],
   "source": [
    "#Predict on X_train itself to verify with the actual result:\n",
    "pred_X_train_AD = AD.predict(X_train)"
   ]
  },
  {
   "cell_type": "code",
   "execution_count": 149,
   "metadata": {},
   "outputs": [],
   "source": [
    "#Predict on Validation Data which is (X_test) and actual_test data:\n",
    "pred_X_test_AD = AD.predict(X_test)\n",
    "pred_test_AD = AD.predict(test_final)"
   ]
  },
  {
   "cell_type": "code",
   "execution_count": 150,
   "metadata": {},
   "outputs": [
    {
     "name": "stdout",
     "output_type": "stream",
     "text": [
      "--------------------------Result on Train Data-----------\n",
      "              precision    recall  f1-score   support\n",
      "\n",
      "           A       0.48      0.43      0.45      1744\n",
      "           B       0.29      0.41      0.34      1027\n",
      "           C       0.58      0.52      0.55      1762\n",
      "           D       0.69      0.66      0.67      1921\n",
      "\n",
      "    accuracy                           0.52      6454\n",
      "   macro avg       0.51      0.50      0.50      6454\n",
      "weighted avg       0.54      0.52      0.53      6454\n",
      "\n",
      "--------------------------Result on Validation Data------\n",
      "              precision    recall  f1-score   support\n",
      "\n",
      "           A       0.46      0.43      0.45       426\n",
      "           B       0.27      0.41      0.33       260\n",
      "           C       0.56      0.48      0.51       445\n",
      "           D       0.70      0.63      0.66       483\n",
      "\n",
      "    accuracy                           0.50      1614\n",
      "   macro avg       0.50      0.49      0.49      1614\n",
      "weighted avg       0.53      0.50      0.51      1614\n",
      "\n"
     ]
    }
   ],
   "source": [
    "#Check the Metrics on X_train using which model was built:\n",
    "from sklearn.metrics import classification_report,accuracy_score\n",
    "result_X_train_AD = classification_report(pred_X_train_AD,y_train)\n",
    "result_X_test_AD = classification_report(pred_X_test_AD,y_test)\n",
    "print(\"--------------------------Result on Train Data-----------\")\n",
    "print(result_X_train_AD)\n",
    "print(\"--------------------------Result on Validation Data------\")\n",
    "print(result_X_test_AD)\n",
    "#classification_report()"
   ]
  },
  {
   "cell_type": "code",
   "execution_count": 151,
   "metadata": {},
   "outputs": [],
   "source": [
    "#Concat the test_employee_id and pred_test_AD:\n",
    "Sub_AD = pd.concat([test_ID,pd.Series(pred_test_AD)],axis=1)"
   ]
  },
  {
   "cell_type": "code",
   "execution_count": 152,
   "metadata": {},
   "outputs": [
    {
     "data": {
      "text/html": [
       "<div>\n",
       "<style scoped>\n",
       "    .dataframe tbody tr th:only-of-type {\n",
       "        vertical-align: middle;\n",
       "    }\n",
       "\n",
       "    .dataframe tbody tr th {\n",
       "        vertical-align: top;\n",
       "    }\n",
       "\n",
       "    .dataframe thead th {\n",
       "        text-align: right;\n",
       "    }\n",
       "</style>\n",
       "<table border=\"1\" class=\"dataframe\">\n",
       "  <thead>\n",
       "    <tr style=\"text-align: right;\">\n",
       "      <th></th>\n",
       "      <th>ID</th>\n",
       "      <th>0</th>\n",
       "    </tr>\n",
       "  </thead>\n",
       "  <tbody>\n",
       "    <tr>\n",
       "      <th>0</th>\n",
       "      <td>458989</td>\n",
       "      <td>A</td>\n",
       "    </tr>\n",
       "    <tr>\n",
       "      <th>1</th>\n",
       "      <td>458994</td>\n",
       "      <td>C</td>\n",
       "    </tr>\n",
       "    <tr>\n",
       "      <th>2</th>\n",
       "      <td>458996</td>\n",
       "      <td>B</td>\n",
       "    </tr>\n",
       "    <tr>\n",
       "      <th>3</th>\n",
       "      <td>459000</td>\n",
       "      <td>B</td>\n",
       "    </tr>\n",
       "    <tr>\n",
       "      <th>4</th>\n",
       "      <td>459001</td>\n",
       "      <td>D</td>\n",
       "    </tr>\n",
       "  </tbody>\n",
       "</table>\n",
       "</div>"
      ],
      "text/plain": [
       "       ID  0\n",
       "0  458989  A\n",
       "1  458994  C\n",
       "2  458996  B\n",
       "3  459000  B\n",
       "4  459001  D"
      ]
     },
     "execution_count": 152,
     "metadata": {},
     "output_type": "execute_result"
    }
   ],
   "source": [
    "Sub_AD.head()"
   ]
  },
  {
   "cell_type": "code",
   "execution_count": 153,
   "metadata": {},
   "outputs": [],
   "source": [
    "Sub_AD.rename(columns = {0:\"Segmentation\"},inplace=True)"
   ]
  },
  {
   "cell_type": "code",
   "execution_count": 154,
   "metadata": {},
   "outputs": [
    {
     "data": {
      "text/html": [
       "<div>\n",
       "<style scoped>\n",
       "    .dataframe tbody tr th:only-of-type {\n",
       "        vertical-align: middle;\n",
       "    }\n",
       "\n",
       "    .dataframe tbody tr th {\n",
       "        vertical-align: top;\n",
       "    }\n",
       "\n",
       "    .dataframe thead th {\n",
       "        text-align: right;\n",
       "    }\n",
       "</style>\n",
       "<table border=\"1\" class=\"dataframe\">\n",
       "  <thead>\n",
       "    <tr style=\"text-align: right;\">\n",
       "      <th></th>\n",
       "      <th>ID</th>\n",
       "      <th>Segmentation</th>\n",
       "    </tr>\n",
       "  </thead>\n",
       "  <tbody>\n",
       "    <tr>\n",
       "      <th>0</th>\n",
       "      <td>458989</td>\n",
       "      <td>A</td>\n",
       "    </tr>\n",
       "    <tr>\n",
       "      <th>1</th>\n",
       "      <td>458994</td>\n",
       "      <td>C</td>\n",
       "    </tr>\n",
       "    <tr>\n",
       "      <th>2</th>\n",
       "      <td>458996</td>\n",
       "      <td>B</td>\n",
       "    </tr>\n",
       "    <tr>\n",
       "      <th>3</th>\n",
       "      <td>459000</td>\n",
       "      <td>B</td>\n",
       "    </tr>\n",
       "    <tr>\n",
       "      <th>4</th>\n",
       "      <td>459001</td>\n",
       "      <td>D</td>\n",
       "    </tr>\n",
       "  </tbody>\n",
       "</table>\n",
       "</div>"
      ],
      "text/plain": [
       "       ID Segmentation\n",
       "0  458989            A\n",
       "1  458994            C\n",
       "2  458996            B\n",
       "3  459000            B\n",
       "4  459001            D"
      ]
     },
     "execution_count": 154,
     "metadata": {},
     "output_type": "execute_result"
    }
   ],
   "source": [
    "Sub_AD.head()"
   ]
  },
  {
   "cell_type": "code",
   "execution_count": 155,
   "metadata": {},
   "outputs": [],
   "source": [
    "Sub_AD.to_csv(\"8.Sub_AD.csv\",index=False)"
   ]
  },
  {
   "cell_type": "code",
   "execution_count": 156,
   "metadata": {},
   "outputs": [],
   "source": [
    "#Result On POrtal:\n",
    "#Your score for this submission is : 0.5047558655675333,"
   ]
  },
  {
   "cell_type": "markdown",
   "metadata": {},
   "source": [
    "# 9. Support Vector machine"
   ]
  },
  {
   "cell_type": "code",
   "execution_count": 157,
   "metadata": {},
   "outputs": [
    {
     "name": "stderr",
     "output_type": "stream",
     "text": [
      "C:\\Users\\HARIOHM\\anaconda3\\lib\\site-packages\\sklearn\\utils\\validation.py:73: DataConversionWarning: A column-vector y was passed when a 1d array was expected. Please change the shape of y to (n_samples, ), for example using ravel().\n",
      "  return f(**kwargs)\n"
     ]
    },
    {
     "data": {
      "text/plain": [
       "SVC()"
      ]
     },
     "execution_count": 157,
     "metadata": {},
     "output_type": "execute_result"
    }
   ],
   "source": [
    "from sklearn.svm import SVC\n",
    "#import \"LinearSVC \"\n",
    "SVC = SVC()\n",
    "#Model Building:\n",
    "SVC.fit(X_train,y_train)"
   ]
  },
  {
   "cell_type": "code",
   "execution_count": 158,
   "metadata": {},
   "outputs": [],
   "source": [
    "#Predict on X_train itself to verify with the actual result:\n",
    "pred_X_train_SVC = SVC.predict(X_train)"
   ]
  },
  {
   "cell_type": "code",
   "execution_count": 159,
   "metadata": {},
   "outputs": [],
   "source": [
    "#Predict on Validation Data which is (X_test) and actual_test data:\n",
    "pred_X_test_SVC = SVC.predict(X_test)\n",
    "pred_test_SVC = SVC.predict(test_final)"
   ]
  },
  {
   "cell_type": "code",
   "execution_count": 160,
   "metadata": {},
   "outputs": [],
   "source": [
    "#Predict on Validation Data which is (X_test) and actual_test data:\n",
    "pred_X_test_SVC = SVC.predict(X_test)\n",
    "pred_test_SVC = SVC.predict(test_final)"
   ]
  },
  {
   "cell_type": "code",
   "execution_count": 161,
   "metadata": {},
   "outputs": [
    {
     "name": "stdout",
     "output_type": "stream",
     "text": [
      "--------------------------Result on Train Data-----------\n",
      "              precision    recall  f1-score   support\n",
      "\n",
      "           A       0.58      0.49      0.53      1840\n",
      "           B       0.37      0.50      0.43      1095\n",
      "           C       0.59      0.60      0.60      1571\n",
      "           D       0.72      0.68      0.70      1948\n",
      "\n",
      "    accuracy                           0.58      6454\n",
      "   macro avg       0.57      0.57      0.56      6454\n",
      "weighted avg       0.59      0.58      0.58      6454\n",
      "\n",
      "--------------------------Result on Validation Data------\n",
      "              precision    recall  f1-score   support\n",
      "\n",
      "           A       0.51      0.45      0.48       458\n",
      "           B       0.31      0.42      0.35       288\n",
      "           C       0.55      0.55      0.55       381\n",
      "           D       0.70      0.63      0.66       487\n",
      "\n",
      "    accuracy                           0.52      1614\n",
      "   macro avg       0.52      0.51      0.51      1614\n",
      "weighted avg       0.54      0.52      0.53      1614\n",
      "\n"
     ]
    }
   ],
   "source": [
    "#Check the Metrics on X_train using which model was built:\n",
    "from sklearn.metrics import classification_report,accuracy_score\n",
    "result_X_train_SVC = classification_report(pred_X_train_SVC,y_train)\n",
    "result_X_test_SVC = classification_report(pred_X_test_SVC,y_test)\n",
    "print(\"--------------------------Result on Train Data-----------\")\n",
    "print(result_X_train_SVC)\n",
    "print(\"--------------------------Result on Validation Data------\")\n",
    "print(result_X_test_SVC)\n",
    "#classification_report()"
   ]
  },
  {
   "cell_type": "code",
   "execution_count": 162,
   "metadata": {},
   "outputs": [],
   "source": [
    "#Concat the test_employee_id and pred_test_SVC:\n",
    "Sub_SVC = pd.concat([test_ID,pd.Series(pred_test_SVC)],axis=1)"
   ]
  },
  {
   "cell_type": "code",
   "execution_count": 163,
   "metadata": {},
   "outputs": [
    {
     "data": {
      "text/html": [
       "<div>\n",
       "<style scoped>\n",
       "    .dataframe tbody tr th:only-of-type {\n",
       "        vertical-align: middle;\n",
       "    }\n",
       "\n",
       "    .dataframe tbody tr th {\n",
       "        vertical-align: top;\n",
       "    }\n",
       "\n",
       "    .dataframe thead th {\n",
       "        text-align: right;\n",
       "    }\n",
       "</style>\n",
       "<table border=\"1\" class=\"dataframe\">\n",
       "  <thead>\n",
       "    <tr style=\"text-align: right;\">\n",
       "      <th></th>\n",
       "      <th>ID</th>\n",
       "      <th>0</th>\n",
       "    </tr>\n",
       "  </thead>\n",
       "  <tbody>\n",
       "    <tr>\n",
       "      <th>0</th>\n",
       "      <td>458989</td>\n",
       "      <td>A</td>\n",
       "    </tr>\n",
       "    <tr>\n",
       "      <th>1</th>\n",
       "      <td>458994</td>\n",
       "      <td>C</td>\n",
       "    </tr>\n",
       "    <tr>\n",
       "      <th>2</th>\n",
       "      <td>458996</td>\n",
       "      <td>B</td>\n",
       "    </tr>\n",
       "    <tr>\n",
       "      <th>3</th>\n",
       "      <td>459000</td>\n",
       "      <td>C</td>\n",
       "    </tr>\n",
       "    <tr>\n",
       "      <th>4</th>\n",
       "      <td>459001</td>\n",
       "      <td>D</td>\n",
       "    </tr>\n",
       "  </tbody>\n",
       "</table>\n",
       "</div>"
      ],
      "text/plain": [
       "       ID  0\n",
       "0  458989  A\n",
       "1  458994  C\n",
       "2  458996  B\n",
       "3  459000  C\n",
       "4  459001  D"
      ]
     },
     "execution_count": 163,
     "metadata": {},
     "output_type": "execute_result"
    }
   ],
   "source": [
    "Sub_SVC.head()"
   ]
  },
  {
   "cell_type": "code",
   "execution_count": 164,
   "metadata": {},
   "outputs": [],
   "source": [
    "Sub_SVC.rename( columns = {0:\"Segmentation\"},inplace=True)"
   ]
  },
  {
   "cell_type": "code",
   "execution_count": 165,
   "metadata": {},
   "outputs": [
    {
     "data": {
      "text/html": [
       "<div>\n",
       "<style scoped>\n",
       "    .dataframe tbody tr th:only-of-type {\n",
       "        vertical-align: middle;\n",
       "    }\n",
       "\n",
       "    .dataframe tbody tr th {\n",
       "        vertical-align: top;\n",
       "    }\n",
       "\n",
       "    .dataframe thead th {\n",
       "        text-align: right;\n",
       "    }\n",
       "</style>\n",
       "<table border=\"1\" class=\"dataframe\">\n",
       "  <thead>\n",
       "    <tr style=\"text-align: right;\">\n",
       "      <th></th>\n",
       "      <th>ID</th>\n",
       "      <th>Segmentation</th>\n",
       "    </tr>\n",
       "  </thead>\n",
       "  <tbody>\n",
       "    <tr>\n",
       "      <th>0</th>\n",
       "      <td>458989</td>\n",
       "      <td>A</td>\n",
       "    </tr>\n",
       "    <tr>\n",
       "      <th>1</th>\n",
       "      <td>458994</td>\n",
       "      <td>C</td>\n",
       "    </tr>\n",
       "    <tr>\n",
       "      <th>2</th>\n",
       "      <td>458996</td>\n",
       "      <td>B</td>\n",
       "    </tr>\n",
       "    <tr>\n",
       "      <th>3</th>\n",
       "      <td>459000</td>\n",
       "      <td>C</td>\n",
       "    </tr>\n",
       "    <tr>\n",
       "      <th>4</th>\n",
       "      <td>459001</td>\n",
       "      <td>D</td>\n",
       "    </tr>\n",
       "  </tbody>\n",
       "</table>\n",
       "</div>"
      ],
      "text/plain": [
       "       ID Segmentation\n",
       "0  458989            A\n",
       "1  458994            C\n",
       "2  458996            B\n",
       "3  459000            C\n",
       "4  459001            D"
      ]
     },
     "execution_count": 165,
     "metadata": {},
     "output_type": "execute_result"
    }
   ],
   "source": [
    "Sub_SVC.head()"
   ]
  },
  {
   "cell_type": "code",
   "execution_count": 166,
   "metadata": {},
   "outputs": [],
   "source": [
    "Sub_SVC.to_csv(\"9.Sub_SVC.csv\",index=False)"
   ]
  },
  {
   "cell_type": "code",
   "execution_count": 167,
   "metadata": {},
   "outputs": [],
   "source": [
    "#Portal Result:\n",
    "#Your score for this submission is : 0.5485098287888396,"
   ]
  },
  {
   "cell_type": "markdown",
   "metadata": {},
   "source": [
    "# 10.XGBoost Classifier:"
   ]
  },
  {
   "cell_type": "code",
   "execution_count": 168,
   "metadata": {},
   "outputs": [
    {
     "name": "stdout",
     "output_type": "stream",
     "text": [
      "1.2.0\n"
     ]
    }
   ],
   "source": [
    "# check xgboost version\n",
    "import xgboost\n",
    "print(xgboost.__version__)\n",
    "#Note: If it is not installed then install using below command:\n",
    "#sudo pip install xgboost"
   ]
  },
  {
   "cell_type": "code",
   "execution_count": 169,
   "metadata": {},
   "outputs": [
    {
     "name": "stderr",
     "output_type": "stream",
     "text": [
      "C:\\Users\\HARIOHM\\anaconda3\\lib\\site-packages\\sklearn\\utils\\validation.py:73: DataConversionWarning: A column-vector y was passed when a 1d array was expected. Please change the shape of y to (n_samples, ), for example using ravel().\n",
      "  return f(**kwargs)\n"
     ]
    },
    {
     "data": {
      "text/plain": [
       "XGBClassifier(base_score=0.5, booster='gbtree', colsample_bylevel=1,\n",
       "              colsample_bynode=1, colsample_bytree=1, gamma=0, gpu_id=-1,\n",
       "              importance_type='gain', interaction_constraints='',\n",
       "              learning_rate=0.300000012, max_delta_step=0, max_depth=6,\n",
       "              min_child_weight=1, missing=nan, monotone_constraints='()',\n",
       "              n_estimators=100, n_jobs=0, num_parallel_tree=1,\n",
       "              objective='multi:softprob', random_state=0, reg_alpha=0,\n",
       "              reg_lambda=1, scale_pos_weight=None, subsample=1,\n",
       "              tree_method='exact', validate_parameters=1, verbosity=None)"
      ]
     },
     "execution_count": 169,
     "metadata": {},
     "output_type": "execute_result"
    }
   ],
   "source": [
    "#Xgboost Classifier:\n",
    "import xgboost\n",
    "from xgboost import XGBClassifier\n",
    "XGB = XGBClassifier()\n",
    "#Build the Model:\n",
    "XGB.fit(X_train,y_train)"
   ]
  },
  {
   "cell_type": "code",
   "execution_count": 170,
   "metadata": {},
   "outputs": [],
   "source": [
    "#Predict on X_train itself to verify with the actual result:\n",
    "pred_X_train_XGB = XGB.predict(X_train)"
   ]
  },
  {
   "cell_type": "code",
   "execution_count": 171,
   "metadata": {},
   "outputs": [],
   "source": [
    "#Predict on Validation Data which is (X_test) and actual_test data:\n",
    "pred_X_test_XGB = XGB.predict(X_test)\n",
    "pred_test_XGB = XGB.predict(test_final)"
   ]
  },
  {
   "cell_type": "code",
   "execution_count": 172,
   "metadata": {},
   "outputs": [
    {
     "name": "stdout",
     "output_type": "stream",
     "text": [
      "--------------------------Result on Train Data-----------\n",
      "              precision    recall  f1-score   support\n",
      "\n",
      "           A       0.76      0.77      0.76      1559\n",
      "           B       0.66      0.75      0.70      1286\n",
      "           C       0.81      0.75      0.78      1706\n",
      "           D       0.88      0.85      0.86      1903\n",
      "\n",
      "    accuracy                           0.78      6454\n",
      "   macro avg       0.78      0.78      0.78      6454\n",
      "weighted avg       0.79      0.78      0.78      6454\n",
      "\n",
      "--------------------------Result on Validation Data------\n",
      "              precision    recall  f1-score   support\n",
      "\n",
      "           A       0.40      0.43      0.41       378\n",
      "           B       0.31      0.39      0.35       309\n",
      "           C       0.55      0.49      0.52       430\n",
      "           D       0.68      0.60      0.64       497\n",
      "\n",
      "    accuracy                           0.49      1614\n",
      "   macro avg       0.49      0.48      0.48      1614\n",
      "weighted avg       0.51      0.49      0.50      1614\n",
      "\n"
     ]
    }
   ],
   "source": [
    "#Check the Metrics on X_train using which model was built:\n",
    "from sklearn.metrics import classification_report,accuracy_score\n",
    "result_X_train_XGB = classification_report(pred_X_train_XGB,y_train)\n",
    "result_X_test_XGB = classification_report(pred_X_test_XGB,y_test)\n",
    "print(\"--------------------------Result on Train Data-----------\")\n",
    "print(result_X_train_XGB)\n",
    "print(\"--------------------------Result on Validation Data------\")\n",
    "print(result_X_test_XGB)\n",
    "#classification_report()"
   ]
  },
  {
   "cell_type": "code",
   "execution_count": 173,
   "metadata": {},
   "outputs": [],
   "source": [
    "#Concat the test_employee_id and pred_test_SVC:\n",
    "Sub_XGB = pd.concat([test_ID,pd.Series(pred_test_XGB)],axis=1)"
   ]
  },
  {
   "cell_type": "code",
   "execution_count": 174,
   "metadata": {},
   "outputs": [
    {
     "data": {
      "text/html": [
       "<div>\n",
       "<style scoped>\n",
       "    .dataframe tbody tr th:only-of-type {\n",
       "        vertical-align: middle;\n",
       "    }\n",
       "\n",
       "    .dataframe tbody tr th {\n",
       "        vertical-align: top;\n",
       "    }\n",
       "\n",
       "    .dataframe thead th {\n",
       "        text-align: right;\n",
       "    }\n",
       "</style>\n",
       "<table border=\"1\" class=\"dataframe\">\n",
       "  <thead>\n",
       "    <tr style=\"text-align: right;\">\n",
       "      <th></th>\n",
       "      <th>ID</th>\n",
       "      <th>0</th>\n",
       "    </tr>\n",
       "  </thead>\n",
       "  <tbody>\n",
       "    <tr>\n",
       "      <th>0</th>\n",
       "      <td>458989</td>\n",
       "      <td>B</td>\n",
       "    </tr>\n",
       "    <tr>\n",
       "      <th>1</th>\n",
       "      <td>458994</td>\n",
       "      <td>C</td>\n",
       "    </tr>\n",
       "    <tr>\n",
       "      <th>2</th>\n",
       "      <td>458996</td>\n",
       "      <td>A</td>\n",
       "    </tr>\n",
       "    <tr>\n",
       "      <th>3</th>\n",
       "      <td>459000</td>\n",
       "      <td>C</td>\n",
       "    </tr>\n",
       "    <tr>\n",
       "      <th>4</th>\n",
       "      <td>459001</td>\n",
       "      <td>D</td>\n",
       "    </tr>\n",
       "  </tbody>\n",
       "</table>\n",
       "</div>"
      ],
      "text/plain": [
       "       ID  0\n",
       "0  458989  B\n",
       "1  458994  C\n",
       "2  458996  A\n",
       "3  459000  C\n",
       "4  459001  D"
      ]
     },
     "execution_count": 174,
     "metadata": {},
     "output_type": "execute_result"
    }
   ],
   "source": [
    "Sub_XGB.head()"
   ]
  },
  {
   "cell_type": "code",
   "execution_count": 175,
   "metadata": {},
   "outputs": [],
   "source": [
    "Sub_XGB.rename(columns={0:\"Segmentation\"},inplace=True)"
   ]
  },
  {
   "cell_type": "code",
   "execution_count": 176,
   "metadata": {},
   "outputs": [],
   "source": [
    "Sub_XGB.to_csv(\"10.Sub_XGB.csv\",index=False)"
   ]
  },
  {
   "cell_type": "code",
   "execution_count": 177,
   "metadata": {},
   "outputs": [],
   "source": [
    "#Result on Portal:\n",
    "#Your score for this submission is : 0.575142675967026,"
   ]
  },
  {
   "cell_type": "markdown",
   "metadata": {},
   "source": [
    "# 11.LightGBM"
   ]
  },
  {
   "cell_type": "code",
   "execution_count": 178,
   "metadata": {},
   "outputs": [],
   "source": [
    "#install the LightGBM:\n",
    "#!pip install lightgbm\n",
    "#sudo pip install lightgbm"
   ]
  },
  {
   "cell_type": "code",
   "execution_count": 179,
   "metadata": {},
   "outputs": [
    {
     "name": "stdout",
     "output_type": "stream",
     "text": [
      "3.0.0\n"
     ]
    }
   ],
   "source": [
    "#import LightGradient Boosting Machine:\n",
    "import lightgbm\n",
    "print(lightgbm.__version__)"
   ]
  },
  {
   "cell_type": "code",
   "execution_count": 180,
   "metadata": {},
   "outputs": [
    {
     "name": "stderr",
     "output_type": "stream",
     "text": [
      "C:\\Users\\HARIOHM\\anaconda3\\lib\\site-packages\\sklearn\\utils\\validation.py:73: DataConversionWarning: A column-vector y was passed when a 1d array was expected. Please change the shape of y to (n_samples, ), for example using ravel().\n",
      "  return f(**kwargs)\n"
     ]
    },
    {
     "data": {
      "text/plain": [
       "LGBMClassifier()"
      ]
     },
     "execution_count": 180,
     "metadata": {},
     "output_type": "execute_result"
    }
   ],
   "source": [
    "from lightgbm import LGBMClassifier\n",
    "LGBM= LGBMClassifier()\n",
    "#Building the Model:\n",
    "LGBM.fit(X_train,y_train)"
   ]
  },
  {
   "cell_type": "code",
   "execution_count": 181,
   "metadata": {},
   "outputs": [],
   "source": [
    "#Predict on X_train itself to verify with the actual result:\n",
    "pred_X_train_LGBM = LGBM.predict(X_train)"
   ]
  },
  {
   "cell_type": "code",
   "execution_count": 182,
   "metadata": {},
   "outputs": [],
   "source": [
    "#Predict on Validation Data which is (X_test) and actual_test data:\n",
    "pred_X_test_LGBM = LGBM.predict(X_test)\n",
    "pred_test_LGBM = LGBM.predict(test_final)"
   ]
  },
  {
   "cell_type": "code",
   "execution_count": 183,
   "metadata": {},
   "outputs": [
    {
     "name": "stdout",
     "output_type": "stream",
     "text": [
      "--------------------------Result on Train Data for LGBM:-----------\n",
      "              precision    recall  f1-score   support\n",
      "\n",
      "           A       0.66      0.65      0.66      1583\n",
      "           B       0.53      0.66      0.59      1178\n",
      "           C       0.72      0.68      0.70      1676\n",
      "           D       0.83      0.75      0.79      2017\n",
      "\n",
      "    accuracy                           0.69      6454\n",
      "   macro avg       0.68      0.69      0.68      6454\n",
      "weighted avg       0.70      0.69      0.70      6454\n",
      "\n",
      "--------------------------Result on Validation Data LGBM:------\n",
      "              precision    recall  f1-score   support\n",
      "\n",
      "           A       0.43      0.46      0.44       378\n",
      "           B       0.31      0.40      0.35       298\n",
      "           C       0.58      0.52      0.55       423\n",
      "           D       0.72      0.61      0.66       515\n",
      "\n",
      "    accuracy                           0.51      1614\n",
      "   macro avg       0.51      0.50      0.50      1614\n",
      "weighted avg       0.54      0.51      0.52      1614\n",
      "\n"
     ]
    }
   ],
   "source": [
    "#Check the Metrics on X_train using which model was built:\n",
    "from sklearn.metrics import classification_report,accuracy_score\n",
    "result_X_train_LGBM = classification_report(pred_X_train_LGBM,y_train)\n",
    "result_X_test_LGBM = classification_report(pred_X_test_LGBM,y_test)\n",
    "print(\"--------------------------Result on Train Data for LGBM:-----------\")\n",
    "print(result_X_train_LGBM)\n",
    "print(\"--------------------------Result on Validation Data LGBM:------\")\n",
    "print(result_X_test_LGBM)\n",
    "#classification_report()"
   ]
  },
  {
   "cell_type": "code",
   "execution_count": 184,
   "metadata": {},
   "outputs": [],
   "source": [
    "#Concat the test_employee_id and pred_test_SVC:\n",
    "Sub_LGBM = pd.concat([test_ID,pd.Series(pred_test_LGBM)],axis=1)"
   ]
  },
  {
   "cell_type": "code",
   "execution_count": 185,
   "metadata": {},
   "outputs": [
    {
     "data": {
      "text/html": [
       "<div>\n",
       "<style scoped>\n",
       "    .dataframe tbody tr th:only-of-type {\n",
       "        vertical-align: middle;\n",
       "    }\n",
       "\n",
       "    .dataframe tbody tr th {\n",
       "        vertical-align: top;\n",
       "    }\n",
       "\n",
       "    .dataframe thead th {\n",
       "        text-align: right;\n",
       "    }\n",
       "</style>\n",
       "<table border=\"1\" class=\"dataframe\">\n",
       "  <thead>\n",
       "    <tr style=\"text-align: right;\">\n",
       "      <th></th>\n",
       "      <th>ID</th>\n",
       "      <th>0</th>\n",
       "    </tr>\n",
       "  </thead>\n",
       "  <tbody>\n",
       "    <tr>\n",
       "      <th>0</th>\n",
       "      <td>458989</td>\n",
       "      <td>B</td>\n",
       "    </tr>\n",
       "    <tr>\n",
       "      <th>1</th>\n",
       "      <td>458994</td>\n",
       "      <td>D</td>\n",
       "    </tr>\n",
       "    <tr>\n",
       "      <th>2</th>\n",
       "      <td>458996</td>\n",
       "      <td>A</td>\n",
       "    </tr>\n",
       "    <tr>\n",
       "      <th>3</th>\n",
       "      <td>459000</td>\n",
       "      <td>C</td>\n",
       "    </tr>\n",
       "    <tr>\n",
       "      <th>4</th>\n",
       "      <td>459001</td>\n",
       "      <td>D</td>\n",
       "    </tr>\n",
       "  </tbody>\n",
       "</table>\n",
       "</div>"
      ],
      "text/plain": [
       "       ID  0\n",
       "0  458989  B\n",
       "1  458994  D\n",
       "2  458996  A\n",
       "3  459000  C\n",
       "4  459001  D"
      ]
     },
     "execution_count": 185,
     "metadata": {},
     "output_type": "execute_result"
    }
   ],
   "source": [
    "Sub_LGBM.head()"
   ]
  },
  {
   "cell_type": "code",
   "execution_count": 186,
   "metadata": {},
   "outputs": [],
   "source": [
    "Sub_LGBM.rename(columns={0:\"Segmentation\"},inplace=True)"
   ]
  },
  {
   "cell_type": "code",
   "execution_count": 187,
   "metadata": {},
   "outputs": [
    {
     "data": {
      "text/html": [
       "<div>\n",
       "<style scoped>\n",
       "    .dataframe tbody tr th:only-of-type {\n",
       "        vertical-align: middle;\n",
       "    }\n",
       "\n",
       "    .dataframe tbody tr th {\n",
       "        vertical-align: top;\n",
       "    }\n",
       "\n",
       "    .dataframe thead th {\n",
       "        text-align: right;\n",
       "    }\n",
       "</style>\n",
       "<table border=\"1\" class=\"dataframe\">\n",
       "  <thead>\n",
       "    <tr style=\"text-align: right;\">\n",
       "      <th></th>\n",
       "      <th>ID</th>\n",
       "      <th>Segmentation</th>\n",
       "    </tr>\n",
       "  </thead>\n",
       "  <tbody>\n",
       "    <tr>\n",
       "      <th>0</th>\n",
       "      <td>458989</td>\n",
       "      <td>B</td>\n",
       "    </tr>\n",
       "    <tr>\n",
       "      <th>1</th>\n",
       "      <td>458994</td>\n",
       "      <td>D</td>\n",
       "    </tr>\n",
       "    <tr>\n",
       "      <th>2</th>\n",
       "      <td>458996</td>\n",
       "      <td>A</td>\n",
       "    </tr>\n",
       "    <tr>\n",
       "      <th>3</th>\n",
       "      <td>459000</td>\n",
       "      <td>C</td>\n",
       "    </tr>\n",
       "    <tr>\n",
       "      <th>4</th>\n",
       "      <td>459001</td>\n",
       "      <td>D</td>\n",
       "    </tr>\n",
       "  </tbody>\n",
       "</table>\n",
       "</div>"
      ],
      "text/plain": [
       "       ID Segmentation\n",
       "0  458989            B\n",
       "1  458994            D\n",
       "2  458996            A\n",
       "3  459000            C\n",
       "4  459001            D"
      ]
     },
     "execution_count": 187,
     "metadata": {},
     "output_type": "execute_result"
    }
   ],
   "source": [
    "Sub_LGBM.head()"
   ]
  },
  {
   "cell_type": "code",
   "execution_count": 188,
   "metadata": {},
   "outputs": [],
   "source": [
    "Sub_LGBM.to_csv(\"11.Sub_LGBM.csv\",index=False)"
   ]
  },
  {
   "cell_type": "code",
   "execution_count": 189,
   "metadata": {},
   "outputs": [],
   "source": [
    "#Result on Portal:\n",
    "#Your score for this submission is : 0.569435637285986,"
   ]
  },
  {
   "cell_type": "markdown",
   "metadata": {},
   "source": [
    "# 12.Gradient Boosting with CatBoost"
   ]
  },
  {
   "cell_type": "code",
   "execution_count": 190,
   "metadata": {},
   "outputs": [
    {
     "name": "stdout",
     "output_type": "stream",
     "text": [
      "Requirement already satisfied: catboost in c:\\users\\hariohm\\anaconda3\\lib\\site-packages (0.24.2)\n",
      "Requirement already satisfied: numpy>=1.16.0 in c:\\users\\hariohm\\anaconda3\\lib\\site-packages (from catboost) (1.19.1)\n",
      "Requirement already satisfied: plotly in c:\\users\\hariohm\\anaconda3\\lib\\site-packages (from catboost) (4.10.0)\n",
      "Requirement already satisfied: scipy in c:\\users\\hariohm\\anaconda3\\lib\\site-packages (from catboost) (1.5.2)\n",
      "Requirement already satisfied: graphviz in c:\\users\\hariohm\\anaconda3\\lib\\site-packages (from catboost) (0.14.2)\n",
      "Requirement already satisfied: six in c:\\users\\hariohm\\anaconda3\\lib\\site-packages (from catboost) (1.15.0)\n",
      "Requirement already satisfied: matplotlib in c:\\users\\hariohm\\anaconda3\\lib\\site-packages (from catboost) (3.3.1)\n",
      "Requirement already satisfied: pandas>=0.24.0 in c:\\users\\hariohm\\anaconda3\\lib\\site-packages (from catboost) (1.1.1)\n",
      "Requirement already satisfied: retrying>=1.3.3 in c:\\users\\hariohm\\anaconda3\\lib\\site-packages (from plotly->catboost) (1.3.3)\n",
      "Requirement already satisfied: pyparsing!=2.0.4,!=2.1.2,!=2.1.6,>=2.0.3 in c:\\users\\hariohm\\anaconda3\\lib\\site-packages (from matplotlib->catboost) (2.4.7)\n",
      "Requirement already satisfied: python-dateutil>=2.1 in c:\\users\\hariohm\\anaconda3\\lib\\site-packages (from matplotlib->catboost) (2.8.1)\n",
      "Requirement already satisfied: cycler>=0.10 in c:\\users\\hariohm\\anaconda3\\lib\\site-packages (from matplotlib->catboost) (0.10.0)\n",
      "Requirement already satisfied: pillow>=6.2.0 in c:\\users\\hariohm\\anaconda3\\lib\\site-packages (from matplotlib->catboost) (7.2.0)\n",
      "Requirement already satisfied: certifi>=2020.06.20 in c:\\users\\hariohm\\anaconda3\\lib\\site-packages (from matplotlib->catboost) (2020.6.20)\n",
      "Requirement already satisfied: kiwisolver>=1.0.1 in c:\\users\\hariohm\\anaconda3\\lib\\site-packages (from matplotlib->catboost) (1.2.0)\n",
      "Requirement already satisfied: pytz>=2017.2 in c:\\users\\hariohm\\anaconda3\\lib\\site-packages (from pandas>=0.24.0->catboost) (2020.1)\n"
     ]
    }
   ],
   "source": [
    "#It is also third party library:\n",
    "#Installing catboost:\n",
    "!pip install catboost\n",
    "#sudo pip install catboost"
   ]
  },
  {
   "cell_type": "code",
   "execution_count": 191,
   "metadata": {},
   "outputs": [
    {
     "name": "stdout",
     "output_type": "stream",
     "text": [
      "0.24.2\n"
     ]
    }
   ],
   "source": [
    "#Check the catboost version:\n",
    "import catboost\n",
    "print(catboost.__version__)"
   ]
  },
  {
   "cell_type": "code",
   "execution_count": 192,
   "metadata": {},
   "outputs": [
    {
     "name": "stdout",
     "output_type": "stream",
     "text": [
      "Learning rate set to 0.087021\n",
      "0:\tlearn: 1.3440834\ttotal: 147ms\tremaining: 2m 26s\n",
      "1:\tlearn: 1.3096620\ttotal: 165ms\tremaining: 1m 22s\n",
      "2:\tlearn: 1.2822836\ttotal: 176ms\tremaining: 58.3s\n",
      "3:\tlearn: 1.2616475\ttotal: 186ms\tremaining: 46.4s\n",
      "4:\tlearn: 1.2431546\ttotal: 211ms\tremaining: 42s\n",
      "5:\tlearn: 1.2278715\ttotal: 236ms\tremaining: 39s\n",
      "6:\tlearn: 1.2126353\ttotal: 245ms\tremaining: 34.8s\n",
      "7:\tlearn: 1.1989288\ttotal: 258ms\tremaining: 31.9s\n",
      "8:\tlearn: 1.1850485\ttotal: 284ms\tremaining: 31.3s\n",
      "9:\tlearn: 1.1740512\ttotal: 303ms\tremaining: 30s\n",
      "10:\tlearn: 1.1639284\ttotal: 315ms\tremaining: 28.3s\n",
      "11:\tlearn: 1.1551436\ttotal: 326ms\tremaining: 26.8s\n",
      "12:\tlearn: 1.1473090\ttotal: 335ms\tremaining: 25.4s\n",
      "13:\tlearn: 1.1395544\ttotal: 348ms\tremaining: 24.5s\n",
      "14:\tlearn: 1.1346554\ttotal: 358ms\tremaining: 23.5s\n",
      "15:\tlearn: 1.1285039\ttotal: 386ms\tremaining: 23.7s\n",
      "16:\tlearn: 1.1230534\ttotal: 412ms\tremaining: 23.8s\n",
      "17:\tlearn: 1.1176927\ttotal: 432ms\tremaining: 23.6s\n",
      "18:\tlearn: 1.1128500\ttotal: 450ms\tremaining: 23.3s\n",
      "19:\tlearn: 1.1082953\ttotal: 468ms\tremaining: 23s\n",
      "20:\tlearn: 1.1044930\ttotal: 488ms\tremaining: 22.7s\n",
      "21:\tlearn: 1.1008663\ttotal: 495ms\tremaining: 22s\n",
      "22:\tlearn: 1.0975497\ttotal: 504ms\tremaining: 21.4s\n",
      "23:\tlearn: 1.0940230\ttotal: 513ms\tremaining: 20.9s\n",
      "24:\tlearn: 1.0907665\ttotal: 526ms\tremaining: 20.5s\n",
      "25:\tlearn: 1.0872190\ttotal: 536ms\tremaining: 20.1s\n",
      "26:\tlearn: 1.0835136\ttotal: 545ms\tremaining: 19.6s\n",
      "27:\tlearn: 1.0807635\ttotal: 554ms\tremaining: 19.2s\n",
      "28:\tlearn: 1.0782285\ttotal: 563ms\tremaining: 18.8s\n",
      "29:\tlearn: 1.0755517\ttotal: 571ms\tremaining: 18.5s\n",
      "30:\tlearn: 1.0722897\ttotal: 580ms\tremaining: 18.1s\n",
      "31:\tlearn: 1.0702160\ttotal: 589ms\tremaining: 17.8s\n",
      "32:\tlearn: 1.0683606\ttotal: 597ms\tremaining: 17.5s\n",
      "33:\tlearn: 1.0660466\ttotal: 606ms\tremaining: 17.2s\n",
      "34:\tlearn: 1.0637414\ttotal: 615ms\tremaining: 17s\n",
      "35:\tlearn: 1.0614423\ttotal: 624ms\tremaining: 16.7s\n",
      "36:\tlearn: 1.0593067\ttotal: 632ms\tremaining: 16.5s\n",
      "37:\tlearn: 1.0573684\ttotal: 641ms\tremaining: 16.2s\n",
      "38:\tlearn: 1.0557467\ttotal: 649ms\tremaining: 16s\n",
      "39:\tlearn: 1.0540965\ttotal: 659ms\tremaining: 15.8s\n",
      "40:\tlearn: 1.0519433\ttotal: 668ms\tremaining: 15.6s\n",
      "41:\tlearn: 1.0504461\ttotal: 676ms\tremaining: 15.4s\n",
      "42:\tlearn: 1.0491377\ttotal: 685ms\tremaining: 15.2s\n",
      "43:\tlearn: 1.0478614\ttotal: 694ms\tremaining: 15.1s\n",
      "44:\tlearn: 1.0450571\ttotal: 705ms\tremaining: 15s\n",
      "45:\tlearn: 1.0436935\ttotal: 713ms\tremaining: 14.8s\n",
      "46:\tlearn: 1.0416960\ttotal: 722ms\tremaining: 14.6s\n",
      "47:\tlearn: 1.0400082\ttotal: 731ms\tremaining: 14.5s\n",
      "48:\tlearn: 1.0386080\ttotal: 740ms\tremaining: 14.4s\n",
      "49:\tlearn: 1.0375313\ttotal: 748ms\tremaining: 14.2s\n",
      "50:\tlearn: 1.0363026\ttotal: 757ms\tremaining: 14.1s\n",
      "51:\tlearn: 1.0354185\ttotal: 766ms\tremaining: 14s\n",
      "52:\tlearn: 1.0340340\ttotal: 774ms\tremaining: 13.8s\n",
      "53:\tlearn: 1.0329172\ttotal: 783ms\tremaining: 13.7s\n",
      "54:\tlearn: 1.0321173\ttotal: 793ms\tremaining: 13.6s\n",
      "55:\tlearn: 1.0309456\ttotal: 801ms\tremaining: 13.5s\n",
      "56:\tlearn: 1.0289267\ttotal: 810ms\tremaining: 13.4s\n",
      "57:\tlearn: 1.0279371\ttotal: 819ms\tremaining: 13.3s\n",
      "58:\tlearn: 1.0259918\ttotal: 828ms\tremaining: 13.2s\n",
      "59:\tlearn: 1.0249354\ttotal: 837ms\tremaining: 13.1s\n",
      "60:\tlearn: 1.0242137\ttotal: 846ms\tremaining: 13s\n",
      "61:\tlearn: 1.0231912\ttotal: 855ms\tremaining: 12.9s\n",
      "62:\tlearn: 1.0223330\ttotal: 863ms\tremaining: 12.8s\n",
      "63:\tlearn: 1.0212482\ttotal: 872ms\tremaining: 12.8s\n",
      "64:\tlearn: 1.0207261\ttotal: 882ms\tremaining: 12.7s\n",
      "65:\tlearn: 1.0196150\ttotal: 891ms\tremaining: 12.6s\n",
      "66:\tlearn: 1.0184546\ttotal: 899ms\tremaining: 12.5s\n",
      "67:\tlearn: 1.0173777\ttotal: 908ms\tremaining: 12.5s\n",
      "68:\tlearn: 1.0165839\ttotal: 917ms\tremaining: 12.4s\n",
      "69:\tlearn: 1.0158421\ttotal: 926ms\tremaining: 12.3s\n",
      "70:\tlearn: 1.0147438\ttotal: 935ms\tremaining: 12.2s\n",
      "71:\tlearn: 1.0139912\ttotal: 943ms\tremaining: 12.2s\n",
      "72:\tlearn: 1.0122190\ttotal: 952ms\tremaining: 12.1s\n",
      "73:\tlearn: 1.0108965\ttotal: 962ms\tremaining: 12s\n",
      "74:\tlearn: 1.0101107\ttotal: 970ms\tremaining: 12s\n",
      "75:\tlearn: 1.0097635\ttotal: 979ms\tremaining: 11.9s\n",
      "76:\tlearn: 1.0086008\ttotal: 990ms\tremaining: 11.9s\n",
      "77:\tlearn: 1.0077982\ttotal: 999ms\tremaining: 11.8s\n",
      "78:\tlearn: 1.0067409\ttotal: 1.01s\tremaining: 11.8s\n",
      "79:\tlearn: 1.0057497\ttotal: 1.02s\tremaining: 11.7s\n",
      "80:\tlearn: 1.0048456\ttotal: 1.02s\tremaining: 11.6s\n",
      "81:\tlearn: 1.0039491\ttotal: 1.03s\tremaining: 11.6s\n",
      "82:\tlearn: 1.0028100\ttotal: 1.04s\tremaining: 11.5s\n",
      "83:\tlearn: 1.0015740\ttotal: 1.05s\tremaining: 11.5s\n",
      "84:\tlearn: 1.0000970\ttotal: 1.06s\tremaining: 11.4s\n",
      "85:\tlearn: 0.9993330\ttotal: 1.07s\tremaining: 11.4s\n",
      "86:\tlearn: 0.9984902\ttotal: 1.08s\tremaining: 11.3s\n",
      "87:\tlearn: 0.9978481\ttotal: 1.09s\tremaining: 11.3s\n",
      "88:\tlearn: 0.9972918\ttotal: 1.1s\tremaining: 11.2s\n",
      "89:\tlearn: 0.9964095\ttotal: 1.1s\tremaining: 11.2s\n",
      "90:\tlearn: 0.9956875\ttotal: 1.11s\tremaining: 11.1s\n",
      "91:\tlearn: 0.9949698\ttotal: 1.12s\tremaining: 11.1s\n",
      "92:\tlearn: 0.9941812\ttotal: 1.13s\tremaining: 11s\n",
      "93:\tlearn: 0.9928762\ttotal: 1.14s\tremaining: 11s\n",
      "94:\tlearn: 0.9923262\ttotal: 1.15s\tremaining: 10.9s\n",
      "95:\tlearn: 0.9916125\ttotal: 1.16s\tremaining: 10.9s\n",
      "96:\tlearn: 0.9908824\ttotal: 1.17s\tremaining: 10.9s\n",
      "97:\tlearn: 0.9894029\ttotal: 1.17s\tremaining: 10.8s\n",
      "98:\tlearn: 0.9890004\ttotal: 1.18s\tremaining: 10.8s\n",
      "99:\tlearn: 0.9880404\ttotal: 1.19s\tremaining: 10.7s\n",
      "100:\tlearn: 0.9872492\ttotal: 1.2s\tremaining: 10.7s\n",
      "101:\tlearn: 0.9863703\ttotal: 1.21s\tremaining: 10.7s\n",
      "102:\tlearn: 0.9855809\ttotal: 1.22s\tremaining: 10.6s\n",
      "103:\tlearn: 0.9851073\ttotal: 1.23s\tremaining: 10.6s\n",
      "104:\tlearn: 0.9841441\ttotal: 1.24s\tremaining: 10.6s\n",
      "105:\tlearn: 0.9835326\ttotal: 1.25s\tremaining: 10.6s\n",
      "106:\tlearn: 0.9830574\ttotal: 1.26s\tremaining: 10.5s\n",
      "107:\tlearn: 0.9822064\ttotal: 1.27s\tremaining: 10.5s\n",
      "108:\tlearn: 0.9813933\ttotal: 1.28s\tremaining: 10.5s\n",
      "109:\tlearn: 0.9805778\ttotal: 1.29s\tremaining: 10.4s\n",
      "110:\tlearn: 0.9799066\ttotal: 1.3s\tremaining: 10.4s\n",
      "111:\tlearn: 0.9791076\ttotal: 1.3s\tremaining: 10.4s\n",
      "112:\tlearn: 0.9784044\ttotal: 1.31s\tremaining: 10.3s\n",
      "113:\tlearn: 0.9775699\ttotal: 1.32s\tremaining: 10.3s\n",
      "114:\tlearn: 0.9767390\ttotal: 1.33s\tremaining: 10.2s\n",
      "115:\tlearn: 0.9759487\ttotal: 1.34s\tremaining: 10.2s\n",
      "116:\tlearn: 0.9752301\ttotal: 1.35s\tremaining: 10.2s\n",
      "117:\tlearn: 0.9743633\ttotal: 1.36s\tremaining: 10.1s\n",
      "118:\tlearn: 0.9735521\ttotal: 1.37s\tremaining: 10.1s\n",
      "119:\tlearn: 0.9731985\ttotal: 1.37s\tremaining: 10.1s\n",
      "120:\tlearn: 0.9721941\ttotal: 1.38s\tremaining: 10s\n",
      "121:\tlearn: 0.9714128\ttotal: 1.39s\tremaining: 10s\n",
      "122:\tlearn: 0.9704874\ttotal: 1.4s\tremaining: 9.98s\n",
      "123:\tlearn: 0.9697808\ttotal: 1.41s\tremaining: 9.97s\n",
      "124:\tlearn: 0.9692739\ttotal: 1.42s\tremaining: 9.94s\n",
      "125:\tlearn: 0.9681166\ttotal: 1.43s\tremaining: 9.9s\n",
      "126:\tlearn: 0.9674718\ttotal: 1.44s\tremaining: 9.88s\n",
      "127:\tlearn: 0.9665917\ttotal: 1.45s\tremaining: 9.85s\n",
      "128:\tlearn: 0.9660130\ttotal: 1.46s\tremaining: 9.84s\n",
      "129:\tlearn: 0.9653798\ttotal: 1.47s\tremaining: 9.81s\n",
      "130:\tlearn: 0.9645151\ttotal: 1.48s\tremaining: 9.79s\n",
      "131:\tlearn: 0.9639527\ttotal: 1.49s\tremaining: 9.77s\n",
      "132:\tlearn: 0.9633806\ttotal: 1.49s\tremaining: 9.74s\n",
      "133:\tlearn: 0.9629450\ttotal: 1.5s\tremaining: 9.71s\n",
      "134:\tlearn: 0.9618024\ttotal: 1.51s\tremaining: 9.68s\n",
      "135:\tlearn: 0.9609517\ttotal: 1.52s\tremaining: 9.66s\n",
      "136:\tlearn: 0.9604168\ttotal: 1.53s\tremaining: 9.63s\n",
      "137:\tlearn: 0.9595246\ttotal: 1.54s\tremaining: 9.61s\n",
      "138:\tlearn: 0.9584496\ttotal: 1.55s\tremaining: 9.58s\n",
      "139:\tlearn: 0.9575076\ttotal: 1.55s\tremaining: 9.56s\n",
      "140:\tlearn: 0.9565269\ttotal: 1.56s\tremaining: 9.53s\n",
      "141:\tlearn: 0.9557815\ttotal: 1.57s\tremaining: 9.51s\n",
      "142:\tlearn: 0.9551709\ttotal: 1.58s\tremaining: 9.49s\n",
      "143:\tlearn: 0.9543548\ttotal: 1.59s\tremaining: 9.47s\n",
      "144:\tlearn: 0.9536410\ttotal: 1.6s\tremaining: 9.45s\n",
      "145:\tlearn: 0.9528502\ttotal: 1.61s\tremaining: 9.42s\n",
      "146:\tlearn: 0.9522657\ttotal: 1.62s\tremaining: 9.4s\n",
      "147:\tlearn: 0.9512897\ttotal: 1.63s\tremaining: 9.38s\n",
      "148:\tlearn: 0.9506790\ttotal: 1.64s\tremaining: 9.35s\n",
      "149:\tlearn: 0.9499002\ttotal: 1.65s\tremaining: 9.33s\n",
      "150:\tlearn: 0.9491576\ttotal: 1.65s\tremaining: 9.3s\n",
      "151:\tlearn: 0.9483625\ttotal: 1.66s\tremaining: 9.28s\n",
      "152:\tlearn: 0.9475888\ttotal: 1.67s\tremaining: 9.26s\n",
      "153:\tlearn: 0.9469833\ttotal: 1.68s\tremaining: 9.23s\n",
      "154:\tlearn: 0.9463587\ttotal: 1.69s\tremaining: 9.21s\n",
      "155:\tlearn: 0.9461085\ttotal: 1.7s\tremaining: 9.19s\n",
      "156:\tlearn: 0.9452831\ttotal: 1.71s\tremaining: 9.16s\n",
      "157:\tlearn: 0.9446296\ttotal: 1.72s\tremaining: 9.14s\n",
      "158:\tlearn: 0.9441925\ttotal: 1.72s\tremaining: 9.12s\n",
      "159:\tlearn: 0.9437992\ttotal: 1.73s\tremaining: 9.1s\n",
      "160:\tlearn: 0.9431076\ttotal: 1.74s\tremaining: 9.07s\n",
      "161:\tlearn: 0.9426148\ttotal: 1.75s\tremaining: 9.05s\n"
     ]
    },
    {
     "name": "stdout",
     "output_type": "stream",
     "text": [
      "162:\tlearn: 0.9417802\ttotal: 1.76s\tremaining: 9.04s\n",
      "163:\tlearn: 0.9412745\ttotal: 1.77s\tremaining: 9.02s\n",
      "164:\tlearn: 0.9408694\ttotal: 1.78s\tremaining: 9s\n",
      "165:\tlearn: 0.9400217\ttotal: 1.79s\tremaining: 8.98s\n",
      "166:\tlearn: 0.9393809\ttotal: 1.8s\tremaining: 8.96s\n",
      "167:\tlearn: 0.9386917\ttotal: 1.81s\tremaining: 8.95s\n",
      "168:\tlearn: 0.9380783\ttotal: 1.81s\tremaining: 8.93s\n",
      "169:\tlearn: 0.9375789\ttotal: 1.82s\tremaining: 8.91s\n",
      "170:\tlearn: 0.9367856\ttotal: 1.83s\tremaining: 8.89s\n",
      "171:\tlearn: 0.9363218\ttotal: 1.84s\tremaining: 8.87s\n",
      "172:\tlearn: 0.9360195\ttotal: 1.85s\tremaining: 8.84s\n",
      "173:\tlearn: 0.9352430\ttotal: 1.86s\tremaining: 8.82s\n",
      "174:\tlearn: 0.9344838\ttotal: 1.87s\tremaining: 8.8s\n",
      "175:\tlearn: 0.9338139\ttotal: 1.88s\tremaining: 8.79s\n",
      "176:\tlearn: 0.9331779\ttotal: 1.89s\tremaining: 8.77s\n",
      "177:\tlearn: 0.9324895\ttotal: 1.89s\tremaining: 8.75s\n",
      "178:\tlearn: 0.9317521\ttotal: 1.9s\tremaining: 8.73s\n",
      "179:\tlearn: 0.9313442\ttotal: 1.92s\tremaining: 8.72s\n",
      "180:\tlearn: 0.9307738\ttotal: 1.93s\tremaining: 8.71s\n",
      "181:\tlearn: 0.9299549\ttotal: 1.94s\tremaining: 8.7s\n",
      "182:\tlearn: 0.9294229\ttotal: 1.95s\tremaining: 8.69s\n",
      "183:\tlearn: 0.9290677\ttotal: 1.95s\tremaining: 8.67s\n",
      "184:\tlearn: 0.9283715\ttotal: 1.96s\tremaining: 8.65s\n",
      "185:\tlearn: 0.9277268\ttotal: 1.97s\tremaining: 8.63s\n",
      "186:\tlearn: 0.9273158\ttotal: 1.98s\tremaining: 8.62s\n",
      "187:\tlearn: 0.9267014\ttotal: 1.99s\tremaining: 8.6s\n",
      "188:\tlearn: 0.9258865\ttotal: 2s\tremaining: 8.58s\n",
      "189:\tlearn: 0.9254851\ttotal: 2.01s\tremaining: 8.56s\n",
      "190:\tlearn: 0.9248615\ttotal: 2.02s\tremaining: 8.54s\n",
      "191:\tlearn: 0.9245399\ttotal: 2.03s\tremaining: 8.53s\n",
      "192:\tlearn: 0.9241302\ttotal: 2.04s\tremaining: 8.51s\n",
      "193:\tlearn: 0.9233291\ttotal: 2.04s\tremaining: 8.49s\n",
      "194:\tlearn: 0.9228982\ttotal: 2.05s\tremaining: 8.47s\n",
      "195:\tlearn: 0.9223628\ttotal: 2.06s\tremaining: 8.45s\n",
      "196:\tlearn: 0.9216895\ttotal: 2.07s\tremaining: 8.44s\n",
      "197:\tlearn: 0.9210881\ttotal: 2.08s\tremaining: 8.42s\n",
      "198:\tlearn: 0.9207119\ttotal: 2.09s\tremaining: 8.4s\n",
      "199:\tlearn: 0.9200242\ttotal: 2.1s\tremaining: 8.38s\n",
      "200:\tlearn: 0.9192571\ttotal: 2.11s\tremaining: 8.37s\n",
      "201:\tlearn: 0.9186021\ttotal: 2.12s\tremaining: 8.36s\n",
      "202:\tlearn: 0.9179573\ttotal: 2.12s\tremaining: 8.34s\n",
      "203:\tlearn: 0.9175840\ttotal: 2.13s\tremaining: 8.32s\n",
      "204:\tlearn: 0.9169770\ttotal: 2.14s\tremaining: 8.31s\n",
      "205:\tlearn: 0.9162361\ttotal: 2.15s\tremaining: 8.29s\n",
      "206:\tlearn: 0.9155645\ttotal: 2.16s\tremaining: 8.28s\n",
      "207:\tlearn: 0.9151667\ttotal: 2.17s\tremaining: 8.26s\n",
      "208:\tlearn: 0.9145831\ttotal: 2.18s\tremaining: 8.25s\n",
      "209:\tlearn: 0.9139193\ttotal: 2.19s\tremaining: 8.23s\n",
      "210:\tlearn: 0.9135286\ttotal: 2.2s\tremaining: 8.22s\n",
      "211:\tlearn: 0.9130941\ttotal: 2.21s\tremaining: 8.2s\n",
      "212:\tlearn: 0.9128446\ttotal: 2.22s\tremaining: 8.19s\n",
      "213:\tlearn: 0.9123843\ttotal: 2.23s\tremaining: 8.18s\n",
      "214:\tlearn: 0.9119606\ttotal: 2.23s\tremaining: 8.16s\n",
      "215:\tlearn: 0.9113762\ttotal: 2.24s\tremaining: 8.14s\n",
      "216:\tlearn: 0.9108826\ttotal: 2.25s\tremaining: 8.13s\n",
      "217:\tlearn: 0.9099952\ttotal: 2.26s\tremaining: 8.11s\n",
      "218:\tlearn: 0.9093358\ttotal: 2.27s\tremaining: 8.1s\n",
      "219:\tlearn: 0.9087802\ttotal: 2.28s\tremaining: 8.09s\n",
      "220:\tlearn: 0.9084354\ttotal: 2.29s\tremaining: 8.07s\n",
      "221:\tlearn: 0.9075302\ttotal: 2.3s\tremaining: 8.05s\n",
      "222:\tlearn: 0.9070084\ttotal: 2.31s\tremaining: 8.04s\n",
      "223:\tlearn: 0.9065234\ttotal: 2.31s\tremaining: 8.02s\n",
      "224:\tlearn: 0.9059705\ttotal: 2.32s\tremaining: 8s\n",
      "225:\tlearn: 0.9056460\ttotal: 2.33s\tremaining: 7.99s\n",
      "226:\tlearn: 0.9052750\ttotal: 2.34s\tremaining: 7.97s\n",
      "227:\tlearn: 0.9048919\ttotal: 2.35s\tremaining: 7.96s\n",
      "228:\tlearn: 0.9043826\ttotal: 2.36s\tremaining: 7.94s\n",
      "229:\tlearn: 0.9039604\ttotal: 2.37s\tremaining: 7.92s\n",
      "230:\tlearn: 0.9036984\ttotal: 2.37s\tremaining: 7.91s\n",
      "231:\tlearn: 0.9032009\ttotal: 2.38s\tremaining: 7.89s\n",
      "232:\tlearn: 0.9026709\ttotal: 2.39s\tremaining: 7.88s\n",
      "233:\tlearn: 0.9022909\ttotal: 2.4s\tremaining: 7.86s\n",
      "234:\tlearn: 0.9019062\ttotal: 2.41s\tremaining: 7.85s\n",
      "235:\tlearn: 0.9015768\ttotal: 2.42s\tremaining: 7.83s\n",
      "236:\tlearn: 0.9010283\ttotal: 2.43s\tremaining: 7.82s\n",
      "237:\tlearn: 0.9006574\ttotal: 2.44s\tremaining: 7.8s\n",
      "238:\tlearn: 0.9003370\ttotal: 2.45s\tremaining: 7.79s\n",
      "239:\tlearn: 0.8998269\ttotal: 2.46s\tremaining: 7.78s\n",
      "240:\tlearn: 0.8991171\ttotal: 2.47s\tremaining: 7.77s\n",
      "241:\tlearn: 0.8985302\ttotal: 2.48s\tremaining: 7.75s\n",
      "242:\tlearn: 0.8979236\ttotal: 2.48s\tremaining: 7.74s\n",
      "243:\tlearn: 0.8972188\ttotal: 2.49s\tremaining: 7.72s\n",
      "244:\tlearn: 0.8966661\ttotal: 2.5s\tremaining: 7.71s\n",
      "245:\tlearn: 0.8962406\ttotal: 2.51s\tremaining: 7.69s\n",
      "246:\tlearn: 0.8956889\ttotal: 2.52s\tremaining: 7.68s\n",
      "247:\tlearn: 0.8951398\ttotal: 2.53s\tremaining: 7.67s\n",
      "248:\tlearn: 0.8947274\ttotal: 2.54s\tremaining: 7.65s\n",
      "249:\tlearn: 0.8943018\ttotal: 2.55s\tremaining: 7.64s\n",
      "250:\tlearn: 0.8934497\ttotal: 2.56s\tremaining: 7.62s\n",
      "251:\tlearn: 0.8930409\ttotal: 2.56s\tremaining: 7.61s\n",
      "252:\tlearn: 0.8925720\ttotal: 2.57s\tremaining: 7.59s\n",
      "253:\tlearn: 0.8921034\ttotal: 2.58s\tremaining: 7.58s\n",
      "254:\tlearn: 0.8916705\ttotal: 2.59s\tremaining: 7.57s\n",
      "255:\tlearn: 0.8912414\ttotal: 2.6s\tremaining: 7.55s\n",
      "256:\tlearn: 0.8908027\ttotal: 2.61s\tremaining: 7.54s\n",
      "257:\tlearn: 0.8904514\ttotal: 2.62s\tremaining: 7.52s\n",
      "258:\tlearn: 0.8898119\ttotal: 2.62s\tremaining: 7.51s\n",
      "259:\tlearn: 0.8893655\ttotal: 2.63s\tremaining: 7.5s\n",
      "260:\tlearn: 0.8891389\ttotal: 2.64s\tremaining: 7.49s\n",
      "261:\tlearn: 0.8886810\ttotal: 2.65s\tremaining: 7.47s\n",
      "262:\tlearn: 0.8882094\ttotal: 2.66s\tremaining: 7.46s\n",
      "263:\tlearn: 0.8876595\ttotal: 2.67s\tremaining: 7.44s\n",
      "264:\tlearn: 0.8871267\ttotal: 2.68s\tremaining: 7.43s\n",
      "265:\tlearn: 0.8864319\ttotal: 2.69s\tremaining: 7.42s\n",
      "266:\tlearn: 0.8858717\ttotal: 2.7s\tremaining: 7.41s\n",
      "267:\tlearn: 0.8853337\ttotal: 2.71s\tremaining: 7.39s\n",
      "268:\tlearn: 0.8848149\ttotal: 2.71s\tremaining: 7.38s\n",
      "269:\tlearn: 0.8843888\ttotal: 2.72s\tremaining: 7.37s\n",
      "270:\tlearn: 0.8839865\ttotal: 2.73s\tremaining: 7.35s\n",
      "271:\tlearn: 0.8835849\ttotal: 2.74s\tremaining: 7.34s\n",
      "272:\tlearn: 0.8831908\ttotal: 2.75s\tremaining: 7.33s\n",
      "273:\tlearn: 0.8827590\ttotal: 2.76s\tremaining: 7.31s\n",
      "274:\tlearn: 0.8824532\ttotal: 2.77s\tremaining: 7.3s\n",
      "275:\tlearn: 0.8819791\ttotal: 2.78s\tremaining: 7.29s\n",
      "276:\tlearn: 0.8815972\ttotal: 2.79s\tremaining: 7.27s\n",
      "277:\tlearn: 0.8810564\ttotal: 2.79s\tremaining: 7.26s\n",
      "278:\tlearn: 0.8805661\ttotal: 2.81s\tremaining: 7.25s\n",
      "279:\tlearn: 0.8802525\ttotal: 2.81s\tremaining: 7.24s\n",
      "280:\tlearn: 0.8799077\ttotal: 2.82s\tremaining: 7.22s\n",
      "281:\tlearn: 0.8794264\ttotal: 2.83s\tremaining: 7.21s\n",
      "282:\tlearn: 0.8792197\ttotal: 2.84s\tremaining: 7.2s\n",
      "283:\tlearn: 0.8787230\ttotal: 2.85s\tremaining: 7.18s\n",
      "284:\tlearn: 0.8784759\ttotal: 2.86s\tremaining: 7.17s\n",
      "285:\tlearn: 0.8780541\ttotal: 2.87s\tremaining: 7.16s\n",
      "286:\tlearn: 0.8775836\ttotal: 2.88s\tremaining: 7.14s\n",
      "287:\tlearn: 0.8771041\ttotal: 2.88s\tremaining: 7.13s\n",
      "288:\tlearn: 0.8766603\ttotal: 2.89s\tremaining: 7.12s\n",
      "289:\tlearn: 0.8761710\ttotal: 2.9s\tremaining: 7.11s\n",
      "290:\tlearn: 0.8757304\ttotal: 2.91s\tremaining: 7.09s\n",
      "291:\tlearn: 0.8753619\ttotal: 2.92s\tremaining: 7.08s\n",
      "292:\tlearn: 0.8750467\ttotal: 2.93s\tremaining: 7.07s\n",
      "293:\tlearn: 0.8745998\ttotal: 2.94s\tremaining: 7.05s\n",
      "294:\tlearn: 0.8739361\ttotal: 2.95s\tremaining: 7.04s\n",
      "295:\tlearn: 0.8733666\ttotal: 2.96s\tremaining: 7.03s\n",
      "296:\tlearn: 0.8730181\ttotal: 2.96s\tremaining: 7.01s\n",
      "297:\tlearn: 0.8724670\ttotal: 2.97s\tremaining: 7s\n",
      "298:\tlearn: 0.8722174\ttotal: 2.98s\tremaining: 7s\n",
      "299:\tlearn: 0.8717624\ttotal: 2.99s\tremaining: 6.98s\n",
      "300:\tlearn: 0.8712260\ttotal: 3s\tremaining: 6.97s\n",
      "301:\tlearn: 0.8707114\ttotal: 3.01s\tremaining: 6.96s\n",
      "302:\tlearn: 0.8704634\ttotal: 3.02s\tremaining: 6.94s\n",
      "303:\tlearn: 0.8699181\ttotal: 3.03s\tremaining: 6.93s\n",
      "304:\tlearn: 0.8691705\ttotal: 3.04s\tremaining: 6.92s\n",
      "305:\tlearn: 0.8686509\ttotal: 3.04s\tremaining: 6.9s\n",
      "306:\tlearn: 0.8683214\ttotal: 3.05s\tremaining: 6.89s\n",
      "307:\tlearn: 0.8679143\ttotal: 3.06s\tremaining: 6.88s\n",
      "308:\tlearn: 0.8674928\ttotal: 3.07s\tremaining: 6.86s\n",
      "309:\tlearn: 0.8669212\ttotal: 3.08s\tremaining: 6.85s\n",
      "310:\tlearn: 0.8665447\ttotal: 3.09s\tremaining: 6.84s\n",
      "311:\tlearn: 0.8658177\ttotal: 3.1s\tremaining: 6.83s\n",
      "312:\tlearn: 0.8654227\ttotal: 3.1s\tremaining: 6.82s\n",
      "313:\tlearn: 0.8650406\ttotal: 3.11s\tremaining: 6.8s\n",
      "314:\tlearn: 0.8645589\ttotal: 3.12s\tremaining: 6.79s\n",
      "315:\tlearn: 0.8643078\ttotal: 3.13s\tremaining: 6.78s\n",
      "316:\tlearn: 0.8638471\ttotal: 3.14s\tremaining: 6.77s\n",
      "317:\tlearn: 0.8634555\ttotal: 3.15s\tremaining: 6.75s\n",
      "318:\tlearn: 0.8631163\ttotal: 3.16s\tremaining: 6.74s\n",
      "319:\tlearn: 0.8628134\ttotal: 3.17s\tremaining: 6.73s\n",
      "320:\tlearn: 0.8624139\ttotal: 3.18s\tremaining: 6.72s\n",
      "321:\tlearn: 0.8619408\ttotal: 3.19s\tremaining: 6.71s\n",
      "322:\tlearn: 0.8615839\ttotal: 3.2s\tremaining: 6.7s\n",
      "323:\tlearn: 0.8612001\ttotal: 3.2s\tremaining: 6.69s\n",
      "324:\tlearn: 0.8607014\ttotal: 3.21s\tremaining: 6.67s\n",
      "325:\tlearn: 0.8604050\ttotal: 3.22s\tremaining: 6.66s\n",
      "326:\tlearn: 0.8599289\ttotal: 3.23s\tremaining: 6.65s\n",
      "327:\tlearn: 0.8596488\ttotal: 3.24s\tremaining: 6.64s\n",
      "328:\tlearn: 0.8593888\ttotal: 3.25s\tremaining: 6.62s\n",
      "329:\tlearn: 0.8591547\ttotal: 3.26s\tremaining: 6.61s\n",
      "330:\tlearn: 0.8588749\ttotal: 3.26s\tremaining: 6.6s\n",
      "331:\tlearn: 0.8582907\ttotal: 3.27s\tremaining: 6.59s\n",
      "332:\tlearn: 0.8579220\ttotal: 3.28s\tremaining: 6.57s\n",
      "333:\tlearn: 0.8575558\ttotal: 3.29s\tremaining: 6.56s\n",
      "334:\tlearn: 0.8572528\ttotal: 3.3s\tremaining: 6.55s\n",
      "335:\tlearn: 0.8565382\ttotal: 3.31s\tremaining: 6.54s\n",
      "336:\tlearn: 0.8561871\ttotal: 3.32s\tremaining: 6.53s\n"
     ]
    },
    {
     "name": "stdout",
     "output_type": "stream",
     "text": [
      "337:\tlearn: 0.8558467\ttotal: 3.33s\tremaining: 6.52s\n",
      "338:\tlearn: 0.8553378\ttotal: 3.34s\tremaining: 6.51s\n",
      "339:\tlearn: 0.8546700\ttotal: 3.35s\tremaining: 6.5s\n",
      "340:\tlearn: 0.8541602\ttotal: 3.36s\tremaining: 6.49s\n",
      "341:\tlearn: 0.8538311\ttotal: 3.37s\tremaining: 6.47s\n",
      "342:\tlearn: 0.8535739\ttotal: 3.37s\tremaining: 6.46s\n",
      "343:\tlearn: 0.8532780\ttotal: 3.38s\tremaining: 6.46s\n",
      "344:\tlearn: 0.8528870\ttotal: 3.39s\tremaining: 6.45s\n",
      "345:\tlearn: 0.8525503\ttotal: 3.4s\tremaining: 6.43s\n",
      "346:\tlearn: 0.8519642\ttotal: 3.41s\tremaining: 6.42s\n",
      "347:\tlearn: 0.8516653\ttotal: 3.42s\tremaining: 6.41s\n",
      "348:\tlearn: 0.8513745\ttotal: 3.43s\tremaining: 6.4s\n",
      "349:\tlearn: 0.8511176\ttotal: 3.44s\tremaining: 6.38s\n",
      "350:\tlearn: 0.8507455\ttotal: 3.45s\tremaining: 6.37s\n",
      "351:\tlearn: 0.8502488\ttotal: 3.46s\tremaining: 6.36s\n",
      "352:\tlearn: 0.8499041\ttotal: 3.46s\tremaining: 6.35s\n",
      "353:\tlearn: 0.8494926\ttotal: 3.47s\tremaining: 6.34s\n",
      "354:\tlearn: 0.8491966\ttotal: 3.48s\tremaining: 6.33s\n",
      "355:\tlearn: 0.8488142\ttotal: 3.49s\tremaining: 6.31s\n",
      "356:\tlearn: 0.8485175\ttotal: 3.5s\tremaining: 6.3s\n",
      "357:\tlearn: 0.8481424\ttotal: 3.51s\tremaining: 6.29s\n",
      "358:\tlearn: 0.8479036\ttotal: 3.52s\tremaining: 6.28s\n",
      "359:\tlearn: 0.8476679\ttotal: 3.53s\tremaining: 6.27s\n",
      "360:\tlearn: 0.8472437\ttotal: 3.54s\tremaining: 6.26s\n",
      "361:\tlearn: 0.8469456\ttotal: 3.54s\tremaining: 6.25s\n",
      "362:\tlearn: 0.8467614\ttotal: 3.55s\tremaining: 6.23s\n",
      "363:\tlearn: 0.8465632\ttotal: 3.56s\tremaining: 6.22s\n",
      "364:\tlearn: 0.8460398\ttotal: 3.57s\tremaining: 6.21s\n",
      "365:\tlearn: 0.8455736\ttotal: 3.58s\tremaining: 6.2s\n",
      "366:\tlearn: 0.8450824\ttotal: 3.59s\tremaining: 6.19s\n",
      "367:\tlearn: 0.8445470\ttotal: 3.6s\tremaining: 6.18s\n",
      "368:\tlearn: 0.8442397\ttotal: 3.6s\tremaining: 6.17s\n",
      "369:\tlearn: 0.8440162\ttotal: 3.61s\tremaining: 6.15s\n",
      "370:\tlearn: 0.8436478\ttotal: 3.62s\tremaining: 6.14s\n",
      "371:\tlearn: 0.8434801\ttotal: 3.63s\tremaining: 6.13s\n",
      "372:\tlearn: 0.8432027\ttotal: 3.64s\tremaining: 6.12s\n",
      "373:\tlearn: 0.8427589\ttotal: 3.65s\tremaining: 6.11s\n",
      "374:\tlearn: 0.8422865\ttotal: 3.66s\tremaining: 6.1s\n",
      "375:\tlearn: 0.8419451\ttotal: 3.67s\tremaining: 6.08s\n",
      "376:\tlearn: 0.8415545\ttotal: 3.67s\tremaining: 6.07s\n",
      "377:\tlearn: 0.8412350\ttotal: 3.69s\tremaining: 6.07s\n",
      "378:\tlearn: 0.8408293\ttotal: 3.69s\tremaining: 6.05s\n",
      "379:\tlearn: 0.8405976\ttotal: 3.7s\tremaining: 6.04s\n",
      "380:\tlearn: 0.8402327\ttotal: 3.71s\tremaining: 6.03s\n",
      "381:\tlearn: 0.8398336\ttotal: 3.72s\tremaining: 6.02s\n",
      "382:\tlearn: 0.8392399\ttotal: 3.73s\tremaining: 6.01s\n",
      "383:\tlearn: 0.8389790\ttotal: 3.74s\tremaining: 6s\n",
      "384:\tlearn: 0.8385854\ttotal: 3.75s\tremaining: 5.99s\n",
      "385:\tlearn: 0.8380926\ttotal: 3.76s\tremaining: 5.97s\n",
      "386:\tlearn: 0.8377523\ttotal: 3.77s\tremaining: 5.96s\n",
      "387:\tlearn: 0.8375356\ttotal: 3.78s\tremaining: 5.96s\n",
      "388:\tlearn: 0.8370495\ttotal: 3.79s\tremaining: 5.95s\n",
      "389:\tlearn: 0.8367013\ttotal: 3.8s\tremaining: 5.94s\n",
      "390:\tlearn: 0.8364342\ttotal: 3.81s\tremaining: 5.93s\n",
      "391:\tlearn: 0.8362681\ttotal: 3.81s\tremaining: 5.92s\n",
      "392:\tlearn: 0.8359246\ttotal: 3.82s\tremaining: 5.91s\n",
      "393:\tlearn: 0.8354684\ttotal: 3.83s\tremaining: 5.89s\n",
      "394:\tlearn: 0.8350134\ttotal: 3.84s\tremaining: 5.88s\n",
      "395:\tlearn: 0.8347600\ttotal: 3.85s\tremaining: 5.87s\n",
      "396:\tlearn: 0.8344893\ttotal: 3.86s\tremaining: 5.86s\n",
      "397:\tlearn: 0.8342241\ttotal: 3.87s\tremaining: 5.85s\n",
      "398:\tlearn: 0.8338811\ttotal: 3.88s\tremaining: 5.84s\n",
      "399:\tlearn: 0.8334396\ttotal: 3.89s\tremaining: 5.83s\n",
      "400:\tlearn: 0.8331545\ttotal: 3.9s\tremaining: 5.82s\n",
      "401:\tlearn: 0.8329156\ttotal: 3.9s\tremaining: 5.81s\n",
      "402:\tlearn: 0.8326580\ttotal: 3.91s\tremaining: 5.8s\n",
      "403:\tlearn: 0.8323440\ttotal: 3.92s\tremaining: 5.78s\n",
      "404:\tlearn: 0.8320335\ttotal: 3.93s\tremaining: 5.77s\n",
      "405:\tlearn: 0.8316434\ttotal: 3.94s\tremaining: 5.76s\n",
      "406:\tlearn: 0.8310735\ttotal: 3.95s\tremaining: 5.75s\n",
      "407:\tlearn: 0.8306595\ttotal: 3.96s\tremaining: 5.74s\n",
      "408:\tlearn: 0.8302071\ttotal: 3.97s\tremaining: 5.73s\n",
      "409:\tlearn: 0.8298363\ttotal: 3.98s\tremaining: 5.72s\n",
      "410:\tlearn: 0.8295570\ttotal: 3.98s\tremaining: 5.71s\n",
      "411:\tlearn: 0.8291008\ttotal: 3.99s\tremaining: 5.7s\n",
      "412:\tlearn: 0.8286939\ttotal: 4s\tremaining: 5.69s\n",
      "413:\tlearn: 0.8283506\ttotal: 4.01s\tremaining: 5.68s\n",
      "414:\tlearn: 0.8279973\ttotal: 4.02s\tremaining: 5.67s\n",
      "415:\tlearn: 0.8276419\ttotal: 4.03s\tremaining: 5.66s\n",
      "416:\tlearn: 0.8272292\ttotal: 4.04s\tremaining: 5.65s\n",
      "417:\tlearn: 0.8269842\ttotal: 4.05s\tremaining: 5.64s\n",
      "418:\tlearn: 0.8267011\ttotal: 4.06s\tremaining: 5.62s\n",
      "419:\tlearn: 0.8265592\ttotal: 4.07s\tremaining: 5.61s\n",
      "420:\tlearn: 0.8263072\ttotal: 4.07s\tremaining: 5.6s\n",
      "421:\tlearn: 0.8261856\ttotal: 4.08s\tremaining: 5.59s\n",
      "422:\tlearn: 0.8258323\ttotal: 4.09s\tremaining: 5.58s\n",
      "423:\tlearn: 0.8256772\ttotal: 4.1s\tremaining: 5.57s\n",
      "424:\tlearn: 0.8253129\ttotal: 4.11s\tremaining: 5.56s\n",
      "425:\tlearn: 0.8249473\ttotal: 4.12s\tremaining: 5.55s\n",
      "426:\tlearn: 0.8244712\ttotal: 4.13s\tremaining: 5.54s\n",
      "427:\tlearn: 0.8242598\ttotal: 4.13s\tremaining: 5.53s\n",
      "428:\tlearn: 0.8240310\ttotal: 4.14s\tremaining: 5.51s\n",
      "429:\tlearn: 0.8236795\ttotal: 4.15s\tremaining: 5.5s\n",
      "430:\tlearn: 0.8233462\ttotal: 4.16s\tremaining: 5.49s\n",
      "431:\tlearn: 0.8228925\ttotal: 4.17s\tremaining: 5.48s\n",
      "432:\tlearn: 0.8224984\ttotal: 4.18s\tremaining: 5.47s\n",
      "433:\tlearn: 0.8221068\ttotal: 4.19s\tremaining: 5.46s\n",
      "434:\tlearn: 0.8218244\ttotal: 4.2s\tremaining: 5.45s\n",
      "435:\tlearn: 0.8216294\ttotal: 4.21s\tremaining: 5.44s\n",
      "436:\tlearn: 0.8209463\ttotal: 4.21s\tremaining: 5.43s\n",
      "437:\tlearn: 0.8206251\ttotal: 4.22s\tremaining: 5.42s\n",
      "438:\tlearn: 0.8203674\ttotal: 4.23s\tremaining: 5.41s\n",
      "439:\tlearn: 0.8197947\ttotal: 4.24s\tremaining: 5.4s\n",
      "440:\tlearn: 0.8195748\ttotal: 4.25s\tremaining: 5.39s\n",
      "441:\tlearn: 0.8192981\ttotal: 4.26s\tremaining: 5.38s\n",
      "442:\tlearn: 0.8189297\ttotal: 4.27s\tremaining: 5.37s\n",
      "443:\tlearn: 0.8187217\ttotal: 4.28s\tremaining: 5.36s\n",
      "444:\tlearn: 0.8183803\ttotal: 4.29s\tremaining: 5.34s\n",
      "445:\tlearn: 0.8181309\ttotal: 4.29s\tremaining: 5.33s\n",
      "446:\tlearn: 0.8177359\ttotal: 4.3s\tremaining: 5.32s\n",
      "447:\tlearn: 0.8174370\ttotal: 4.31s\tremaining: 5.31s\n",
      "448:\tlearn: 0.8170833\ttotal: 4.32s\tremaining: 5.3s\n",
      "449:\tlearn: 0.8168807\ttotal: 4.33s\tremaining: 5.29s\n",
      "450:\tlearn: 0.8166513\ttotal: 4.34s\tremaining: 5.28s\n",
      "451:\tlearn: 0.8163019\ttotal: 4.34s\tremaining: 5.27s\n",
      "452:\tlearn: 0.8160629\ttotal: 4.35s\tremaining: 5.26s\n",
      "453:\tlearn: 0.8158807\ttotal: 4.36s\tremaining: 5.25s\n",
      "454:\tlearn: 0.8155323\ttotal: 4.37s\tremaining: 5.24s\n",
      "455:\tlearn: 0.8153372\ttotal: 4.38s\tremaining: 5.23s\n",
      "456:\tlearn: 0.8151928\ttotal: 4.39s\tremaining: 5.22s\n",
      "457:\tlearn: 0.8149144\ttotal: 4.4s\tremaining: 5.21s\n",
      "458:\tlearn: 0.8146226\ttotal: 4.41s\tremaining: 5.2s\n",
      "459:\tlearn: 0.8144636\ttotal: 4.42s\tremaining: 5.18s\n",
      "460:\tlearn: 0.8141650\ttotal: 4.42s\tremaining: 5.17s\n",
      "461:\tlearn: 0.8138240\ttotal: 4.43s\tremaining: 5.16s\n",
      "462:\tlearn: 0.8135977\ttotal: 4.44s\tremaining: 5.15s\n",
      "463:\tlearn: 0.8132441\ttotal: 4.45s\tremaining: 5.14s\n",
      "464:\tlearn: 0.8127422\ttotal: 4.46s\tremaining: 5.13s\n",
      "465:\tlearn: 0.8124686\ttotal: 4.47s\tremaining: 5.12s\n",
      "466:\tlearn: 0.8119985\ttotal: 4.48s\tremaining: 5.11s\n",
      "467:\tlearn: 0.8117044\ttotal: 4.49s\tremaining: 5.1s\n",
      "468:\tlearn: 0.8114717\ttotal: 4.5s\tremaining: 5.09s\n",
      "469:\tlearn: 0.8111620\ttotal: 4.5s\tremaining: 5.08s\n",
      "470:\tlearn: 0.8107799\ttotal: 4.51s\tremaining: 5.07s\n",
      "471:\tlearn: 0.8103186\ttotal: 4.52s\tremaining: 5.06s\n",
      "472:\tlearn: 0.8100049\ttotal: 4.53s\tremaining: 5.05s\n",
      "473:\tlearn: 0.8097265\ttotal: 4.54s\tremaining: 5.04s\n",
      "474:\tlearn: 0.8094609\ttotal: 4.55s\tremaining: 5.03s\n",
      "475:\tlearn: 0.8087105\ttotal: 4.56s\tremaining: 5.02s\n",
      "476:\tlearn: 0.8082295\ttotal: 4.57s\tremaining: 5.01s\n",
      "477:\tlearn: 0.8078829\ttotal: 4.58s\tremaining: 5s\n",
      "478:\tlearn: 0.8074942\ttotal: 4.58s\tremaining: 4.99s\n",
      "479:\tlearn: 0.8070784\ttotal: 4.59s\tremaining: 4.98s\n",
      "480:\tlearn: 0.8066636\ttotal: 4.6s\tremaining: 4.97s\n",
      "481:\tlearn: 0.8063574\ttotal: 4.61s\tremaining: 4.96s\n",
      "482:\tlearn: 0.8061883\ttotal: 4.62s\tremaining: 4.94s\n",
      "483:\tlearn: 0.8058744\ttotal: 4.63s\tremaining: 4.93s\n",
      "484:\tlearn: 0.8056443\ttotal: 4.64s\tremaining: 4.92s\n",
      "485:\tlearn: 0.8053609\ttotal: 4.64s\tremaining: 4.91s\n",
      "486:\tlearn: 0.8051328\ttotal: 4.65s\tremaining: 4.9s\n",
      "487:\tlearn: 0.8049448\ttotal: 4.66s\tremaining: 4.89s\n",
      "488:\tlearn: 0.8045150\ttotal: 4.67s\tremaining: 4.88s\n",
      "489:\tlearn: 0.8040150\ttotal: 4.68s\tremaining: 4.88s\n",
      "490:\tlearn: 0.8037808\ttotal: 4.69s\tremaining: 4.87s\n",
      "491:\tlearn: 0.8035908\ttotal: 4.7s\tremaining: 4.86s\n",
      "492:\tlearn: 0.8032697\ttotal: 4.72s\tremaining: 4.85s\n",
      "493:\tlearn: 0.8029801\ttotal: 4.73s\tremaining: 4.84s\n",
      "494:\tlearn: 0.8027358\ttotal: 4.74s\tremaining: 4.83s\n",
      "495:\tlearn: 0.8022936\ttotal: 4.75s\tremaining: 4.83s\n",
      "496:\tlearn: 0.8019421\ttotal: 4.76s\tremaining: 4.82s\n",
      "497:\tlearn: 0.8018423\ttotal: 4.77s\tremaining: 4.81s\n",
      "498:\tlearn: 0.8014538\ttotal: 4.78s\tremaining: 4.8s\n",
      "499:\tlearn: 0.8012881\ttotal: 4.79s\tremaining: 4.79s\n",
      "500:\tlearn: 0.8010005\ttotal: 4.8s\tremaining: 4.78s\n",
      "501:\tlearn: 0.8007585\ttotal: 4.81s\tremaining: 4.77s\n",
      "502:\tlearn: 0.8004581\ttotal: 4.82s\tremaining: 4.76s\n",
      "503:\tlearn: 0.8001847\ttotal: 4.83s\tremaining: 4.75s\n",
      "504:\tlearn: 0.8000643\ttotal: 4.83s\tremaining: 4.74s\n",
      "505:\tlearn: 0.7998881\ttotal: 4.84s\tremaining: 4.73s\n",
      "506:\tlearn: 0.7994867\ttotal: 4.85s\tremaining: 4.72s\n",
      "507:\tlearn: 0.7991672\ttotal: 4.86s\tremaining: 4.71s\n",
      "508:\tlearn: 0.7988056\ttotal: 4.87s\tremaining: 4.7s\n",
      "509:\tlearn: 0.7986299\ttotal: 4.88s\tremaining: 4.69s\n",
      "510:\tlearn: 0.7983019\ttotal: 4.89s\tremaining: 4.68s\n",
      "511:\tlearn: 0.7979453\ttotal: 4.9s\tremaining: 4.67s\n"
     ]
    },
    {
     "name": "stdout",
     "output_type": "stream",
     "text": [
      "512:\tlearn: 0.7976565\ttotal: 4.91s\tremaining: 4.66s\n",
      "513:\tlearn: 0.7971992\ttotal: 4.92s\tremaining: 4.65s\n",
      "514:\tlearn: 0.7967782\ttotal: 4.93s\tremaining: 4.64s\n",
      "515:\tlearn: 0.7965117\ttotal: 4.94s\tremaining: 4.63s\n",
      "516:\tlearn: 0.7960941\ttotal: 4.95s\tremaining: 4.62s\n",
      "517:\tlearn: 0.7956774\ttotal: 4.96s\tremaining: 4.61s\n",
      "518:\tlearn: 0.7954185\ttotal: 4.97s\tremaining: 4.6s\n",
      "519:\tlearn: 0.7950839\ttotal: 4.98s\tremaining: 4.59s\n",
      "520:\tlearn: 0.7947898\ttotal: 4.99s\tremaining: 4.59s\n",
      "521:\tlearn: 0.7945808\ttotal: 5s\tremaining: 4.58s\n",
      "522:\tlearn: 0.7943068\ttotal: 5.02s\tremaining: 4.58s\n",
      "523:\tlearn: 0.7939871\ttotal: 5.03s\tremaining: 4.57s\n",
      "524:\tlearn: 0.7936172\ttotal: 5.04s\tremaining: 4.56s\n",
      "525:\tlearn: 0.7933060\ttotal: 5.06s\tremaining: 4.56s\n",
      "526:\tlearn: 0.7931134\ttotal: 5.08s\tremaining: 4.56s\n",
      "527:\tlearn: 0.7927896\ttotal: 5.1s\tremaining: 4.56s\n",
      "528:\tlearn: 0.7924456\ttotal: 5.12s\tremaining: 4.56s\n",
      "529:\tlearn: 0.7922473\ttotal: 5.14s\tremaining: 4.56s\n",
      "530:\tlearn: 0.7920486\ttotal: 5.17s\tremaining: 4.56s\n",
      "531:\tlearn: 0.7917328\ttotal: 5.2s\tremaining: 4.57s\n",
      "532:\tlearn: 0.7914572\ttotal: 5.22s\tremaining: 4.57s\n",
      "533:\tlearn: 0.7912524\ttotal: 5.24s\tremaining: 4.58s\n",
      "534:\tlearn: 0.7911235\ttotal: 5.25s\tremaining: 4.57s\n",
      "535:\tlearn: 0.7905284\ttotal: 5.27s\tremaining: 4.56s\n",
      "536:\tlearn: 0.7903693\ttotal: 5.28s\tremaining: 4.55s\n",
      "537:\tlearn: 0.7900604\ttotal: 5.3s\tremaining: 4.55s\n",
      "538:\tlearn: 0.7897107\ttotal: 5.32s\tremaining: 4.55s\n",
      "539:\tlearn: 0.7895212\ttotal: 5.34s\tremaining: 4.55s\n",
      "540:\tlearn: 0.7891824\ttotal: 5.35s\tremaining: 4.54s\n",
      "541:\tlearn: 0.7889288\ttotal: 5.38s\tremaining: 4.54s\n",
      "542:\tlearn: 0.7885845\ttotal: 5.4s\tremaining: 4.54s\n",
      "543:\tlearn: 0.7883117\ttotal: 5.41s\tremaining: 4.53s\n",
      "544:\tlearn: 0.7880594\ttotal: 5.42s\tremaining: 4.52s\n",
      "545:\tlearn: 0.7877073\ttotal: 5.43s\tremaining: 4.51s\n",
      "546:\tlearn: 0.7873637\ttotal: 5.44s\tremaining: 4.5s\n",
      "547:\tlearn: 0.7869460\ttotal: 5.45s\tremaining: 4.49s\n",
      "548:\tlearn: 0.7866361\ttotal: 5.46s\tremaining: 4.49s\n",
      "549:\tlearn: 0.7862927\ttotal: 5.48s\tremaining: 4.48s\n",
      "550:\tlearn: 0.7859417\ttotal: 5.5s\tremaining: 4.49s\n",
      "551:\tlearn: 0.7856366\ttotal: 5.51s\tremaining: 4.47s\n",
      "552:\tlearn: 0.7854259\ttotal: 5.53s\tremaining: 4.47s\n",
      "553:\tlearn: 0.7850974\ttotal: 5.55s\tremaining: 4.47s\n",
      "554:\tlearn: 0.7848337\ttotal: 5.57s\tremaining: 4.47s\n",
      "555:\tlearn: 0.7843385\ttotal: 5.58s\tremaining: 4.46s\n",
      "556:\tlearn: 0.7840414\ttotal: 5.59s\tremaining: 4.45s\n",
      "557:\tlearn: 0.7837170\ttotal: 5.61s\tremaining: 4.45s\n",
      "558:\tlearn: 0.7834215\ttotal: 5.64s\tremaining: 4.45s\n",
      "559:\tlearn: 0.7831946\ttotal: 5.66s\tremaining: 4.45s\n",
      "560:\tlearn: 0.7827770\ttotal: 5.67s\tremaining: 4.44s\n",
      "561:\tlearn: 0.7824364\ttotal: 5.7s\tremaining: 4.44s\n",
      "562:\tlearn: 0.7821334\ttotal: 5.71s\tremaining: 4.43s\n",
      "563:\tlearn: 0.7815532\ttotal: 5.72s\tremaining: 4.42s\n",
      "564:\tlearn: 0.7814441\ttotal: 5.73s\tremaining: 4.41s\n",
      "565:\tlearn: 0.7812071\ttotal: 5.75s\tremaining: 4.41s\n",
      "566:\tlearn: 0.7809509\ttotal: 5.78s\tremaining: 4.41s\n",
      "567:\tlearn: 0.7806170\ttotal: 5.79s\tremaining: 4.4s\n",
      "568:\tlearn: 0.7804121\ttotal: 5.8s\tremaining: 4.39s\n",
      "569:\tlearn: 0.7801807\ttotal: 5.81s\tremaining: 4.38s\n",
      "570:\tlearn: 0.7798444\ttotal: 5.82s\tremaining: 4.37s\n",
      "571:\tlearn: 0.7795312\ttotal: 5.83s\tremaining: 4.36s\n",
      "572:\tlearn: 0.7790704\ttotal: 5.84s\tremaining: 4.35s\n",
      "573:\tlearn: 0.7786127\ttotal: 5.85s\tremaining: 4.34s\n",
      "574:\tlearn: 0.7781573\ttotal: 5.86s\tremaining: 4.33s\n",
      "575:\tlearn: 0.7779762\ttotal: 5.87s\tremaining: 4.32s\n",
      "576:\tlearn: 0.7777022\ttotal: 5.88s\tremaining: 4.31s\n",
      "577:\tlearn: 0.7772612\ttotal: 5.89s\tremaining: 4.3s\n",
      "578:\tlearn: 0.7769749\ttotal: 5.9s\tremaining: 4.29s\n",
      "579:\tlearn: 0.7767126\ttotal: 5.91s\tremaining: 4.28s\n",
      "580:\tlearn: 0.7764395\ttotal: 5.92s\tremaining: 4.27s\n",
      "581:\tlearn: 0.7760325\ttotal: 5.93s\tremaining: 4.26s\n",
      "582:\tlearn: 0.7759214\ttotal: 5.94s\tremaining: 4.25s\n",
      "583:\tlearn: 0.7757380\ttotal: 5.95s\tremaining: 4.24s\n",
      "584:\tlearn: 0.7755940\ttotal: 5.96s\tremaining: 4.23s\n",
      "585:\tlearn: 0.7754295\ttotal: 5.97s\tremaining: 4.22s\n",
      "586:\tlearn: 0.7749911\ttotal: 5.98s\tremaining: 4.21s\n",
      "587:\tlearn: 0.7746859\ttotal: 5.99s\tremaining: 4.2s\n",
      "588:\tlearn: 0.7743889\ttotal: 6s\tremaining: 4.19s\n",
      "589:\tlearn: 0.7740562\ttotal: 6.01s\tremaining: 4.18s\n",
      "590:\tlearn: 0.7737241\ttotal: 6.02s\tremaining: 4.17s\n",
      "591:\tlearn: 0.7733648\ttotal: 6.03s\tremaining: 4.15s\n",
      "592:\tlearn: 0.7731936\ttotal: 6.04s\tremaining: 4.14s\n",
      "593:\tlearn: 0.7729244\ttotal: 6.04s\tremaining: 4.13s\n",
      "594:\tlearn: 0.7726114\ttotal: 6.05s\tremaining: 4.12s\n",
      "595:\tlearn: 0.7722649\ttotal: 6.06s\tremaining: 4.11s\n",
      "596:\tlearn: 0.7720635\ttotal: 6.07s\tremaining: 4.1s\n",
      "597:\tlearn: 0.7719148\ttotal: 6.08s\tremaining: 4.09s\n",
      "598:\tlearn: 0.7717366\ttotal: 6.09s\tremaining: 4.08s\n",
      "599:\tlearn: 0.7713349\ttotal: 6.1s\tremaining: 4.07s\n",
      "600:\tlearn: 0.7711132\ttotal: 6.11s\tremaining: 4.06s\n",
      "601:\tlearn: 0.7706888\ttotal: 6.12s\tremaining: 4.05s\n",
      "602:\tlearn: 0.7704769\ttotal: 6.13s\tremaining: 4.04s\n",
      "603:\tlearn: 0.7701763\ttotal: 6.14s\tremaining: 4.02s\n",
      "604:\tlearn: 0.7699244\ttotal: 6.15s\tremaining: 4.01s\n",
      "605:\tlearn: 0.7697431\ttotal: 6.16s\tremaining: 4s\n",
      "606:\tlearn: 0.7695159\ttotal: 6.17s\tremaining: 3.99s\n",
      "607:\tlearn: 0.7693141\ttotal: 6.18s\tremaining: 3.98s\n",
      "608:\tlearn: 0.7688946\ttotal: 6.18s\tremaining: 3.97s\n",
      "609:\tlearn: 0.7686535\ttotal: 6.19s\tremaining: 3.96s\n",
      "610:\tlearn: 0.7683233\ttotal: 6.2s\tremaining: 3.95s\n",
      "611:\tlearn: 0.7681289\ttotal: 6.21s\tremaining: 3.94s\n",
      "612:\tlearn: 0.7679230\ttotal: 6.22s\tremaining: 3.93s\n",
      "613:\tlearn: 0.7676626\ttotal: 6.23s\tremaining: 3.92s\n",
      "614:\tlearn: 0.7673787\ttotal: 6.24s\tremaining: 3.91s\n",
      "615:\tlearn: 0.7670431\ttotal: 6.25s\tremaining: 3.9s\n",
      "616:\tlearn: 0.7668141\ttotal: 6.26s\tremaining: 3.89s\n",
      "617:\tlearn: 0.7666144\ttotal: 6.27s\tremaining: 3.88s\n",
      "618:\tlearn: 0.7662725\ttotal: 6.28s\tremaining: 3.86s\n",
      "619:\tlearn: 0.7657957\ttotal: 6.29s\tremaining: 3.85s\n",
      "620:\tlearn: 0.7655422\ttotal: 6.3s\tremaining: 3.84s\n",
      "621:\tlearn: 0.7653081\ttotal: 6.3s\tremaining: 3.83s\n",
      "622:\tlearn: 0.7651087\ttotal: 6.32s\tremaining: 3.82s\n",
      "623:\tlearn: 0.7648660\ttotal: 6.32s\tremaining: 3.81s\n",
      "624:\tlearn: 0.7646924\ttotal: 6.33s\tremaining: 3.8s\n",
      "625:\tlearn: 0.7643894\ttotal: 6.34s\tremaining: 3.79s\n",
      "626:\tlearn: 0.7640031\ttotal: 6.35s\tremaining: 3.78s\n",
      "627:\tlearn: 0.7636912\ttotal: 6.36s\tremaining: 3.77s\n",
      "628:\tlearn: 0.7634058\ttotal: 6.37s\tremaining: 3.76s\n",
      "629:\tlearn: 0.7631514\ttotal: 6.38s\tremaining: 3.75s\n",
      "630:\tlearn: 0.7628012\ttotal: 6.39s\tremaining: 3.74s\n",
      "631:\tlearn: 0.7624523\ttotal: 6.4s\tremaining: 3.73s\n",
      "632:\tlearn: 0.7623290\ttotal: 6.41s\tremaining: 3.71s\n",
      "633:\tlearn: 0.7621169\ttotal: 6.42s\tremaining: 3.7s\n",
      "634:\tlearn: 0.7618102\ttotal: 6.43s\tremaining: 3.69s\n",
      "635:\tlearn: 0.7616198\ttotal: 6.44s\tremaining: 3.68s\n",
      "636:\tlearn: 0.7613138\ttotal: 6.45s\tremaining: 3.67s\n",
      "637:\tlearn: 0.7610032\ttotal: 6.46s\tremaining: 3.66s\n",
      "638:\tlearn: 0.7608471\ttotal: 6.46s\tremaining: 3.65s\n",
      "639:\tlearn: 0.7605178\ttotal: 6.47s\tremaining: 3.64s\n",
      "640:\tlearn: 0.7604027\ttotal: 6.48s\tremaining: 3.63s\n",
      "641:\tlearn: 0.7601008\ttotal: 6.49s\tremaining: 3.62s\n",
      "642:\tlearn: 0.7598672\ttotal: 6.51s\tremaining: 3.61s\n",
      "643:\tlearn: 0.7596539\ttotal: 6.52s\tremaining: 3.6s\n",
      "644:\tlearn: 0.7593906\ttotal: 6.53s\tremaining: 3.59s\n",
      "645:\tlearn: 0.7591061\ttotal: 6.54s\tremaining: 3.58s\n",
      "646:\tlearn: 0.7590071\ttotal: 6.55s\tremaining: 3.57s\n",
      "647:\tlearn: 0.7588542\ttotal: 6.56s\tremaining: 3.56s\n",
      "648:\tlearn: 0.7586177\ttotal: 6.57s\tremaining: 3.55s\n",
      "649:\tlearn: 0.7583558\ttotal: 6.58s\tremaining: 3.54s\n",
      "650:\tlearn: 0.7582488\ttotal: 6.59s\tremaining: 3.53s\n",
      "651:\tlearn: 0.7579811\ttotal: 6.6s\tremaining: 3.52s\n",
      "652:\tlearn: 0.7577263\ttotal: 6.61s\tremaining: 3.51s\n",
      "653:\tlearn: 0.7574200\ttotal: 6.62s\tremaining: 3.5s\n",
      "654:\tlearn: 0.7571599\ttotal: 6.63s\tremaining: 3.49s\n",
      "655:\tlearn: 0.7568218\ttotal: 6.64s\tremaining: 3.48s\n",
      "656:\tlearn: 0.7565602\ttotal: 6.65s\tremaining: 3.47s\n",
      "657:\tlearn: 0.7561695\ttotal: 6.66s\tremaining: 3.46s\n",
      "658:\tlearn: 0.7559723\ttotal: 6.67s\tremaining: 3.45s\n",
      "659:\tlearn: 0.7556264\ttotal: 6.68s\tremaining: 3.44s\n",
      "660:\tlearn: 0.7554352\ttotal: 6.69s\tremaining: 3.43s\n",
      "661:\tlearn: 0.7551346\ttotal: 6.7s\tremaining: 3.42s\n",
      "662:\tlearn: 0.7548933\ttotal: 6.71s\tremaining: 3.41s\n",
      "663:\tlearn: 0.7545814\ttotal: 6.72s\tremaining: 3.4s\n",
      "664:\tlearn: 0.7543197\ttotal: 6.73s\tremaining: 3.39s\n",
      "665:\tlearn: 0.7540381\ttotal: 6.74s\tremaining: 3.38s\n",
      "666:\tlearn: 0.7538575\ttotal: 6.75s\tremaining: 3.37s\n",
      "667:\tlearn: 0.7536506\ttotal: 6.76s\tremaining: 3.36s\n",
      "668:\tlearn: 0.7535460\ttotal: 6.77s\tremaining: 3.35s\n",
      "669:\tlearn: 0.7532335\ttotal: 6.78s\tremaining: 3.34s\n",
      "670:\tlearn: 0.7529770\ttotal: 6.79s\tremaining: 3.33s\n",
      "671:\tlearn: 0.7526646\ttotal: 6.8s\tremaining: 3.32s\n",
      "672:\tlearn: 0.7524211\ttotal: 6.81s\tremaining: 3.31s\n",
      "673:\tlearn: 0.7521004\ttotal: 6.82s\tremaining: 3.3s\n",
      "674:\tlearn: 0.7518037\ttotal: 6.83s\tremaining: 3.29s\n",
      "675:\tlearn: 0.7515922\ttotal: 6.84s\tremaining: 3.28s\n",
      "676:\tlearn: 0.7514033\ttotal: 6.86s\tremaining: 3.27s\n"
     ]
    },
    {
     "name": "stdout",
     "output_type": "stream",
     "text": [
      "677:\tlearn: 0.7511466\ttotal: 6.87s\tremaining: 3.26s\n",
      "678:\tlearn: 0.7509244\ttotal: 6.88s\tremaining: 3.25s\n",
      "679:\tlearn: 0.7508145\ttotal: 6.89s\tremaining: 3.24s\n",
      "680:\tlearn: 0.7506936\ttotal: 6.9s\tremaining: 3.23s\n",
      "681:\tlearn: 0.7505723\ttotal: 6.91s\tremaining: 3.22s\n",
      "682:\tlearn: 0.7503232\ttotal: 6.92s\tremaining: 3.21s\n",
      "683:\tlearn: 0.7502141\ttotal: 6.92s\tremaining: 3.2s\n",
      "684:\tlearn: 0.7499207\ttotal: 6.93s\tremaining: 3.19s\n",
      "685:\tlearn: 0.7497056\ttotal: 6.94s\tremaining: 3.18s\n",
      "686:\tlearn: 0.7495514\ttotal: 6.95s\tremaining: 3.17s\n",
      "687:\tlearn: 0.7493612\ttotal: 6.96s\tremaining: 3.16s\n",
      "688:\tlearn: 0.7491639\ttotal: 6.97s\tremaining: 3.15s\n",
      "689:\tlearn: 0.7488681\ttotal: 6.98s\tremaining: 3.14s\n",
      "690:\tlearn: 0.7487505\ttotal: 6.99s\tremaining: 3.13s\n",
      "691:\tlearn: 0.7484384\ttotal: 7s\tremaining: 3.12s\n",
      "692:\tlearn: 0.7482033\ttotal: 7.01s\tremaining: 3.1s\n",
      "693:\tlearn: 0.7479022\ttotal: 7.02s\tremaining: 3.1s\n",
      "694:\tlearn: 0.7475604\ttotal: 7.03s\tremaining: 3.08s\n",
      "695:\tlearn: 0.7474438\ttotal: 7.04s\tremaining: 3.07s\n",
      "696:\tlearn: 0.7472504\ttotal: 7.05s\tremaining: 3.06s\n",
      "697:\tlearn: 0.7470408\ttotal: 7.06s\tremaining: 3.06s\n",
      "698:\tlearn: 0.7468611\ttotal: 7.07s\tremaining: 3.04s\n",
      "699:\tlearn: 0.7465147\ttotal: 7.08s\tremaining: 3.03s\n",
      "700:\tlearn: 0.7461261\ttotal: 7.09s\tremaining: 3.02s\n",
      "701:\tlearn: 0.7459875\ttotal: 7.1s\tremaining: 3.01s\n",
      "702:\tlearn: 0.7457801\ttotal: 7.11s\tremaining: 3s\n",
      "703:\tlearn: 0.7454807\ttotal: 7.12s\tremaining: 2.99s\n",
      "704:\tlearn: 0.7453080\ttotal: 7.13s\tremaining: 2.98s\n",
      "705:\tlearn: 0.7451854\ttotal: 7.13s\tremaining: 2.97s\n",
      "706:\tlearn: 0.7447842\ttotal: 7.14s\tremaining: 2.96s\n",
      "707:\tlearn: 0.7446505\ttotal: 7.15s\tremaining: 2.95s\n",
      "708:\tlearn: 0.7444878\ttotal: 7.16s\tremaining: 2.94s\n",
      "709:\tlearn: 0.7441949\ttotal: 7.17s\tremaining: 2.93s\n",
      "710:\tlearn: 0.7439664\ttotal: 7.18s\tremaining: 2.92s\n",
      "711:\tlearn: 0.7437184\ttotal: 7.19s\tremaining: 2.91s\n",
      "712:\tlearn: 0.7433104\ttotal: 7.2s\tremaining: 2.9s\n",
      "713:\tlearn: 0.7430654\ttotal: 7.21s\tremaining: 2.89s\n",
      "714:\tlearn: 0.7429646\ttotal: 7.22s\tremaining: 2.88s\n",
      "715:\tlearn: 0.7428613\ttotal: 7.22s\tremaining: 2.87s\n",
      "716:\tlearn: 0.7426757\ttotal: 7.23s\tremaining: 2.85s\n",
      "717:\tlearn: 0.7424436\ttotal: 7.24s\tremaining: 2.84s\n",
      "718:\tlearn: 0.7421652\ttotal: 7.25s\tremaining: 2.83s\n",
      "719:\tlearn: 0.7419531\ttotal: 7.26s\tremaining: 2.82s\n",
      "720:\tlearn: 0.7418420\ttotal: 7.27s\tremaining: 2.81s\n",
      "721:\tlearn: 0.7416696\ttotal: 7.28s\tremaining: 2.8s\n",
      "722:\tlearn: 0.7414244\ttotal: 7.29s\tremaining: 2.79s\n",
      "723:\tlearn: 0.7411659\ttotal: 7.29s\tremaining: 2.78s\n",
      "724:\tlearn: 0.7409126\ttotal: 7.3s\tremaining: 2.77s\n",
      "725:\tlearn: 0.7407188\ttotal: 7.32s\tremaining: 2.76s\n",
      "726:\tlearn: 0.7405732\ttotal: 7.32s\tremaining: 2.75s\n",
      "727:\tlearn: 0.7403519\ttotal: 7.33s\tremaining: 2.74s\n",
      "728:\tlearn: 0.7401822\ttotal: 7.34s\tremaining: 2.73s\n",
      "729:\tlearn: 0.7400059\ttotal: 7.35s\tremaining: 2.72s\n",
      "730:\tlearn: 0.7398132\ttotal: 7.36s\tremaining: 2.71s\n",
      "731:\tlearn: 0.7394055\ttotal: 7.37s\tremaining: 2.7s\n",
      "732:\tlearn: 0.7392004\ttotal: 7.38s\tremaining: 2.69s\n",
      "733:\tlearn: 0.7388599\ttotal: 7.39s\tremaining: 2.68s\n",
      "734:\tlearn: 0.7387596\ttotal: 7.4s\tremaining: 2.67s\n",
      "735:\tlearn: 0.7385195\ttotal: 7.41s\tremaining: 2.66s\n",
      "736:\tlearn: 0.7383439\ttotal: 7.41s\tremaining: 2.65s\n",
      "737:\tlearn: 0.7380242\ttotal: 7.42s\tremaining: 2.63s\n",
      "738:\tlearn: 0.7376903\ttotal: 7.43s\tremaining: 2.62s\n",
      "739:\tlearn: 0.7375124\ttotal: 7.45s\tremaining: 2.62s\n",
      "740:\tlearn: 0.7372854\ttotal: 7.46s\tremaining: 2.61s\n",
      "741:\tlearn: 0.7371277\ttotal: 7.47s\tremaining: 2.6s\n",
      "742:\tlearn: 0.7368471\ttotal: 7.48s\tremaining: 2.59s\n",
      "743:\tlearn: 0.7365628\ttotal: 7.49s\tremaining: 2.58s\n",
      "744:\tlearn: 0.7363985\ttotal: 7.5s\tremaining: 2.57s\n",
      "745:\tlearn: 0.7361635\ttotal: 7.51s\tremaining: 2.56s\n",
      "746:\tlearn: 0.7359835\ttotal: 7.51s\tremaining: 2.54s\n",
      "747:\tlearn: 0.7358256\ttotal: 7.54s\tremaining: 2.54s\n",
      "748:\tlearn: 0.7355085\ttotal: 7.54s\tremaining: 2.53s\n",
      "749:\tlearn: 0.7352951\ttotal: 7.55s\tremaining: 2.52s\n",
      "750:\tlearn: 0.7349445\ttotal: 7.56s\tremaining: 2.51s\n",
      "751:\tlearn: 0.7347362\ttotal: 7.57s\tremaining: 2.5s\n",
      "752:\tlearn: 0.7345923\ttotal: 7.58s\tremaining: 2.49s\n",
      "753:\tlearn: 0.7344779\ttotal: 7.59s\tremaining: 2.48s\n",
      "754:\tlearn: 0.7341072\ttotal: 7.61s\tremaining: 2.47s\n",
      "755:\tlearn: 0.7338982\ttotal: 7.63s\tremaining: 2.46s\n",
      "756:\tlearn: 0.7336207\ttotal: 7.64s\tremaining: 2.45s\n",
      "757:\tlearn: 0.7332685\ttotal: 7.65s\tremaining: 2.44s\n",
      "758:\tlearn: 0.7330702\ttotal: 7.66s\tremaining: 2.43s\n",
      "759:\tlearn: 0.7328503\ttotal: 7.67s\tremaining: 2.42s\n",
      "760:\tlearn: 0.7324703\ttotal: 7.68s\tremaining: 2.41s\n",
      "761:\tlearn: 0.7322574\ttotal: 7.69s\tremaining: 2.4s\n",
      "762:\tlearn: 0.7319907\ttotal: 7.7s\tremaining: 2.39s\n",
      "763:\tlearn: 0.7318010\ttotal: 7.71s\tremaining: 2.38s\n",
      "764:\tlearn: 0.7314826\ttotal: 7.72s\tremaining: 2.37s\n",
      "765:\tlearn: 0.7312659\ttotal: 7.73s\tremaining: 2.36s\n",
      "766:\tlearn: 0.7311002\ttotal: 7.75s\tremaining: 2.35s\n",
      "767:\tlearn: 0.7308001\ttotal: 7.76s\tremaining: 2.34s\n",
      "768:\tlearn: 0.7304810\ttotal: 7.77s\tremaining: 2.33s\n",
      "769:\tlearn: 0.7303216\ttotal: 7.78s\tremaining: 2.32s\n",
      "770:\tlearn: 0.7300295\ttotal: 7.78s\tremaining: 2.31s\n",
      "771:\tlearn: 0.7299192\ttotal: 7.79s\tremaining: 2.3s\n",
      "772:\tlearn: 0.7296742\ttotal: 7.8s\tremaining: 2.29s\n",
      "773:\tlearn: 0.7293263\ttotal: 7.81s\tremaining: 2.28s\n",
      "774:\tlearn: 0.7289872\ttotal: 7.82s\tremaining: 2.27s\n",
      "775:\tlearn: 0.7286962\ttotal: 7.83s\tremaining: 2.26s\n",
      "776:\tlearn: 0.7284419\ttotal: 7.84s\tremaining: 2.25s\n",
      "777:\tlearn: 0.7282441\ttotal: 7.85s\tremaining: 2.24s\n",
      "778:\tlearn: 0.7279032\ttotal: 7.86s\tremaining: 2.23s\n",
      "779:\tlearn: 0.7277176\ttotal: 7.87s\tremaining: 2.22s\n",
      "780:\tlearn: 0.7275723\ttotal: 7.88s\tremaining: 2.21s\n",
      "781:\tlearn: 0.7274847\ttotal: 7.89s\tremaining: 2.2s\n",
      "782:\tlearn: 0.7272045\ttotal: 7.9s\tremaining: 2.19s\n",
      "783:\tlearn: 0.7270221\ttotal: 7.91s\tremaining: 2.18s\n",
      "784:\tlearn: 0.7267956\ttotal: 7.92s\tremaining: 2.17s\n",
      "785:\tlearn: 0.7265661\ttotal: 7.93s\tremaining: 2.16s\n",
      "786:\tlearn: 0.7262917\ttotal: 7.93s\tremaining: 2.15s\n",
      "787:\tlearn: 0.7260982\ttotal: 7.95s\tremaining: 2.14s\n",
      "788:\tlearn: 0.7259340\ttotal: 7.96s\tremaining: 2.13s\n",
      "789:\tlearn: 0.7257108\ttotal: 7.96s\tremaining: 2.12s\n",
      "790:\tlearn: 0.7254562\ttotal: 7.97s\tremaining: 2.11s\n",
      "791:\tlearn: 0.7250465\ttotal: 7.98s\tremaining: 2.1s\n",
      "792:\tlearn: 0.7248815\ttotal: 7.99s\tremaining: 2.08s\n",
      "793:\tlearn: 0.7245376\ttotal: 8s\tremaining: 2.08s\n",
      "794:\tlearn: 0.7243256\ttotal: 8.01s\tremaining: 2.07s\n",
      "795:\tlearn: 0.7241986\ttotal: 8.02s\tremaining: 2.06s\n",
      "796:\tlearn: 0.7239736\ttotal: 8.03s\tremaining: 2.04s\n",
      "797:\tlearn: 0.7235864\ttotal: 8.04s\tremaining: 2.04s\n",
      "798:\tlearn: 0.7234713\ttotal: 8.05s\tremaining: 2.02s\n",
      "799:\tlearn: 0.7232071\ttotal: 8.06s\tremaining: 2.01s\n",
      "800:\tlearn: 0.7230540\ttotal: 8.07s\tremaining: 2s\n",
      "801:\tlearn: 0.7228940\ttotal: 8.07s\tremaining: 1.99s\n",
      "802:\tlearn: 0.7225420\ttotal: 8.08s\tremaining: 1.98s\n",
      "803:\tlearn: 0.7222710\ttotal: 8.09s\tremaining: 1.97s\n",
      "804:\tlearn: 0.7221231\ttotal: 8.1s\tremaining: 1.96s\n",
      "805:\tlearn: 0.7219854\ttotal: 8.11s\tremaining: 1.95s\n",
      "806:\tlearn: 0.7216564\ttotal: 8.12s\tremaining: 1.94s\n",
      "807:\tlearn: 0.7214306\ttotal: 8.13s\tremaining: 1.93s\n",
      "808:\tlearn: 0.7210919\ttotal: 8.14s\tremaining: 1.92s\n",
      "809:\tlearn: 0.7208836\ttotal: 8.15s\tremaining: 1.91s\n",
      "810:\tlearn: 0.7206332\ttotal: 8.15s\tremaining: 1.9s\n",
      "811:\tlearn: 0.7205131\ttotal: 8.16s\tremaining: 1.89s\n",
      "812:\tlearn: 0.7203965\ttotal: 8.17s\tremaining: 1.88s\n",
      "813:\tlearn: 0.7200973\ttotal: 8.18s\tremaining: 1.87s\n",
      "814:\tlearn: 0.7198784\ttotal: 8.19s\tremaining: 1.86s\n",
      "815:\tlearn: 0.7196784\ttotal: 8.2s\tremaining: 1.85s\n",
      "816:\tlearn: 0.7192206\ttotal: 8.2s\tremaining: 1.84s\n",
      "817:\tlearn: 0.7190497\ttotal: 8.21s\tremaining: 1.83s\n",
      "818:\tlearn: 0.7189244\ttotal: 8.22s\tremaining: 1.82s\n",
      "819:\tlearn: 0.7185339\ttotal: 8.23s\tremaining: 1.81s\n",
      "820:\tlearn: 0.7182557\ttotal: 8.24s\tremaining: 1.8s\n",
      "821:\tlearn: 0.7180768\ttotal: 8.25s\tremaining: 1.78s\n",
      "822:\tlearn: 0.7178598\ttotal: 8.26s\tremaining: 1.77s\n",
      "823:\tlearn: 0.7175653\ttotal: 8.26s\tremaining: 1.76s\n",
      "824:\tlearn: 0.7173589\ttotal: 8.27s\tremaining: 1.75s\n",
      "825:\tlearn: 0.7169788\ttotal: 8.28s\tremaining: 1.74s\n",
      "826:\tlearn: 0.7165299\ttotal: 8.29s\tremaining: 1.73s\n",
      "827:\tlearn: 0.7164156\ttotal: 8.3s\tremaining: 1.72s\n",
      "828:\tlearn: 0.7162064\ttotal: 8.31s\tremaining: 1.71s\n",
      "829:\tlearn: 0.7159158\ttotal: 8.32s\tremaining: 1.7s\n",
      "830:\tlearn: 0.7157123\ttotal: 8.32s\tremaining: 1.69s\n",
      "831:\tlearn: 0.7155921\ttotal: 8.33s\tremaining: 1.68s\n",
      "832:\tlearn: 0.7154074\ttotal: 8.34s\tremaining: 1.67s\n",
      "833:\tlearn: 0.7152178\ttotal: 8.35s\tremaining: 1.66s\n",
      "834:\tlearn: 0.7150141\ttotal: 8.36s\tremaining: 1.65s\n",
      "835:\tlearn: 0.7147821\ttotal: 8.37s\tremaining: 1.64s\n",
      "836:\tlearn: 0.7145790\ttotal: 8.37s\tremaining: 1.63s\n",
      "837:\tlearn: 0.7144632\ttotal: 8.38s\tremaining: 1.62s\n",
      "838:\tlearn: 0.7142293\ttotal: 8.39s\tremaining: 1.61s\n",
      "839:\tlearn: 0.7141010\ttotal: 8.4s\tremaining: 1.6s\n",
      "840:\tlearn: 0.7140071\ttotal: 8.41s\tremaining: 1.59s\n",
      "841:\tlearn: 0.7136607\ttotal: 8.42s\tremaining: 1.58s\n",
      "842:\tlearn: 0.7132754\ttotal: 8.43s\tremaining: 1.57s\n",
      "843:\tlearn: 0.7131750\ttotal: 8.44s\tremaining: 1.56s\n"
     ]
    },
    {
     "name": "stdout",
     "output_type": "stream",
     "text": [
      "844:\tlearn: 0.7129089\ttotal: 8.46s\tremaining: 1.55s\n",
      "845:\tlearn: 0.7126280\ttotal: 8.48s\tremaining: 1.54s\n",
      "846:\tlearn: 0.7124265\ttotal: 8.49s\tremaining: 1.53s\n",
      "847:\tlearn: 0.7121649\ttotal: 8.5s\tremaining: 1.52s\n",
      "848:\tlearn: 0.7119682\ttotal: 8.51s\tremaining: 1.51s\n",
      "849:\tlearn: 0.7117103\ttotal: 8.52s\tremaining: 1.5s\n",
      "850:\tlearn: 0.7114906\ttotal: 8.53s\tremaining: 1.49s\n",
      "851:\tlearn: 0.7112770\ttotal: 8.55s\tremaining: 1.49s\n",
      "852:\tlearn: 0.7111417\ttotal: 8.56s\tremaining: 1.47s\n",
      "853:\tlearn: 0.7108069\ttotal: 8.57s\tremaining: 1.46s\n",
      "854:\tlearn: 0.7106293\ttotal: 8.57s\tremaining: 1.45s\n",
      "855:\tlearn: 0.7104833\ttotal: 8.58s\tremaining: 1.44s\n",
      "856:\tlearn: 0.7101884\ttotal: 8.59s\tremaining: 1.43s\n",
      "857:\tlearn: 0.7099587\ttotal: 8.6s\tremaining: 1.42s\n",
      "858:\tlearn: 0.7097855\ttotal: 8.61s\tremaining: 1.41s\n",
      "859:\tlearn: 0.7095468\ttotal: 8.62s\tremaining: 1.4s\n",
      "860:\tlearn: 0.7091312\ttotal: 8.63s\tremaining: 1.39s\n",
      "861:\tlearn: 0.7090064\ttotal: 8.63s\tremaining: 1.38s\n",
      "862:\tlearn: 0.7087415\ttotal: 8.64s\tremaining: 1.37s\n",
      "863:\tlearn: 0.7084793\ttotal: 8.65s\tremaining: 1.36s\n",
      "864:\tlearn: 0.7082947\ttotal: 8.66s\tremaining: 1.35s\n",
      "865:\tlearn: 0.7081464\ttotal: 8.67s\tremaining: 1.34s\n",
      "866:\tlearn: 0.7079074\ttotal: 8.68s\tremaining: 1.33s\n",
      "867:\tlearn: 0.7077318\ttotal: 8.69s\tremaining: 1.32s\n",
      "868:\tlearn: 0.7075750\ttotal: 8.7s\tremaining: 1.31s\n",
      "869:\tlearn: 0.7074308\ttotal: 8.7s\tremaining: 1.3s\n",
      "870:\tlearn: 0.7072614\ttotal: 8.71s\tremaining: 1.29s\n",
      "871:\tlearn: 0.7069322\ttotal: 8.72s\tremaining: 1.28s\n",
      "872:\tlearn: 0.7066903\ttotal: 8.73s\tremaining: 1.27s\n",
      "873:\tlearn: 0.7064602\ttotal: 8.74s\tremaining: 1.26s\n",
      "874:\tlearn: 0.7061382\ttotal: 8.75s\tremaining: 1.25s\n",
      "875:\tlearn: 0.7059562\ttotal: 8.76s\tremaining: 1.24s\n",
      "876:\tlearn: 0.7057616\ttotal: 8.77s\tremaining: 1.23s\n",
      "877:\tlearn: 0.7056624\ttotal: 8.78s\tremaining: 1.22s\n",
      "878:\tlearn: 0.7054045\ttotal: 8.79s\tremaining: 1.21s\n",
      "879:\tlearn: 0.7050997\ttotal: 8.8s\tremaining: 1.2s\n",
      "880:\tlearn: 0.7048745\ttotal: 8.81s\tremaining: 1.19s\n",
      "881:\tlearn: 0.7046744\ttotal: 8.82s\tremaining: 1.18s\n",
      "882:\tlearn: 0.7043336\ttotal: 8.82s\tremaining: 1.17s\n",
      "883:\tlearn: 0.7040170\ttotal: 8.83s\tremaining: 1.16s\n",
      "884:\tlearn: 0.7038652\ttotal: 8.84s\tremaining: 1.15s\n",
      "885:\tlearn: 0.7036431\ttotal: 8.85s\tremaining: 1.14s\n",
      "886:\tlearn: 0.7035510\ttotal: 8.86s\tremaining: 1.13s\n",
      "887:\tlearn: 0.7033721\ttotal: 8.87s\tremaining: 1.12s\n",
      "888:\tlearn: 0.7032457\ttotal: 8.88s\tremaining: 1.11s\n",
      "889:\tlearn: 0.7030219\ttotal: 8.89s\tremaining: 1.1s\n",
      "890:\tlearn: 0.7027315\ttotal: 8.89s\tremaining: 1.09s\n",
      "891:\tlearn: 0.7025507\ttotal: 8.9s\tremaining: 1.08s\n",
      "892:\tlearn: 0.7022881\ttotal: 8.91s\tremaining: 1.07s\n",
      "893:\tlearn: 0.7020719\ttotal: 8.92s\tremaining: 1.06s\n",
      "894:\tlearn: 0.7019640\ttotal: 8.93s\tremaining: 1.05s\n",
      "895:\tlearn: 0.7018691\ttotal: 8.95s\tremaining: 1.04s\n",
      "896:\tlearn: 0.7017983\ttotal: 8.95s\tremaining: 1.03s\n",
      "897:\tlearn: 0.7016081\ttotal: 8.96s\tremaining: 1.02s\n",
      "898:\tlearn: 0.7014185\ttotal: 8.98s\tremaining: 1.01s\n",
      "899:\tlearn: 0.7013440\ttotal: 8.99s\tremaining: 999ms\n",
      "900:\tlearn: 0.7011994\ttotal: 9s\tremaining: 989ms\n",
      "901:\tlearn: 0.7010299\ttotal: 9.01s\tremaining: 978ms\n",
      "902:\tlearn: 0.7008474\ttotal: 9.02s\tremaining: 969ms\n",
      "903:\tlearn: 0.7006019\ttotal: 9.03s\tremaining: 959ms\n",
      "904:\tlearn: 0.7003498\ttotal: 9.04s\tremaining: 949ms\n",
      "905:\tlearn: 0.6999893\ttotal: 9.04s\tremaining: 938ms\n",
      "906:\tlearn: 0.6997037\ttotal: 9.05s\tremaining: 929ms\n",
      "907:\tlearn: 0.6995300\ttotal: 9.06s\tremaining: 919ms\n",
      "908:\tlearn: 0.6993056\ttotal: 9.09s\tremaining: 910ms\n",
      "909:\tlearn: 0.6990457\ttotal: 9.12s\tremaining: 902ms\n",
      "910:\tlearn: 0.6987679\ttotal: 9.14s\tremaining: 893ms\n",
      "911:\tlearn: 0.6985856\ttotal: 9.16s\tremaining: 884ms\n",
      "912:\tlearn: 0.6983798\ttotal: 9.17s\tremaining: 874ms\n",
      "913:\tlearn: 0.6982623\ttotal: 9.19s\tremaining: 865ms\n",
      "914:\tlearn: 0.6980265\ttotal: 9.21s\tremaining: 855ms\n",
      "915:\tlearn: 0.6978497\ttotal: 9.23s\tremaining: 846ms\n",
      "916:\tlearn: 0.6975642\ttotal: 9.26s\tremaining: 838ms\n",
      "917:\tlearn: 0.6973808\ttotal: 9.27s\tremaining: 828ms\n",
      "918:\tlearn: 0.6971667\ttotal: 9.29s\tremaining: 819ms\n",
      "919:\tlearn: 0.6969751\ttotal: 9.31s\tremaining: 809ms\n",
      "920:\tlearn: 0.6967784\ttotal: 9.32s\tremaining: 800ms\n",
      "921:\tlearn: 0.6966747\ttotal: 9.34s\tremaining: 790ms\n",
      "922:\tlearn: 0.6964537\ttotal: 9.36s\tremaining: 781ms\n",
      "923:\tlearn: 0.6962003\ttotal: 9.37s\tremaining: 771ms\n",
      "924:\tlearn: 0.6960492\ttotal: 9.39s\tremaining: 761ms\n",
      "925:\tlearn: 0.6959157\ttotal: 9.41s\tremaining: 752ms\n",
      "926:\tlearn: 0.6956929\ttotal: 9.43s\tremaining: 742ms\n",
      "927:\tlearn: 0.6955021\ttotal: 9.44s\tremaining: 732ms\n",
      "928:\tlearn: 0.6952720\ttotal: 9.46s\tremaining: 723ms\n",
      "929:\tlearn: 0.6951008\ttotal: 9.47s\tremaining: 713ms\n",
      "930:\tlearn: 0.6949162\ttotal: 9.49s\tremaining: 703ms\n",
      "931:\tlearn: 0.6947594\ttotal: 9.5s\tremaining: 693ms\n",
      "932:\tlearn: 0.6946089\ttotal: 9.52s\tremaining: 684ms\n",
      "933:\tlearn: 0.6944193\ttotal: 9.53s\tremaining: 673ms\n",
      "934:\tlearn: 0.6943026\ttotal: 9.54s\tremaining: 663ms\n",
      "935:\tlearn: 0.6941321\ttotal: 9.55s\tremaining: 653ms\n",
      "936:\tlearn: 0.6938863\ttotal: 9.56s\tremaining: 643ms\n",
      "937:\tlearn: 0.6937518\ttotal: 9.57s\tremaining: 633ms\n",
      "938:\tlearn: 0.6935688\ttotal: 9.59s\tremaining: 623ms\n",
      "939:\tlearn: 0.6932672\ttotal: 9.6s\tremaining: 613ms\n",
      "940:\tlearn: 0.6930545\ttotal: 9.62s\tremaining: 603ms\n",
      "941:\tlearn: 0.6930015\ttotal: 9.64s\tremaining: 594ms\n",
      "942:\tlearn: 0.6927102\ttotal: 9.66s\tremaining: 584ms\n",
      "943:\tlearn: 0.6925534\ttotal: 9.67s\tremaining: 574ms\n",
      "944:\tlearn: 0.6924399\ttotal: 9.7s\tremaining: 564ms\n",
      "945:\tlearn: 0.6923185\ttotal: 9.71s\tremaining: 554ms\n",
      "946:\tlearn: 0.6921074\ttotal: 9.71s\tremaining: 544ms\n",
      "947:\tlearn: 0.6920219\ttotal: 9.72s\tremaining: 533ms\n",
      "948:\tlearn: 0.6918627\ttotal: 9.74s\tremaining: 523ms\n",
      "949:\tlearn: 0.6913605\ttotal: 9.75s\tremaining: 513ms\n",
      "950:\tlearn: 0.6911724\ttotal: 9.77s\tremaining: 503ms\n",
      "951:\tlearn: 0.6910046\ttotal: 9.78s\tremaining: 493ms\n",
      "952:\tlearn: 0.6908924\ttotal: 9.8s\tremaining: 483ms\n",
      "953:\tlearn: 0.6904962\ttotal: 9.81s\tremaining: 473ms\n",
      "954:\tlearn: 0.6902854\ttotal: 9.82s\tremaining: 463ms\n",
      "955:\tlearn: 0.6900823\ttotal: 9.84s\tremaining: 453ms\n",
      "956:\tlearn: 0.6899533\ttotal: 9.85s\tremaining: 442ms\n",
      "957:\tlearn: 0.6897637\ttotal: 9.86s\tremaining: 432ms\n",
      "958:\tlearn: 0.6896129\ttotal: 9.87s\tremaining: 422ms\n",
      "959:\tlearn: 0.6894702\ttotal: 9.88s\tremaining: 412ms\n",
      "960:\tlearn: 0.6893720\ttotal: 9.89s\tremaining: 401ms\n",
      "961:\tlearn: 0.6892430\ttotal: 9.91s\tremaining: 391ms\n",
      "962:\tlearn: 0.6889971\ttotal: 9.92s\tremaining: 381ms\n",
      "963:\tlearn: 0.6886935\ttotal: 9.93s\tremaining: 371ms\n",
      "964:\tlearn: 0.6885870\ttotal: 9.95s\tremaining: 361ms\n",
      "965:\tlearn: 0.6884484\ttotal: 9.96s\tremaining: 351ms\n",
      "966:\tlearn: 0.6883242\ttotal: 9.97s\tremaining: 340ms\n",
      "967:\tlearn: 0.6881880\ttotal: 9.98s\tremaining: 330ms\n",
      "968:\tlearn: 0.6880909\ttotal: 9.98s\tremaining: 319ms\n",
      "969:\tlearn: 0.6879767\ttotal: 9.99s\tremaining: 309ms\n",
      "970:\tlearn: 0.6878879\ttotal: 10s\tremaining: 299ms\n",
      "971:\tlearn: 0.6877479\ttotal: 10s\tremaining: 288ms\n",
      "972:\tlearn: 0.6875638\ttotal: 10s\tremaining: 278ms\n",
      "973:\tlearn: 0.6874558\ttotal: 10s\tremaining: 268ms\n",
      "974:\tlearn: 0.6871821\ttotal: 10s\tremaining: 257ms\n",
      "975:\tlearn: 0.6870644\ttotal: 10.1s\tremaining: 247ms\n",
      "976:\tlearn: 0.6867917\ttotal: 10.1s\tremaining: 237ms\n",
      "977:\tlearn: 0.6865955\ttotal: 10.1s\tremaining: 227ms\n",
      "978:\tlearn: 0.6864305\ttotal: 10.1s\tremaining: 216ms\n",
      "979:\tlearn: 0.6862344\ttotal: 10.1s\tremaining: 206ms\n",
      "980:\tlearn: 0.6859437\ttotal: 10.1s\tremaining: 196ms\n",
      "981:\tlearn: 0.6857920\ttotal: 10.1s\tremaining: 185ms\n",
      "982:\tlearn: 0.6855814\ttotal: 10.1s\tremaining: 175ms\n",
      "983:\tlearn: 0.6853750\ttotal: 10.1s\tremaining: 165ms\n",
      "984:\tlearn: 0.6852030\ttotal: 10.1s\tremaining: 155ms\n",
      "985:\tlearn: 0.6849337\ttotal: 10.2s\tremaining: 144ms\n",
      "986:\tlearn: 0.6848093\ttotal: 10.2s\tremaining: 134ms\n",
      "987:\tlearn: 0.6846022\ttotal: 10.2s\tremaining: 124ms\n",
      "988:\tlearn: 0.6844906\ttotal: 10.2s\tremaining: 113ms\n",
      "989:\tlearn: 0.6842198\ttotal: 10.2s\tremaining: 103ms\n",
      "990:\tlearn: 0.6840872\ttotal: 10.2s\tremaining: 92.7ms\n",
      "991:\tlearn: 0.6838534\ttotal: 10.2s\tremaining: 82.4ms\n",
      "992:\tlearn: 0.6837077\ttotal: 10.2s\tremaining: 72.1ms\n",
      "993:\tlearn: 0.6835026\ttotal: 10.2s\tremaining: 61.8ms\n",
      "994:\tlearn: 0.6832543\ttotal: 10.2s\tremaining: 51.5ms\n",
      "995:\tlearn: 0.6830576\ttotal: 10.3s\tremaining: 41.2ms\n",
      "996:\tlearn: 0.6828571\ttotal: 10.3s\tremaining: 30.9ms\n",
      "997:\tlearn: 0.6827717\ttotal: 10.3s\tremaining: 20.6ms\n",
      "998:\tlearn: 0.6826742\ttotal: 10.3s\tremaining: 10.3ms\n",
      "999:\tlearn: 0.6824522\ttotal: 10.3s\tremaining: 0us\n"
     ]
    },
    {
     "data": {
      "text/plain": [
       "<catboost.core.CatBoostClassifier at 0x151d4f8dc08>"
      ]
     },
     "execution_count": 192,
     "metadata": {},
     "output_type": "execute_result"
    }
   ],
   "source": [
    "from catboost import CatBoostClassifier\n",
    "catb = CatBoostClassifier()\n",
    "#Build the Model:\n",
    "catb.fit(X_train,y_train)"
   ]
  },
  {
   "cell_type": "code",
   "execution_count": 193,
   "metadata": {},
   "outputs": [],
   "source": [
    "#Predict on X_train itself to verify with the actual result:\n",
    "pred_X_train_catb = catb.predict(X_train)"
   ]
  },
  {
   "cell_type": "code",
   "execution_count": 194,
   "metadata": {},
   "outputs": [],
   "source": [
    "#Predict on Validation Data which is (X_test) and actual_test data:\n",
    "pred_X_test_catb = catb.predict(X_test)\n",
    "pred_test_catb =catb.predict(test_final)"
   ]
  },
  {
   "cell_type": "code",
   "execution_count": 195,
   "metadata": {},
   "outputs": [
    {
     "name": "stdout",
     "output_type": "stream",
     "text": [
      "--------------------------Result on Train Data for Catb:-----------\n",
      "              precision    recall  f1-score   support\n",
      "\n",
      "           A       0.73      0.75      0.74      1540\n",
      "           B       0.62      0.72      0.67      1270\n",
      "           C       0.77      0.73      0.75      1681\n",
      "           D       0.87      0.81      0.84      1963\n",
      "\n",
      "    accuracy                           0.76      6454\n",
      "   macro avg       0.75      0.75      0.75      6454\n",
      "weighted avg       0.76      0.76      0.76      6454\n",
      "\n",
      "--------------------------Result on Validation Data Catb:------\n",
      "              precision    recall  f1-score   support\n",
      "\n",
      "           A       0.45      0.47      0.46       384\n",
      "           B       0.32      0.42      0.37       298\n",
      "           C       0.58      0.50      0.54       434\n",
      "           D       0.69      0.61      0.65       498\n",
      "\n",
      "    accuracy                           0.51      1614\n",
      "   macro avg       0.51      0.50      0.50      1614\n",
      "weighted avg       0.53      0.51      0.52      1614\n",
      "\n"
     ]
    }
   ],
   "source": [
    "#Check the Metrics on X_train using which model was built:\n",
    "from sklearn.metrics import classification_report,accuracy_score\n",
    "result_X_train_catb = classification_report(pred_X_train_catb,y_train)\n",
    "result_X_test_catb = classification_report(pred_X_test_catb,y_test)\n",
    "print(\"--------------------------Result on Train Data for Catb:-----------\")\n",
    "print(result_X_train_catb)\n",
    "print(\"--------------------------Result on Validation Data Catb:------\")\n",
    "print(result_X_test_catb)\n",
    "#classification_report()"
   ]
  },
  {
   "cell_type": "code",
   "execution_count": 196,
   "metadata": {},
   "outputs": [],
   "source": [
    "#Concat the test_employee_id and pred_test_catb:\n",
    "Sub_catb = pd.concat([test_ID,pd.DataFrame(pred_test_catb)],axis=1)"
   ]
  },
  {
   "cell_type": "code",
   "execution_count": 197,
   "metadata": {},
   "outputs": [
    {
     "data": {
      "text/html": [
       "<div>\n",
       "<style scoped>\n",
       "    .dataframe tbody tr th:only-of-type {\n",
       "        vertical-align: middle;\n",
       "    }\n",
       "\n",
       "    .dataframe tbody tr th {\n",
       "        vertical-align: top;\n",
       "    }\n",
       "\n",
       "    .dataframe thead th {\n",
       "        text-align: right;\n",
       "    }\n",
       "</style>\n",
       "<table border=\"1\" class=\"dataframe\">\n",
       "  <thead>\n",
       "    <tr style=\"text-align: right;\">\n",
       "      <th></th>\n",
       "      <th>ID</th>\n",
       "      <th>0</th>\n",
       "    </tr>\n",
       "  </thead>\n",
       "  <tbody>\n",
       "    <tr>\n",
       "      <th>0</th>\n",
       "      <td>458989</td>\n",
       "      <td>B</td>\n",
       "    </tr>\n",
       "    <tr>\n",
       "      <th>1</th>\n",
       "      <td>458994</td>\n",
       "      <td>C</td>\n",
       "    </tr>\n",
       "    <tr>\n",
       "      <th>2</th>\n",
       "      <td>458996</td>\n",
       "      <td>B</td>\n",
       "    </tr>\n",
       "    <tr>\n",
       "      <th>3</th>\n",
       "      <td>459000</td>\n",
       "      <td>C</td>\n",
       "    </tr>\n",
       "    <tr>\n",
       "      <th>4</th>\n",
       "      <td>459001</td>\n",
       "      <td>D</td>\n",
       "    </tr>\n",
       "  </tbody>\n",
       "</table>\n",
       "</div>"
      ],
      "text/plain": [
       "       ID  0\n",
       "0  458989  B\n",
       "1  458994  C\n",
       "2  458996  B\n",
       "3  459000  C\n",
       "4  459001  D"
      ]
     },
     "execution_count": 197,
     "metadata": {},
     "output_type": "execute_result"
    }
   ],
   "source": [
    "Sub_catb.head()"
   ]
  },
  {
   "cell_type": "code",
   "execution_count": 198,
   "metadata": {},
   "outputs": [],
   "source": [
    "Sub_catb.rename(columns={0:'Segmentation'},inplace=True)"
   ]
  },
  {
   "cell_type": "code",
   "execution_count": 199,
   "metadata": {},
   "outputs": [
    {
     "data": {
      "text/html": [
       "<div>\n",
       "<style scoped>\n",
       "    .dataframe tbody tr th:only-of-type {\n",
       "        vertical-align: middle;\n",
       "    }\n",
       "\n",
       "    .dataframe tbody tr th {\n",
       "        vertical-align: top;\n",
       "    }\n",
       "\n",
       "    .dataframe thead th {\n",
       "        text-align: right;\n",
       "    }\n",
       "</style>\n",
       "<table border=\"1\" class=\"dataframe\">\n",
       "  <thead>\n",
       "    <tr style=\"text-align: right;\">\n",
       "      <th></th>\n",
       "      <th>ID</th>\n",
       "      <th>Segmentation</th>\n",
       "    </tr>\n",
       "  </thead>\n",
       "  <tbody>\n",
       "    <tr>\n",
       "      <th>0</th>\n",
       "      <td>458989</td>\n",
       "      <td>B</td>\n",
       "    </tr>\n",
       "    <tr>\n",
       "      <th>1</th>\n",
       "      <td>458994</td>\n",
       "      <td>C</td>\n",
       "    </tr>\n",
       "    <tr>\n",
       "      <th>2</th>\n",
       "      <td>458996</td>\n",
       "      <td>B</td>\n",
       "    </tr>\n",
       "    <tr>\n",
       "      <th>3</th>\n",
       "      <td>459000</td>\n",
       "      <td>C</td>\n",
       "    </tr>\n",
       "    <tr>\n",
       "      <th>4</th>\n",
       "      <td>459001</td>\n",
       "      <td>D</td>\n",
       "    </tr>\n",
       "  </tbody>\n",
       "</table>\n",
       "</div>"
      ],
      "text/plain": [
       "       ID Segmentation\n",
       "0  458989            B\n",
       "1  458994            C\n",
       "2  458996            B\n",
       "3  459000            C\n",
       "4  459001            D"
      ]
     },
     "execution_count": 199,
     "metadata": {},
     "output_type": "execute_result"
    }
   ],
   "source": [
    "Sub_catb.head()"
   ]
  },
  {
   "cell_type": "code",
   "execution_count": 200,
   "metadata": {},
   "outputs": [],
   "source": [
    "Sub_catb.to_csv(\"12.Sub_catb.csv\",index=False)"
   ]
  },
  {
   "cell_type": "code",
   "execution_count": 201,
   "metadata": {},
   "outputs": [],
   "source": [
    "#Result on Portal:\n",
    "#Your score for this submission is : 0.5948002536461636"
   ]
  }
 ],
 "metadata": {
  "kernelspec": {
   "display_name": "Python 3",
   "language": "python",
   "name": "python3"
  },
  "language_info": {
   "codemirror_mode": {
    "name": "ipython",
    "version": 3
   },
   "file_extension": ".py",
   "mimetype": "text/x-python",
   "name": "python",
   "nbconvert_exporter": "python",
   "pygments_lexer": "ipython3",
   "version": "3.7.7"
  }
 },
 "nbformat": 4,
 "nbformat_minor": 4
}
